{
 "cells": [
  {
   "cell_type": "markdown",
   "id": "7dbb5057",
   "metadata": {},
   "source": [
    "## B: Sử dụng API để thu thập dữ liệu\n",
    "---"
   ]
  },
  {
   "cell_type": "markdown",
   "id": "d8e7c56d",
   "metadata": {},
   "source": [
    "### ` Thư viên cần thiết` "
   ]
  },
  {
   "cell_type": "code",
   "execution_count": 1,
   "id": "4447ea20",
   "metadata": {},
   "outputs": [],
   "source": [
    "from selenium import webdriver\n",
    "from selenium.webdriver.common.by import By\n",
    "from selenium.webdriver.chrome.service import Service\n",
    "import os\n",
    "import time\n",
    "import requests\n",
    "import math\n",
    "import pandas as pd"
   ]
  },
  {
   "cell_type": "markdown",
   "id": "110cf778",
   "metadata": {},
   "source": [
    "### 1. Lấy giá trị của client ID từ việc inspect của trình duyệt bằng việc sử dụng selenium\n",
    "- Vì trang SoundClound không cho đăng kí ClientID , ta chỉ lấy ClientID bằng cách lấy ID từ việc Inspect trình duyệt soundclound, và Client ID được cấp cho việc sử dụng trên google chrome là tạm thời\n",
    "- Client ID nằm trong thẻ div với id = `g_id_intermediate_iframe`\n",
    "- Ta sẽ sử dụng selenium để mở google chrome để có thể inpect lấy được file hmtl để có thể try xuất client ID"
   ]
  },
  {
   "cell_type": "code",
   "execution_count": 101,
   "id": "893e47f4",
   "metadata": {},
   "outputs": [],
   "source": [
    "Client_ID = ''"
   ]
  },
  {
   "cell_type": "code",
   "execution_count": 102,
   "id": "d1f44487",
   "metadata": {},
   "outputs": [],
   "source": [
    "# get path\n",
    "Path = os.getcwd() + '\\chromedriver.exe'\n",
    "service = Service(Path)\n",
    "driver = webdriver.Chrome(service=service)\n",
    "\n",
    "# \n",
    "driver.get(\"https://soundcloud.com/\")\n",
    "L = driver.find_element(By.ID, 'g_id_intermediate_iframe')\n",
    "Link = L.get_attribute('data-src')\n",
    "\n",
    "driver.quit()"
   ]
  },
  {
   "cell_type": "code",
   "execution_count": 103,
   "id": "1a0fac9c",
   "metadata": {},
   "outputs": [
    {
     "data": {
      "text/plain": [
       "'FjnXkiGFvyaVIYtXadMm9pqIDawoxzUW'"
      ]
     },
     "execution_count": 103,
     "metadata": {},
     "output_type": "execute_result"
    }
   ],
   "source": [
    "client_ID = Link[48:80]\n",
    "client_ID"
   ]
  },
  {
   "cell_type": "markdown",
   "id": "bac18eef",
   "metadata": {},
   "source": [
    "### 2. Sử dụng API để có thể khai thác dữ liệu từ trang soundclound \n",
    "- https://api-v2.soundcloud.com/users/< entity_id>?client_id=< client_id>\n",
    "- https://api-v2.soundcloud.com/users/< entity_id>/tracks?client_id=< client_id>\n",
    "- https://api-v2.soundcloud.com/users/< entity_id>/playlists?client_id=< client_id>"
   ]
  },
  {
   "cell_type": "markdown",
   "id": "ac644caa",
   "metadata": {},
   "source": [
    "- Ta sẽ sử dụng 3 dang API trên để khai thác dữ liệu ( users, tracks, playlists ) , Qua 3 API đó dữ liệu ta khai thác sẽ tạo được sự liên quan giữa 3 file data csv với nhau, dẫn đên sự thuận tiên cho việc phân tích."
   ]
  },
  {
   "cell_type": "markdown",
   "id": "e3436644",
   "metadata": {},
   "source": [
    "###### a. Thiết lập các thông số cần thiết cho việc sử dụng API\n",
    "- len_record: quy định số lượng user được lấy về và lưu vào users.csv\n",
    "- sleep_time: thời gian chương trình sleep sau để tiếp tục thực hiện request lại vì do hết số lương requests được trong vòng 1 phút"
   ]
  },
  {
   "cell_type": "code",
   "execution_count": 105,
   "id": "c0bec863",
   "metadata": {},
   "outputs": [],
   "source": [
    "len_record = 1500\n",
    "# ta sẽ sleep time = 1s vì sleep time lớn sẽ làm cho chương trình chạy chậm\n",
    "sleep_time = 1"
   ]
  },
  {
   "cell_type": "markdown",
   "id": "33dbc13c",
   "metadata": {},
   "source": [
    "###### b. Tiến hành thu thập dữ liệu và lưu dữ liệu vào 3 file (users.csv, tracks.csv, playlist.csv)"
   ]
  },
  {
   "cell_type": "markdown",
   "id": "70b13d13",
   "metadata": {},
   "source": [
    "- Hàm `CollectData` dùng để gọi các API trên và thu thập dữ liệu \n",
    "  + Dữ liệu truyền vào là tên 3 file cvs sẽ được lưu thông tin theo thứ tự user, track và playlist"
   ]
  },
  {
   "cell_type": "code",
   "execution_count": 106,
   "id": "3ecb5ef0",
   "metadata": {},
   "outputs": [],
   "source": [
    "def collectData(FileUser, FileTrack, FilePlaylist):\n",
    "    # Thiết lập 3 list để có thể lưu data\n",
    "    List_data_user = []\n",
    "    List_data_track = []\n",
    "    List_data_playlist = []\n",
    "    \n",
    "    # tạo header để tránh lỗi 403 do requests quá nhiều lần\n",
    "    headers = {'user-Agent': 'Mozilla/5.0'}\n",
    "    \n",
    "    Count = 0\n",
    "    c = 0\n",
    "    \n",
    "    while (Count < len_record):\n",
    "        c = c + 2\n",
    "        URL_USER = f'https://api-v2.soundcloud.com/users/{c}?client_id={client_ID}'\n",
    "        req_user = requests.get(URL_USER, headers=headers)\n",
    "        \n",
    "        if (req_user.ok == True):\n",
    "            Count = Count + 1\n",
    "            List_data_user.append(req_user.json())\n",
    "            \n",
    "            # khi thưc hiện lấy dữ liệu thành công từ user với ID = c \n",
    "            ## ta tiếp tục việc lấy data về track và playlists của user đó thông qua ID của họ\n",
    "            \n",
    "            #### Tracks\n",
    "            URL_TRACK = f'https://api-v2.soundcloud.com/users/{c}/tracks?client_id={client_ID}'\n",
    "            req_track = requests.get(URL_TRACK, headers=headers)\n",
    "            \n",
    "            if (req_track.ok == True):\n",
    "                Data_track = req_track.json()\n",
    "                \n",
    "                # xóa file user trong track chỉ dữ lại user_id\n",
    "                for e in Data_track[\"collection\"]:\n",
    "                    if 'user' in e:\n",
    "                        del e['user']\n",
    "                    \n",
    "                List_data_track.extend(Data_track[\"collection\"])\n",
    "            else:\n",
    "                time.sleep(sleep_time)\n",
    "                \n",
    "            \n",
    "            #### Playlists\n",
    "            URL_PLAYLIST = f'https://api-v2.soundcloud.com/users/{c}/playlists?client_id={client_ID}'\n",
    "            req_playlist = requests.get(URL_PLAYLIST, headers=headers)\n",
    "            \n",
    "            ## xử lí vấn đề: tracks và user trong playlist\n",
    "            if (req_playlist.ok == True):\n",
    "                Data_playlist = req_playlist.json()\n",
    "                \n",
    "                # xoá dữ liệu user và tập track trong playlists\n",
    "                for data in Data_playlist[\"collection\"]:\n",
    "                    # xoá data của user\n",
    "                    if \"user\" in data:\n",
    "                        del data[\"user\"]\n",
    "                    \n",
    "                    # Xử lí tracks\n",
    "                    if \"tracks\" in data:\n",
    "                        _str = \"\"\n",
    "                        for i in range(0, data[\"track_count\"]):\n",
    "                            if (i < data[\"track_count\"] - 1):\n",
    "                                _str = _str + str(data[\"tracks\"][i][\"id\"]) + \",\"\n",
    "                            else:\n",
    "                                _str = _str + str(data[\"tracks\"][i][\"id\"])\n",
    "                        \n",
    "                        del data[\"tracks\"]\n",
    "                        data[\"tracks\"] = _str\n",
    "                \n",
    "                List_data_playlist.extend(Data_playlist[\"collection\"])\n",
    "                \n",
    "            else:\n",
    "                time.sleep(sleep_time)    \n",
    "            \n",
    "        else:\n",
    "            time.sleep(sleep_time)\n",
    "    \n",
    "    # ghi dữ liệu vào file csv\n",
    "    # - user.csv\n",
    "    df = pd.json_normalize(List_data_user)\n",
    "    df = df.reset_index()\n",
    "    df.to_csv(FileUser, sep=\"\\t\", index=False, header=True, encoding='utf-8')\n",
    "    \n",
    "    # - track.csv\n",
    "    df_track = pd.json_normalize(List_data_track)\n",
    "    df_track = df_track.reset_index()\n",
    "    df_track.to_csv(FileTrack, sep=\"\\t\", index=False, header=True, encoding='utf-8')\n",
    "    \n",
    "    #- Playlist.csv\n",
    "    df = pd.json_normalize(List_data_playlist)\n",
    "    df = df.reset_index()\n",
    "    df.to_csv(FilePlaylist, sep=\"\\t\", index=False, header=True, encoding='utf-8')\n",
    "    \n",
    "    print(\"Done!\")\n",
    "            "
   ]
  },
  {
   "cell_type": "markdown",
   "id": "1f8ae006",
   "metadata": {},
   "source": [
    "- Chạy hàm `collectData` để tiến hành lấy dữ liệu và lưu vào 3 file csv"
   ]
  },
  {
   "cell_type": "code",
   "execution_count": null,
   "id": "de6ba1c5",
   "metadata": {},
   "outputs": [],
   "source": [
    "collectData(\"user.csv\", \"track.csv\", \"playlist.csv\")"
   ]
  },
  {
   "cell_type": "markdown",
   "id": "857610d2",
   "metadata": {},
   "source": [
    "- Xem kết quả trong file `user.csv`: 5 records đầu tiên"
   ]
  },
  {
   "cell_type": "code",
   "execution_count": 2,
   "id": "f5b7ecc0",
   "metadata": {},
   "outputs": [
    {
     "data": {
      "text/html": [
       "<div>\n",
       "<style scoped>\n",
       "    .dataframe tbody tr th:only-of-type {\n",
       "        vertical-align: middle;\n",
       "    }\n",
       "\n",
       "    .dataframe tbody tr th {\n",
       "        vertical-align: top;\n",
       "    }\n",
       "\n",
       "    .dataframe thead th {\n",
       "        text-align: right;\n",
       "    }\n",
       "</style>\n",
       "<table border=\"1\" class=\"dataframe\">\n",
       "  <thead>\n",
       "    <tr style=\"text-align: right;\">\n",
       "      <th></th>\n",
       "      <th>index</th>\n",
       "      <th>avatar_url</th>\n",
       "      <th>city</th>\n",
       "      <th>comments_count</th>\n",
       "      <th>country_code</th>\n",
       "      <th>created_at</th>\n",
       "      <th>creator_subscriptions</th>\n",
       "      <th>description</th>\n",
       "      <th>followers_count</th>\n",
       "      <th>followings_count</th>\n",
       "      <th>...</th>\n",
       "      <th>station_permalink</th>\n",
       "      <th>creator_subscription.product.id</th>\n",
       "      <th>visuals.urn</th>\n",
       "      <th>visuals.enabled</th>\n",
       "      <th>visuals.visuals</th>\n",
       "      <th>visuals.tracking</th>\n",
       "      <th>badges.pro</th>\n",
       "      <th>badges.pro_unlimited</th>\n",
       "      <th>badges.verified</th>\n",
       "      <th>visuals</th>\n",
       "    </tr>\n",
       "  </thead>\n",
       "  <tbody>\n",
       "    <tr>\n",
       "      <th>0</th>\n",
       "      <td>0</td>\n",
       "      <td>https://i1.sndcdn.com/avatars-LQHwEEFP8SciWWEl...</td>\n",
       "      <td>Berlin</td>\n",
       "      <td>384</td>\n",
       "      <td>DE</td>\n",
       "      <td>2007-07-20T16:07:00Z</td>\n",
       "      <td>[{'product': {'id': 'creator-pro-unlimited'}}]</td>\n",
       "      <td>Founder &amp; CEO Dance. Founder SoundCloud and ar...</td>\n",
       "      <td>45706</td>\n",
       "      <td>2000</td>\n",
       "      <td>...</td>\n",
       "      <td>artist-stations:2</td>\n",
       "      <td>creator-pro-unlimited</td>\n",
       "      <td>soundcloud:users:2</td>\n",
       "      <td>True</td>\n",
       "      <td>[{'urn': 'soundcloud:visuals:105136722', 'entr...</td>\n",
       "      <td>NaN</td>\n",
       "      <td>False</td>\n",
       "      <td>True</td>\n",
       "      <td>False</td>\n",
       "      <td>NaN</td>\n",
       "    </tr>\n",
       "    <tr>\n",
       "      <th>1</th>\n",
       "      <td>1</td>\n",
       "      <td>https://i1.sndcdn.com/avatars-000019102368-0eu...</td>\n",
       "      <td>Stockholm</td>\n",
       "      <td>31</td>\n",
       "      <td>DE</td>\n",
       "      <td>2007-07-20T17:54:00Z</td>\n",
       "      <td>[{'product': {'id': 'free'}}]</td>\n",
       "      <td>Opps, I can change Johans description. /emil</td>\n",
       "      <td>8325</td>\n",
       "      <td>139</td>\n",
       "      <td>...</td>\n",
       "      <td>artist-stations:6</td>\n",
       "      <td>free</td>\n",
       "      <td>NaN</td>\n",
       "      <td>NaN</td>\n",
       "      <td>NaN</td>\n",
       "      <td>NaN</td>\n",
       "      <td>False</td>\n",
       "      <td>False</td>\n",
       "      <td>False</td>\n",
       "      <td>NaN</td>\n",
       "    </tr>\n",
       "    <tr>\n",
       "      <th>2</th>\n",
       "      <td>2</td>\n",
       "      <td>https://i1.sndcdn.com/avatars-000208970259-vng...</td>\n",
       "      <td>Berlin/NYC</td>\n",
       "      <td>697</td>\n",
       "      <td>DE</td>\n",
       "      <td>2007-07-25T23:08:00Z</td>\n",
       "      <td>[{'product': {'id': 'creator-pro-unlimited'}}]</td>\n",
       "      <td>Hi, my name is Alex. I like Sound. Founder &amp; C...</td>\n",
       "      <td>180218</td>\n",
       "      <td>1710</td>\n",
       "      <td>...</td>\n",
       "      <td>artist-stations:8</td>\n",
       "      <td>creator-pro-unlimited</td>\n",
       "      <td>soundcloud:users:8</td>\n",
       "      <td>True</td>\n",
       "      <td>[{'urn': 'soundcloud:visuals:3142', 'entry_tim...</td>\n",
       "      <td>NaN</td>\n",
       "      <td>False</td>\n",
       "      <td>True</td>\n",
       "      <td>False</td>\n",
       "      <td>NaN</td>\n",
       "    </tr>\n",
       "    <tr>\n",
       "      <th>3</th>\n",
       "      <td>3</td>\n",
       "      <td>https://a1.sndcdn.com/images/default_avatar_la...</td>\n",
       "      <td>Stockholm</td>\n",
       "      <td>5</td>\n",
       "      <td>SE</td>\n",
       "      <td>2007-07-27T14:15:18Z</td>\n",
       "      <td>[{'product': {'id': 'free'}}]</td>\n",
       "      <td>NaN</td>\n",
       "      <td>1246</td>\n",
       "      <td>51</td>\n",
       "      <td>...</td>\n",
       "      <td>artist-stations:10</td>\n",
       "      <td>free</td>\n",
       "      <td>NaN</td>\n",
       "      <td>NaN</td>\n",
       "      <td>NaN</td>\n",
       "      <td>NaN</td>\n",
       "      <td>False</td>\n",
       "      <td>False</td>\n",
       "      <td>False</td>\n",
       "      <td>NaN</td>\n",
       "    </tr>\n",
       "    <tr>\n",
       "      <th>4</th>\n",
       "      <td>4</td>\n",
       "      <td>https://i1.sndcdn.com/avatars-YU1Y4hVJyNPwYfRI...</td>\n",
       "      <td>NaN</td>\n",
       "      <td>506</td>\n",
       "      <td>NaN</td>\n",
       "      <td>2007-07-27T14:18:00Z</td>\n",
       "      <td>[{'product': {'id': 'creator-pro-unlimited'}}]</td>\n",
       "      <td>Tell us about Youssef!</td>\n",
       "      <td>23034</td>\n",
       "      <td>459</td>\n",
       "      <td>...</td>\n",
       "      <td>artist-stations:12</td>\n",
       "      <td>creator-pro-unlimited</td>\n",
       "      <td>NaN</td>\n",
       "      <td>NaN</td>\n",
       "      <td>NaN</td>\n",
       "      <td>NaN</td>\n",
       "      <td>False</td>\n",
       "      <td>True</td>\n",
       "      <td>False</td>\n",
       "      <td>NaN</td>\n",
       "    </tr>\n",
       "  </tbody>\n",
       "</table>\n",
       "<p>5 rows × 39 columns</p>\n",
       "</div>"
      ],
      "text/plain": [
       "   index                                         avatar_url        city  \\\n",
       "0      0  https://i1.sndcdn.com/avatars-LQHwEEFP8SciWWEl...      Berlin   \n",
       "1      1  https://i1.sndcdn.com/avatars-000019102368-0eu...   Stockholm   \n",
       "2      2  https://i1.sndcdn.com/avatars-000208970259-vng...  Berlin/NYC   \n",
       "3      3  https://a1.sndcdn.com/images/default_avatar_la...   Stockholm   \n",
       "4      4  https://i1.sndcdn.com/avatars-YU1Y4hVJyNPwYfRI...         NaN   \n",
       "\n",
       "   comments_count country_code            created_at  \\\n",
       "0             384           DE  2007-07-20T16:07:00Z   \n",
       "1              31           DE  2007-07-20T17:54:00Z   \n",
       "2             697           DE  2007-07-25T23:08:00Z   \n",
       "3               5           SE  2007-07-27T14:15:18Z   \n",
       "4             506          NaN  2007-07-27T14:18:00Z   \n",
       "\n",
       "                            creator_subscriptions  \\\n",
       "0  [{'product': {'id': 'creator-pro-unlimited'}}]   \n",
       "1                   [{'product': {'id': 'free'}}]   \n",
       "2  [{'product': {'id': 'creator-pro-unlimited'}}]   \n",
       "3                   [{'product': {'id': 'free'}}]   \n",
       "4  [{'product': {'id': 'creator-pro-unlimited'}}]   \n",
       "\n",
       "                                         description  followers_count  \\\n",
       "0  Founder & CEO Dance. Founder SoundCloud and ar...            45706   \n",
       "1       Opps, I can change Johans description. /emil             8325   \n",
       "2  Hi, my name is Alex. I like Sound. Founder & C...           180218   \n",
       "3                                                NaN             1246   \n",
       "4                             Tell us about Youssef!            23034   \n",
       "\n",
       "   followings_count  ...   station_permalink creator_subscription.product.id  \\\n",
       "0              2000  ...   artist-stations:2           creator-pro-unlimited   \n",
       "1               139  ...   artist-stations:6                            free   \n",
       "2              1710  ...   artist-stations:8           creator-pro-unlimited   \n",
       "3                51  ...  artist-stations:10                            free   \n",
       "4               459  ...  artist-stations:12           creator-pro-unlimited   \n",
       "\n",
       "          visuals.urn  visuals.enabled  \\\n",
       "0  soundcloud:users:2             True   \n",
       "1                 NaN              NaN   \n",
       "2  soundcloud:users:8             True   \n",
       "3                 NaN              NaN   \n",
       "4                 NaN              NaN   \n",
       "\n",
       "                                     visuals.visuals visuals.tracking  \\\n",
       "0  [{'urn': 'soundcloud:visuals:105136722', 'entr...              NaN   \n",
       "1                                                NaN              NaN   \n",
       "2  [{'urn': 'soundcloud:visuals:3142', 'entry_tim...              NaN   \n",
       "3                                                NaN              NaN   \n",
       "4                                                NaN              NaN   \n",
       "\n",
       "  badges.pro  badges.pro_unlimited  badges.verified visuals  \n",
       "0      False                  True            False     NaN  \n",
       "1      False                 False            False     NaN  \n",
       "2      False                  True            False     NaN  \n",
       "3      False                 False            False     NaN  \n",
       "4      False                  True            False     NaN  \n",
       "\n",
       "[5 rows x 39 columns]"
      ]
     },
     "execution_count": 2,
     "metadata": {},
     "output_type": "execute_result"
    }
   ],
   "source": [
    "users = pd.read_csv('user.csv', sep='\\t')\n",
    "users.head()"
   ]
  },
  {
   "cell_type": "markdown",
   "id": "b058ba56",
   "metadata": {},
   "source": [
    "- Xem kết quả trong file `track.csv`: 5 records đầu tiên"
   ]
  },
  {
   "cell_type": "code",
   "execution_count": null,
   "id": "2c005989",
   "metadata": {},
   "outputs": [],
   "source": [
    "tracks = pd.read_csv('track.csv', sep='\\t')\n",
    "tracks.head()"
   ]
  },
  {
   "cell_type": "markdown",
   "id": "4ed85459",
   "metadata": {},
   "source": [
    "- Xem kết quả trong file `playlist.csv`: 5 records đầu tiên"
   ]
  },
  {
   "cell_type": "code",
   "execution_count": 15,
   "id": "5ba43568",
   "metadata": {},
   "outputs": [
    {
     "data": {
      "text/html": [
       "<div>\n",
       "<style scoped>\n",
       "    .dataframe tbody tr th:only-of-type {\n",
       "        vertical-align: middle;\n",
       "    }\n",
       "\n",
       "    .dataframe tbody tr th {\n",
       "        vertical-align: top;\n",
       "    }\n",
       "\n",
       "    .dataframe thead th {\n",
       "        text-align: right;\n",
       "    }\n",
       "</style>\n",
       "<table border=\"1\" class=\"dataframe\">\n",
       "  <thead>\n",
       "    <tr style=\"text-align: right;\">\n",
       "      <th></th>\n",
       "      <th>index</th>\n",
       "      <th>artwork_url</th>\n",
       "      <th>created_at</th>\n",
       "      <th>description</th>\n",
       "      <th>duration</th>\n",
       "      <th>embeddable_by</th>\n",
       "      <th>genre</th>\n",
       "      <th>id</th>\n",
       "      <th>kind</th>\n",
       "      <th>label_name</th>\n",
       "      <th>...</th>\n",
       "      <th>tag_list</th>\n",
       "      <th>title</th>\n",
       "      <th>uri</th>\n",
       "      <th>user_id</th>\n",
       "      <th>set_type</th>\n",
       "      <th>is_album</th>\n",
       "      <th>published_at</th>\n",
       "      <th>display_date</th>\n",
       "      <th>track_count</th>\n",
       "      <th>tracks</th>\n",
       "    </tr>\n",
       "  </thead>\n",
       "  <tbody>\n",
       "    <tr>\n",
       "      <th>0</th>\n",
       "      <td>0</td>\n",
       "      <td>NaN</td>\n",
       "      <td>2021-08-07T12:14:56Z</td>\n",
       "      <td>NaN</td>\n",
       "      <td>23088711</td>\n",
       "      <td>all</td>\n",
       "      <td>NaN</td>\n",
       "      <td>1297775500</td>\n",
       "      <td>playlist</td>\n",
       "      <td>NaN</td>\n",
       "      <td>...</td>\n",
       "      <td>NaN</td>\n",
       "      <td>Tent session</td>\n",
       "      <td>https://api.soundcloud.com/playlists/1297775500</td>\n",
       "      <td>16</td>\n",
       "      <td>NaN</td>\n",
       "      <td>False</td>\n",
       "      <td>2021-08-07T12:19:49Z</td>\n",
       "      <td>2021-08-07T12:19:49Z</td>\n",
       "      <td>3</td>\n",
       "      <td>272612733,649886222,425592600</td>\n",
       "    </tr>\n",
       "    <tr>\n",
       "      <th>1</th>\n",
       "      <td>1</td>\n",
       "      <td>NaN</td>\n",
       "      <td>2016-05-12T20:54:09Z</td>\n",
       "      <td>NaN</td>\n",
       "      <td>36916723</td>\n",
       "      <td>all</td>\n",
       "      <td>NaN</td>\n",
       "      <td>224489873</td>\n",
       "      <td>playlist</td>\n",
       "      <td>NaN</td>\n",
       "      <td>...</td>\n",
       "      <td>NaN</td>\n",
       "      <td>Maui</td>\n",
       "      <td>https://api.soundcloud.com/playlists/224489873</td>\n",
       "      <td>16</td>\n",
       "      <td>NaN</td>\n",
       "      <td>False</td>\n",
       "      <td>NaN</td>\n",
       "      <td>2016-05-12T20:54:09Z</td>\n",
       "      <td>5</td>\n",
       "      <td>259629933,173516843,237681279,172743281,177856481</td>\n",
       "    </tr>\n",
       "    <tr>\n",
       "      <th>2</th>\n",
       "      <td>2</td>\n",
       "      <td>NaN</td>\n",
       "      <td>2013-05-02T12:03:59Z</td>\n",
       "      <td>NaN</td>\n",
       "      <td>14081758</td>\n",
       "      <td>all</td>\n",
       "      <td>NaN</td>\n",
       "      <td>5316318</td>\n",
       "      <td>playlist</td>\n",
       "      <td>NaN</td>\n",
       "      <td>...</td>\n",
       "      <td>NaN</td>\n",
       "      <td>All Drankensteins</td>\n",
       "      <td>https://api.soundcloud.com/playlists/5316318</td>\n",
       "      <td>16</td>\n",
       "      <td>NaN</td>\n",
       "      <td>False</td>\n",
       "      <td>NaN</td>\n",
       "      <td>2013-05-02T12:03:59Z</td>\n",
       "      <td>4</td>\n",
       "      <td>23876268,22746957,39007821,59622690</td>\n",
       "    </tr>\n",
       "    <tr>\n",
       "      <th>3</th>\n",
       "      <td>3</td>\n",
       "      <td>NaN</td>\n",
       "      <td>2008-07-22T13:28:59Z</td>\n",
       "      <td>NaN</td>\n",
       "      <td>538434</td>\n",
       "      <td>none</td>\n",
       "      <td>NaN</td>\n",
       "      <td>315</td>\n",
       "      <td>playlist</td>\n",
       "      <td>NaN</td>\n",
       "      <td>...</td>\n",
       "      <td>NaN</td>\n",
       "      <td>All of my tracks</td>\n",
       "      <td>https://api.soundcloud.com/playlists/315</td>\n",
       "      <td>16</td>\n",
       "      <td>NaN</td>\n",
       "      <td>False</td>\n",
       "      <td>NaN</td>\n",
       "      <td>2008-07-22T13:28:59Z</td>\n",
       "      <td>2</td>\n",
       "      <td>19,7793</td>\n",
       "    </tr>\n",
       "    <tr>\n",
       "      <th>4</th>\n",
       "      <td>4</td>\n",
       "      <td>NaN</td>\n",
       "      <td>2016-12-11T18:17:24Z</td>\n",
       "      <td>NaN</td>\n",
       "      <td>7217789</td>\n",
       "      <td>all</td>\n",
       "      <td>NaN</td>\n",
       "      <td>282653735</td>\n",
       "      <td>playlist</td>\n",
       "      <td>NaN</td>\n",
       "      <td>...</td>\n",
       "      <td>NaN</td>\n",
       "      <td>Ethiopiques</td>\n",
       "      <td>https://api.soundcloud.com/playlists/282653735</td>\n",
       "      <td>20</td>\n",
       "      <td>NaN</td>\n",
       "      <td>False</td>\n",
       "      <td>2016-12-11T18:17:24Z</td>\n",
       "      <td>2016-12-11T18:17:24Z</td>\n",
       "      <td>13</td>\n",
       "      <td>31529637,95060900,125486033,61689615,8547837,3...</td>\n",
       "    </tr>\n",
       "  </tbody>\n",
       "</table>\n",
       "<p>5 rows × 33 columns</p>\n",
       "</div>"
      ],
      "text/plain": [
       "   index artwork_url            created_at description  duration  \\\n",
       "0      0         NaN  2021-08-07T12:14:56Z         NaN  23088711   \n",
       "1      1         NaN  2016-05-12T20:54:09Z         NaN  36916723   \n",
       "2      2         NaN  2013-05-02T12:03:59Z         NaN  14081758   \n",
       "3      3         NaN  2008-07-22T13:28:59Z         NaN    538434   \n",
       "4      4         NaN  2016-12-11T18:17:24Z         NaN   7217789   \n",
       "\n",
       "  embeddable_by genre          id      kind label_name  ... tag_list  \\\n",
       "0           all   NaN  1297775500  playlist        NaN  ...      NaN   \n",
       "1           all   NaN   224489873  playlist        NaN  ...      NaN   \n",
       "2           all   NaN     5316318  playlist        NaN  ...      NaN   \n",
       "3          none   NaN         315  playlist        NaN  ...      NaN   \n",
       "4           all   NaN   282653735  playlist        NaN  ...      NaN   \n",
       "\n",
       "               title                                              uri  \\\n",
       "0       Tent session  https://api.soundcloud.com/playlists/1297775500   \n",
       "1               Maui   https://api.soundcloud.com/playlists/224489873   \n",
       "2  All Drankensteins     https://api.soundcloud.com/playlists/5316318   \n",
       "3   All of my tracks         https://api.soundcloud.com/playlists/315   \n",
       "4        Ethiopiques   https://api.soundcloud.com/playlists/282653735   \n",
       "\n",
       "   user_id set_type is_album          published_at          display_date  \\\n",
       "0       16      NaN    False  2021-08-07T12:19:49Z  2021-08-07T12:19:49Z   \n",
       "1       16      NaN    False                   NaN  2016-05-12T20:54:09Z   \n",
       "2       16      NaN    False                   NaN  2013-05-02T12:03:59Z   \n",
       "3       16      NaN    False                   NaN  2008-07-22T13:28:59Z   \n",
       "4       20      NaN    False  2016-12-11T18:17:24Z  2016-12-11T18:17:24Z   \n",
       "\n",
       "  track_count                                             tracks  \n",
       "0           3                      272612733,649886222,425592600  \n",
       "1           5  259629933,173516843,237681279,172743281,177856481  \n",
       "2           4                23876268,22746957,39007821,59622690  \n",
       "3           2                                            19,7793  \n",
       "4          13  31529637,95060900,125486033,61689615,8547837,3...  \n",
       "\n",
       "[5 rows x 33 columns]"
      ]
     },
     "execution_count": 15,
     "metadata": {},
     "output_type": "execute_result"
    }
   ],
   "source": [
    "playlists = pd.read_csv('playlist.csv', sep='\\t')\n",
    "playlists.head()"
   ]
  },
  {
   "cell_type": "markdown",
   "id": "2cce8ffe",
   "metadata": {},
   "source": [
    "---\n"
   ]
  },
  {
   "cell_type": "markdown",
   "id": "468d4f86",
   "metadata": {},
   "source": [
    "### 3. Phân tích và đánh giá dữ liệu lấy được từ việc sử dụng API "
   ]
  },
  {
   "cell_type": "markdown",
   "id": "139519c6",
   "metadata": {},
   "source": [
    "##### A . Mô tả dữ liệu lấy được"
   ]
  },
  {
   "cell_type": "markdown",
   "id": "f8299bb7",
   "metadata": {},
   "source": [
    "##### `user.csv`"
   ]
  },
  {
   "cell_type": "markdown",
   "id": "954323f5",
   "metadata": {},
   "source": [
    "- **Kiểm tra số lương `mẫu và thuộc tính`**"
   ]
  },
  {
   "cell_type": "code",
   "execution_count": 3,
   "id": "69290c94",
   "metadata": {},
   "outputs": [
    {
     "data": {
      "text/plain": [
       "(1500, 38)"
      ]
     },
     "execution_count": 3,
     "metadata": {},
     "output_type": "execute_result"
    }
   ],
   "source": [
    "users = pd.read_csv('user.csv', sep='\\t')\n",
    "users = users.drop(columns=\"index\")\n",
    "users.shape"
   ]
  },
  {
   "cell_type": "markdown",
   "id": "50878adf",
   "metadata": {},
   "source": [
    "- **Phân tích dữ liệu lấy đươc**"
   ]
  },
  {
   "cell_type": "markdown",
   "id": "8246f280",
   "metadata": {},
   "source": [
    "|Thuộc tính|Kiểu dữ liệu|     Ý nghĩa  \n",
    "|:--------:|:-------------:|:-----------:\n",
    "|**avatar_url**|Chuỗi |Đường dẫn đến ản đại diện của user|\n",
    "|**created_at**|Thời gian|Thời gian khởi tạo user|   \n",
    "|**description**|Chuỗi|Mô tả user của người đăng tải| \n",
    "|**city**|Chuỗi|Thành phố user đang sống|\n",
    "|**country_code**|Chuỗi|Mã quốc gia user đang sống|\n",
    "|**id**|Kiểu phân loại|Định danh của user|\n",
    "|**comments_count**|Số nguyên|Số lượt bình luận của user|\n",
    "|**likes_count**|Số nguyên|Số lượt được yêu thích của user|\n",
    "|**followers_count**|Số nguyên|Số lượt theo dõi của user|\n",
    "|**followings_count**|Số nguyên|Số lượt user theo dõi|\n",
    "|**playlist_likes_count**|Số nguyên|Số lượt được yêu thích các playlist của user|\n",
    "|**playlist_count**|Số nguyên|Số playlist của user|\n",
    "|**reposts_count**|Số nguyên|Số bài đăng lại của user|\n",
    "|**track_count**|Số nguyên|Số lượng track của user|\n",
    "|**kind**|Chuỗi|Loại đối tượng|\n",
    "|**last_modified**|Thời gian|Lần chỉnh sửa cuối cùng| \n",
    "|**first_name**|Chuỗi|Tên của user|   \n",
    "|**last_name**|Chuỗi|Họ của user|  \n",
    "|**full_name**|Chuỗi|Tên đầy đủ của user| \n",
    "|**username**|Chuỗi|Tên đăng nhập của user|   \n",
    "|**groups_count**|Số nguyên|Số nhóm của user|\n",
    "|**permalink**|Chuỗi|Đường dẫn cố định của tài nguyên| \n",
    "|**permalink_url**|Chuỗi|Đường dẫn đến trang Soundcloud |   \n",
    "|**uri**|Chuỗi|Đường dẫn API của user|    \n",
    "|**url**|Chuỗi|Đường dẫn API của user|    \n",
    "|**urn**|Chuỗi|Đường dẫn API của user|    \n",
    "|**creator_subscriptions**|Chuỗi|Loại thành viên của user|    \n",
    "|**creator_subscription.product.id**|Chuỗi|Loại thành viên của user|    \n",
    "|**badges.pro_unlimited'**|Luận lý|User có phải người dùng pro_unlimited không|\n",
    "|**verified**|Luận lý|Xác thực người dùng|\n",
    "|**visuals**|Số thực||\n",
    "|**visuals.urn**|Chuỗi\n",
    "|**visuals.enabled**|Chuỗi|\n",
    "|**visuals.visuals**|Chuỗi|\n",
    "|**visuals.tracking**|Số thực|"
   ]
  },
  {
   "cell_type": "markdown",
   "id": "eb652bab",
   "metadata": {},
   "source": [
    "##### `track.csv`"
   ]
  },
  {
   "cell_type": "markdown",
   "id": "ece66972",
   "metadata": {},
   "source": [
    "- **Kiểm tra số lương `mẫu và thuộc tính`**"
   ]
  },
  {
   "cell_type": "code",
   "execution_count": 4,
   "id": "c2319423",
   "metadata": {},
   "outputs": [
    {
     "data": {
      "text/plain": [
       "(4535, 63)"
      ]
     },
     "execution_count": 4,
     "metadata": {},
     "output_type": "execute_result"
    }
   ],
   "source": [
    "tracks = pd.read_csv('track.csv', sep='\\t')\n",
    "tracks = tracks.drop(columns=\"index\")\n",
    "tracks.shape"
   ]
  },
  {
   "cell_type": "markdown",
   "id": "31c5e942",
   "metadata": {},
   "source": [
    "- **Phân tích dữ liệu lấy đươc**"
   ]
  },
  {
   "cell_type": "code",
   "execution_count": 8,
   "id": "96cb8f32",
   "metadata": {},
   "outputs": [],
   "source": [
    "## chua lam"
   ]
  },
  {
   "cell_type": "markdown",
   "id": "c00a3165",
   "metadata": {},
   "source": [
    "##### `playlist.csv`"
   ]
  },
  {
   "cell_type": "markdown",
   "id": "711dcf79",
   "metadata": {},
   "source": [
    "- **Kiểm tra số lương `mẫu và thuộc tính`**"
   ]
  },
  {
   "cell_type": "code",
   "execution_count": 5,
   "id": "007b80fe",
   "metadata": {},
   "outputs": [
    {
     "data": {
      "text/plain": [
       "(2093, 32)"
      ]
     },
     "execution_count": 5,
     "metadata": {},
     "output_type": "execute_result"
    }
   ],
   "source": [
    "playlists = pd.read_csv('playlist.csv', sep='\\t')\n",
    "playlists = playlists.drop(columns=\"index\")\n",
    "playlists.shape"
   ]
  },
  {
   "cell_type": "markdown",
   "id": "838839c0",
   "metadata": {},
   "source": [
    "- **Phân tích dữ liệu lấy đươc**"
   ]
  },
  {
   "cell_type": "markdown",
   "id": "9c7d3609",
   "metadata": {},
   "source": [
    "|Thuộc tính|Kiểu dữ liệu|     Ý nghĩa của dữ liệu\n",
    "|:-----------:|:----------------:|:---------:|\n",
    "|**artwork_url**|Chuỗi |URL ảnh của playlist|\n",
    "|**created_at**|Thời gian|Thời gian khởi tạo playlist|  \n",
    "|**description**|Chuỗi|Mô tả của người đăng tải| \n",
    "|**duration**|Số nguyên|Tổng thời gian các track nhạc trong playlist|\n",
    "|**embeddable_by**|Chuỗi|\n",
    "|**genre**|Chuỗi|Thể loại nhạc của playlist|\n",
    "|**id**|Kiểu phân loại|Định danh cho playlist|\n",
    "|**kind**|Chuỗi|Loại user|\n",
    "|**label_name**|Chuỗi||   \n",
    "|**last_modified**|Thời gian|Lần chỉnh sửa cuối cùng của tác giả| \n",
    "|**license**|Chuỗi|Giấy phép|\n",
    "|**likes_count**|Số nguyên|Số lượt yêu thích của playlist|\n",
    "|**managed_by_feeds**|Luận lý|Playlist có được quản lý bởi Feed|\n",
    "|**permalink**|Chuỗi|  \n",
    "|**permalink_url**|Chuỗi|Đường dẫn đến trang Soundcloud |  \n",
    "|**public**|Luận lý|Playlist có công khai hay không?|\n",
    "|**purchase_title**|Chuỗi|     \n",
    "|**purchase_url**|Chuỗi|       \n",
    "|**release_date**|Thời gian|Thời gian xuất bản playlist|   \n",
    "|**reposts_count**|Số nguyên|Số lượt đăng lại playlist|\n",
    "|**secret_token**|Chuỗi|\n",
    "|**sharing**|Chuỗi|Chế độ chia sẻ công khai hay riêng tư|\n",
    "|**tag_list**|Chuỗi|\n",
    "|**title**|Chuỗi|Tiêu đề playlist|    \n",
    "|**uri**|Chuỗi|Đường dẫn API của playlist|    \n",
    "|**user_id**|Kiểu phân loại|Định danh của người sở hữu playlist|   \n",
    "|**set_type**|Chuỗi|\n",
    "|**is_album**|Luận lý|Playlist có phải album hay không|\n",
    "|**published_at**|Thời gian|Thời điểm đăng tải playlist|   \n",
    "|**display_date**|Thời gian|Thời điểm playlist hiển thị|   \n",
    "|**track_counts**|Số nguyên|Số lượng track trong playlist|\n",
    "|**tracks**|Chuỗi|Danh sách id của các track trong playlist được ngăn cách bởi \",\"|"
   ]
  },
  {
   "cell_type": "markdown",
   "id": "5c7481f9",
   "metadata": {},
   "source": [
    "#### B. Loại bỏ 1 số thông tin không cần thiết"
   ]
  },
  {
   "cell_type": "markdown",
   "id": "4895e038",
   "metadata": {},
   "source": [
    "- Trong `Playlist`\n",
    " + Qua việc phân tích các thuộc tính lấy được từ file `playlists.cvs` , ta nhìn thấy được 2 thuộc được đưa vào nghi vấn dữ liệu ở 2 cột đó có thể trùng nhau nếu nó thật sự trùng nhau ta có thể loại bỏ bớt 1 cột để dữ liệu tránh bị bias\n",
    "    + `created_at`: Thời gian khởi tạo playlist\n",
    "    + `published_at`: Thời điểm đăng tải playlist"
   ]
  },
  {
   "cell_type": "code",
   "execution_count": 98,
   "id": "1fcd837e",
   "metadata": {},
   "outputs": [],
   "source": [
    "# tiến hành kiểm tra dữ liệu\n",
    "count = 0\n",
    "count_none_createdAt = 0\n",
    "count_none_published_at = 0\n",
    "count_sam = 0\n",
    "\n",
    "for i in range(0, playlists.shape[0]):\n",
    "    if (type(playlists[\"created_at\"][i]) == float):\n",
    "        count_none_createAt += 1\n",
    "    if (type(playlists[\"published_at\"][i]) == float):\n",
    "        count_none_published_at += 1\n",
    "    \n",
    "    if (not(type(playlists[\"published_at\"][i]) == float) and not(type(playlists[\"created_at\"][i]) == float)):\n",
    "        if (playlists[\"created_at\"][i] == playlists[\"published_at\"][i]):\n",
    "            count_sam = count_sam + 1\n",
    "    "
   ]
  },
  {
   "cell_type": "code",
   "execution_count": 99,
   "id": "e46c8a1a",
   "metadata": {},
   "outputs": [
    {
     "name": "stdout",
     "output_type": "stream",
     "text": [
      "Giá trị bị rỗng ở created_at: 0\n",
      "Giá trị bị rỗng ở published_at: 86\n",
      "Giá trị trùng lặp giữa 2 thuộc tính: 33\n"
     ]
    }
   ],
   "source": [
    "print(\"Giá trị bị rỗng ở created_at:\", count_none_createdAt ) \n",
    "print(\"Giá trị bị rỗng ở published_at:\", count_none_published_at)\n",
    "print(\"Giá trị trùng lặp giữa 2 thuộc tính:\", count_sam)"
   ]
  },
  {
   "cell_type": "markdown",
   "id": "5b4d95f3",
   "metadata": {},
   "source": [
    " - Qua 3 thông tin dữ liệu trên ta thấy được dữ liệu trong cột `published_at` thường rơi vào rỗng hoặc bị trùng lặp với cột `created_at` => Ta sẽ xóa bỏ đi cột `published_at` trong file `playlists.csv`"
   ]
  },
  {
   "cell_type": "markdown",
   "id": "5c136d7f",
   "metadata": {},
   "source": [
    "##### C .Mối quan hệ giữa 3 file user, track và playlist trong csv"
   ]
  },
  {
   "cell_type": "markdown",
   "id": "756a49ef",
   "metadata": {},
   "source": [
    "![image info](picture.png)"
   ]
  },
  {
   "cell_type": "code",
   "execution_count": null,
   "id": "2eea8ae5",
   "metadata": {},
   "outputs": [],
   "source": []
  }
 ],
 "metadata": {
  "kernelspec": {
   "display_name": "Python 3",
   "language": "python",
   "name": "python3"
  },
  "language_info": {
   "codemirror_mode": {
    "name": "ipython",
    "version": 3
   },
   "file_extension": ".py",
   "mimetype": "text/x-python",
   "name": "python",
   "nbconvert_exporter": "python",
   "pygments_lexer": "ipython3",
   "version": "3.8.8"
  }
 },
 "nbformat": 4,
 "nbformat_minor": 5
}
