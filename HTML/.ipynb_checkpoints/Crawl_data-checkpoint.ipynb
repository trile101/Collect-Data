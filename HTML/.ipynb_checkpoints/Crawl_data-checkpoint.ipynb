{
 "cells": [
  {
   "cell_type": "code",
   "execution_count": 23,
   "id": "bef2f24f",
   "metadata": {
    "ExecuteTime": {
     "end_time": "2021-11-10T17:28:58.530125Z",
     "start_time": "2021-11-10T17:28:58.511157Z"
    }
   },
   "outputs": [],
   "source": [
    "from selenium import webdriver\n",
    "from selenium.webdriver.chrome.options import Options\n",
    "from selenium.webdriver.common.keys import Keys\n",
    "from selenium.webdriver.common.by import By\n",
    "from selenium.webdriver.support.ui import WebDriverWait\n",
    "from selenium.webdriver.support import expected_conditions as EC\n",
    "import requests\n",
    "import requests_cache\n",
    "from bs4 import BeautifulSoup\n",
    "import time\n",
    "import json\n",
    "import re\n",
    "import pandas as pd\n",
    "import os\n",
    "import csv\n",
    "import pickle\n",
    "from datetime import datetime, timedelta"
   ]
  },
  {
   "cell_type": "code",
   "execution_count": null,
   "id": "a0dbd34f",
   "metadata": {
    "ExecuteTime": {
     "end_time": "2021-11-10T16:55:25.249227Z",
     "start_time": "2021-11-10T16:55:25.244203Z"
    }
   },
   "outputs": [],
   "source": [
    "if not os.path.exists('Crawl_data/'):\n",
    "    os.makedirs('Crawl_data/')"
   ]
  },
  {
   "cell_type": "code",
   "execution_count": null,
   "id": "4accf0b1",
   "metadata": {
    "ExecuteTime": {
     "end_time": "2021-11-10T16:55:25.943023Z",
     "start_time": "2021-11-10T16:55:25.938046Z"
    }
   },
   "outputs": [],
   "source": [
    "sleep_time = 1"
   ]
  },
  {
   "cell_type": "code",
   "execution_count": null,
   "id": "7aa969b9",
   "metadata": {
    "ExecuteTime": {
     "end_time": "2021-11-10T16:55:26.505171Z",
     "start_time": "2021-11-10T16:55:26.479046Z"
    }
   },
   "outputs": [],
   "source": [
    "import sys\n",
    "sys.executable"
   ]
  },
  {
   "cell_type": "code",
   "execution_count": null,
   "id": "3cbb095b",
   "metadata": {
    "ExecuteTime": {
     "end_time": "2021-11-10T16:55:27.212543Z",
     "start_time": "2021-11-10T16:55:27.200544Z"
    }
   },
   "outputs": [],
   "source": [
    "def check(response):\n",
    "    return '\"incomplete_results\":true' not in response.text\n",
    "\n",
    "requests_cache.install_cache(expire_after=None, filter_fn=check)"
   ]
  },
  {
   "cell_type": "code",
   "execution_count": null,
   "id": "4e190573",
   "metadata": {
    "ExecuteTime": {
     "end_time": "2021-11-10T16:55:27.667929Z",
     "start_time": "2021-11-10T16:55:27.646931Z"
    }
   },
   "outputs": [],
   "source": [
    "def get_genre(genre_file):\n",
    "    url = \"https://soundcloud.com/charts\"\n",
    "    r = requests.get(url)\n",
    "    r.encoding = r.apparent_encoding\n",
    "    r.text\n",
    "    soup = BeautifulSoup(r.text, \"html.parser\")\n",
    "    lst_genre = soup.select('a[href*=genre]')[4:34]  # just get music_genre\n",
    "    with open(genre_file, 'w', encoding=\"utf-8\") as fout:\n",
    "        for genre in lst_genre:\n",
    "            fout.write(genre.text + '\\n')"
   ]
  },
  {
   "cell_type": "code",
   "execution_count": null,
   "id": "641d1b22",
   "metadata": {
    "ExecuteTime": {
     "end_time": "2021-11-10T16:55:28.861275Z",
     "start_time": "2021-11-10T16:55:28.394065Z"
    }
   },
   "outputs": [],
   "source": [
    "get_genre(\"genre_file.txt\")"
   ]
  },
  {
   "cell_type": "code",
   "execution_count": null,
   "id": "6e102b0a",
   "metadata": {
    "ExecuteTime": {
     "end_time": "2021-11-10T16:55:29.203572Z",
     "start_time": "2021-11-10T16:55:29.181556Z"
    },
    "jupyter": {
     "outputs_hidden": true
    },
    "tags": []
   },
   "outputs": [],
   "source": [
    "genre_list = []\n",
    "with open('genre_file.txt', 'r', encoding=\"utf-8\") as fin:\n",
    "        data = fin.read().strip()\n",
    "        genre_list = data.split('\\n')"
   ]
  },
  {
   "cell_type": "code",
   "execution_count": null,
   "id": "dee4fc2e",
   "metadata": {
    "ExecuteTime": {
     "end_time": "2021-11-10T16:56:28.089849Z",
     "start_time": "2021-11-10T16:56:28.082849Z"
    },
    "jupyter": {
     "outputs_hidden": true
    },
    "scrolled": true,
    "tags": []
   },
   "outputs": [],
   "source": [
    "search_url = []\n",
    "for genre in genre_list:\n",
    "    genre = genre.replace(\" \", \"%20\")\n",
    "    genre = genre.replace(\"&\", \"%26\")\n",
    "    url = f'https://soundcloud.com/search/sets?q={genre}&filter.genre_or_tag={genre}'\n",
    "    search_url.append(url)"
   ]
  },
  {
   "cell_type": "code",
   "execution_count": null,
   "id": "061137ae",
   "metadata": {
    "ExecuteTime": {
     "end_time": "2021-11-10T08:43:03.254781Z",
     "start_time": "2021-11-10T08:43:03.247757Z"
    }
   },
   "outputs": [],
   "source": [
    "search_url[24:30]"
   ]
  },
  {
   "cell_type": "code",
   "execution_count": null,
   "id": "dd982fb0",
   "metadata": {
    "ExecuteTime": {
     "end_time": "2021-11-10T16:55:44.459886Z",
     "start_time": "2021-11-10T16:55:44.439888Z"
    }
   },
   "outputs": [],
   "source": [
    "option = Options()\n",
    "\n",
    "option.add_argument(\"--disable-infobars\")\n",
    "option.add_argument(\"start-maximized\")\n",
    "option.add_argument(\"--disable-extensions\")\n",
    "option.add_argument(\"--headless\")\n",
    "option.add_experimental_option(\"excludeSwitches\", ['enable-automation']);\n",
    "\n",
    "# Pass the argument 1 to allow and 2 to block\n",
    "option.add_experimental_option(\"prefs\", { \n",
    "    \"profile.default_content_setting_values.notifications\": 2,\n",
    "    \"profile.managed_default_content_settings.images\": 2\n",
    "})"
   ]
  },
  {
   "cell_type": "code",
   "execution_count": null,
   "id": "8dd36eaa",
   "metadata": {
    "ExecuteTime": {
     "end_time": "2021-11-10T07:24:48.355280Z",
     "start_time": "2021-11-10T07:24:42.982923Z"
    }
   },
   "outputs": [],
   "source": [
    "driver = webdriver.Chrome(options=option, executable_path='chromedriver')\n",
    "driver.get('https://soundcloud.com/')\n",
    "cookies = pickle.load(open(\"my_cookie.pkl\", \"rb\"))\n",
    "for cookie in cookies:\n",
    "    driver.add_cookie(cookie)"
   ]
  },
  {
   "cell_type": "raw",
   "id": "74768095",
   "metadata": {},
   "source": [
    "for ele in element:\n",
    "    if (\"Not available\" in ele.text):\n",
    "        element.remove(ele)\n",
    "        \n",
    "len(element)"
   ]
  },
  {
   "cell_type": "raw",
   "id": "7ec8f100",
   "metadata": {},
   "source": [
    "link = element[0].find_elements(By.TAG_NAME, \"a\")[1:]\n",
    "user, track = [url.get_attribute('href') for url in link]\n",
    "track = track[:track.find('?in=')]\n",
    "print(user, track)"
   ]
  },
  {
   "cell_type": "raw",
   "id": "1fbfe663",
   "metadata": {
    "ExecuteTime": {
     "end_time": "2021-11-06T10:24:07.538841Z",
     "start_time": "2021-11-06T10:23:55.889648Z"
    },
    "scrolled": true
   },
   "source": [
    "driver.get('https://soundcloud.com/search/sets?q=Dance%20%26%20EDM&filter.genre_or_tag=Dance%20%26%20EDM')\n",
    "time.sleep(sleep_time)\n",
    "playlist = []\n",
    "while len(playlist) < 50:\n",
    "    playlist = (driver.find_elements(By.CSS_SELECTOR, \"li[class='searchList__item']\"))\n",
    "    driver.execute_script(\"window.scrollTo(0,document.body.scrollHeight)\")\n",
    "    time.sleep(1)"
   ]
  },
  {
   "cell_type": "code",
   "execution_count": null,
   "id": "7bf4137c",
   "metadata": {
    "ExecuteTime": {
     "end_time": "2021-11-10T07:33:38.613444Z",
     "start_time": "2021-11-10T07:33:38.210600Z"
    }
   },
   "outputs": [],
   "source": [
    "driver.close()"
   ]
  },
  {
   "cell_type": "code",
   "execution_count": null,
   "id": "f7cacec2",
   "metadata": {
    "ExecuteTime": {
     "end_time": "2021-11-10T16:59:07.907185Z",
     "start_time": "2021-11-10T16:56:32.899597Z"
    },
    "scrolled": true,
    "tags": []
   },
   "outputs": [],
   "source": [
    "import threading\n",
    "\n",
    "def get_playlist_link(search_url, start):\n",
    "    \n",
    "    driver = webdriver.Chrome(options=option, executable_path='chromedriver')\n",
    "    driver.get('https://soundcloud.com/')\n",
    "    cookies = pickle.load(open(\"my_cookie.pkl\", \"rb\"))\n",
    "    for cookie in cookies:\n",
    "        driver.add_cookie(cookie)\n",
    "\n",
    "    for url in search_url[start:start+6]:\n",
    "        driver.get(url)\n",
    "        time.sleep(sleep_time)\n",
    "        playlist = []\n",
    "        while len(playlist) < 50:\n",
    "            playlist = (driver.find_elements(By.CSS_SELECTOR, \"li[class='searchList__item']\"))\n",
    "            driver.execute_script(\"window.scrollTo(0,document.body.scrollHeight)\")\n",
    "            time.sleep(1)\n",
    "        for ele in playlist:\n",
    "            try:\n",
    "                num_track = ele.find_element(By.CSS_SELECTOR, \"a[class*='moreLink']\").text\n",
    "                num_track = int(re.findall('\\d+', num_track)[0])\n",
    "            except:\n",
    "                continue\n",
    "            if num_track >= 30:\n",
    "                link = ele.find_element(By.CSS_SELECTOR, \"a[class='sound__coverArt']\")\n",
    "                link = link.get_attribute('href')\n",
    "                playlist_link.add(link)\n",
    "    \n",
    "    driver.quit()\n",
    "\n",
    "thr_lst = []\n",
    "playlist_link = set()\n",
    "for i in range(5):\n",
    "    thr_lst += [threading.Thread(target=get_playlist_link,args=(search_url,i*6),)]\n",
    "for t in thr_lst:\n",
    "    t.start()\n",
    "for t in thr_lst:\n",
    "    t.join()"
   ]
  },
  {
   "cell_type": "code",
   "execution_count": null,
   "id": "df0c4a1f",
   "metadata": {
    "ExecuteTime": {
     "end_time": "2021-11-10T16:59:13.984869Z",
     "start_time": "2021-11-10T16:59:13.948930Z"
    }
   },
   "outputs": [],
   "source": [
    "len(playlist_link)"
   ]
  },
  {
   "cell_type": "code",
   "execution_count": null,
   "id": "831deb5d",
   "metadata": {
    "ExecuteTime": {
     "end_time": "2021-11-10T16:59:21.347959Z",
     "start_time": "2021-11-10T16:59:21.308002Z"
    },
    "scrolled": true
   },
   "outputs": [],
   "source": [
    "playlist_link"
   ]
  },
  {
   "cell_type": "code",
   "execution_count": null,
   "id": "20cfcc9c",
   "metadata": {
    "ExecuteTime": {
     "end_time": "2021-11-10T17:03:08.622752Z",
     "start_time": "2021-11-10T17:00:51.394044Z"
    },
    "scrolled": true
   },
   "outputs": [],
   "source": [
    "import concurrent.futures\n",
    "\n",
    "def get_playlist_link(search_url, start):\n",
    "    \n",
    "    driver = webdriver.Chrome(options=option, executable_path='chromedriver')\n",
    "    driver.get('https://soundcloud.com/')\n",
    "    cookies = pickle.load(open(\"my_cookie.pkl\", \"rb\"))\n",
    "    for cookie in cookies:\n",
    "        driver.add_cookie(cookie)\n",
    "\n",
    "    playlist_link = []\n",
    "    for url in search_url[start:start+6]:\n",
    "        driver.get(url)\n",
    "        time.sleep(sleep_time)\n",
    "        playlist = []\n",
    "        while len(playlist) < 50:\n",
    "            playlist = (driver.find_elements(By.CSS_SELECTOR, \"li[class='searchList__item']\"))\n",
    "            driver.execute_script(\"window.scrollTo(0,document.body.scrollHeight)\")\n",
    "            time.sleep(1)\n",
    "        for ele in playlist:\n",
    "            try:\n",
    "                num_track = ele.find_element(By.CSS_SELECTOR, \"a[class*='moreLink']\").text\n",
    "                num_track = int(re.findall('\\d+', num_track)[0])\n",
    "            except:\n",
    "                continue\n",
    "            if num_track >= 30:\n",
    "                link = ele.find_element(By.CSS_SELECTOR, \"a[class='sound__coverArt']\")\n",
    "                link = link.get_attribute('href')\n",
    "                playlist_link.append(link)\n",
    "    \n",
    "    driver.quit()  \n",
    "    return playlist_link\n",
    "\n",
    "playlist_link = set()\n",
    "with concurrent.futures.ThreadPoolExecutor() as executor:\n",
    "    futures = {executor.submit(get_playlist_link, search_url, start) for start in range(0, 30, 6)}\n",
    "    \n",
    "    for fut in concurrent.futures.as_completed(futures):\n",
    "        playlist_link.update(fut.result())\n",
    "\n",
    "\n",
    "# thr_lst = []\n",
    "# playlist_link = set()\n",
    "# for i in range(5):\n",
    "#     thr_lst += [threading.Thread(target=get_playlist_link,args=(search_url,i*6),)]\n",
    "# for t in thr_lst:\n",
    "#     t.start()\n",
    "# for t in thr_lst:\n",
    "#     t.join()"
   ]
  },
  {
   "cell_type": "code",
   "execution_count": null,
   "id": "4d60f41c",
   "metadata": {
    "ExecuteTime": {
     "end_time": "2021-11-10T13:23:45.222924Z",
     "start_time": "2021-11-10T13:23:45.206915Z"
    }
   },
   "outputs": [],
   "source": [
    "len(playlist_link)"
   ]
  },
  {
   "cell_type": "code",
   "execution_count": null,
   "id": "c813cc0f",
   "metadata": {
    "ExecuteTime": {
     "end_time": "2021-11-10T17:25:45.771534Z",
     "start_time": "2021-11-10T17:25:45.762560Z"
    }
   },
   "outputs": [],
   "source": [
    "type(playlist_link)"
   ]
  },
  {
   "cell_type": "code",
   "execution_count": null,
   "id": "e9b3e600",
   "metadata": {
    "ExecuteTime": {
     "end_time": "2021-11-10T17:25:22.797290Z",
     "start_time": "2021-11-10T17:25:22.758293Z"
    },
    "scrolled": true
   },
   "outputs": [],
   "source": [
    "def create_user_link_list(playlist_link):\n",
    "    user_link = set()\n",
    "    for link in playlist_link:\n",
    "        flag = link.find(\"/sets/\")\n",
    "        user_link.add(link[0:flag])\n",
    "    return user_link\n",
    "\n",
    "user_link = create_user_link_list(playlist_link)\n",
    "user_linkb"
   ]
  },
  {
   "cell_type": "code",
   "execution_count": 25,
   "id": "ce022b5c",
   "metadata": {
    "ExecuteTime": {
     "end_time": "2021-11-10T17:29:56.006344Z",
     "start_time": "2021-11-10T17:29:55.998304Z"
    },
    "scrolled": true
   },
   "outputs": [
    {
     "data": {
      "text/plain": [
       "1209"
      ]
     },
     "execution_count": 25,
     "metadata": {},
     "output_type": "execute_result"
    }
   ],
   "source": [
    "len(user_link)"
   ]
  },
  {
   "cell_type": "code",
   "execution_count": 24,
   "id": "ad8c0ea2",
   "metadata": {
    "ExecuteTime": {
     "end_time": "2021-11-10T17:29:48.288884Z",
     "start_time": "2021-11-10T17:29:48.266916Z"
    }
   },
   "outputs": [
    {
     "data": {
      "text/plain": [
       "1328"
      ]
     },
     "execution_count": 24,
     "metadata": {},
     "output_type": "execute_result"
    }
   ],
   "source": [
    "len(playlist_link)"
   ]
  },
  {
   "cell_type": "code",
   "execution_count": 27,
   "id": "1f526843",
   "metadata": {
    "ExecuteTime": {
     "end_time": "2021-11-10T17:39:41.646902Z",
     "start_time": "2021-11-10T17:39:41.625916Z"
    }
   },
   "outputs": [
    {
     "data": {
      "text/plain": [
       "'https://soundcloud.com/user-288028708/sets/rock'"
      ]
     },
     "execution_count": 27,
     "metadata": {},
     "output_type": "execute_result"
    }
   ],
   "source": [
    "tmp = list(playlist_link)[0]\n",
    "driver"
   ]
  },
  {
   "cell_type": "code",
   "execution_count": null,
   "id": "00587cac",
   "metadata": {},
   "outputs": [],
   "source": [
    "def create_track_link_list(playlist_link, start):\n",
    "    track_link = set()\n",
    "    "
   ]
  },
  {
   "cell_type": "code",
   "execution_count": 40,
   "id": "203c360e",
   "metadata": {
    "ExecuteTime": {
     "end_time": "2021-11-10T18:08:00.843124Z",
     "start_time": "2021-11-10T18:08:00.827124Z"
    }
   },
   "outputs": [
    {
     "data": {
      "text/plain": [
       "{'artwork_url': 'https://i1.sndcdn.com/artworks-000013259385-1g6mxb-large.jpg',\n",
       " 'caption': None,\n",
       " 'commentable': True,\n",
       " 'comment_count': 895,\n",
       " 'created_at': '2011-09-22T00:34:15Z',\n",
       " 'description': \"Asking Alexandria's cover of Right Now (Na Na Na) by Akon, out now on Punk Goes Pop 3 from Fearless Records!\\r\\n\\r\\nPRE-ORDER PUNK GOES POP 4, OUT NOV 21ST!\\r\\nPhysical - http://bit.ly/PGP4premn\\r\\niTunes - http://bit.ly/PGP4pre\\r\\n\",\n",
       " 'downloadable': False,\n",
       " 'download_count': 0,\n",
       " 'duration': 260930,\n",
       " 'full_duration': 260930,\n",
       " 'embeddable_by': 'all',\n",
       " 'genre': '',\n",
       " 'has_downloads_left': False,\n",
       " 'id': 23874966,\n",
       " 'kind': 'track',\n",
       " 'label_name': 'Fearless Records',\n",
       " 'last_modified': '2021-09-25T23:20:49Z',\n",
       " 'license': 'all-rights-reserved',\n",
       " 'likes_count': 50883,\n",
       " 'permalink': 'asking-alexandria-right-now-na',\n",
       " 'permalink_url': 'https://soundcloud.com/fearlessrecords/asking-alexandria-right-now-na',\n",
       " 'playback_count': 4382557,\n",
       " 'public': True,\n",
       " 'publisher_metadata': None,\n",
       " 'purchase_title': None,\n",
       " 'purchase_url': 'http://bit.ly/aFQnD2',\n",
       " 'release_date': None,\n",
       " 'reposts_count': 3583}"
      ]
     },
     "execution_count": 40,
     "metadata": {},
     "output_type": "execute_result"
    }
   ],
   "source": [
    "dict = {\"artwork_url\":\"https://i1.sndcdn.com/artworks-000013259385-1g6mxb-large.jpg\",\"caption\":None,\"commentable\":True,\"comment_count\":895,\"created_at\":\"2011-09-22T00:34:15Z\",\"description\":\"Asking Alexandria's cover of Right Now (Na Na Na) by Akon, out now on Punk Goes Pop 3 from Fearless Records!\\r\\n\\r\\nPRE-ORDER PUNK GOES POP 4, OUT NOV 21ST!\\r\\nPhysical - http://bit.ly/PGP4premn\\r\\niTunes - http://bit.ly/PGP4pre\\r\\n\",\"downloadable\":False,\"download_count\":0,\"duration\":260930,\"full_duration\":260930,\"embeddable_by\":\"all\",\"genre\":\"\",\"has_downloads_left\":False,\"id\":23874966,\"kind\":\"track\",\"label_name\":\"Fearless Records\",\"last_modified\":\"2021-09-25T23:20:49Z\",\"license\":\"all-rights-reserved\",\"likes_count\":50883,\"permalink\":\"asking-alexandria-right-now-na\",\"permalink_url\":\"https://soundcloud.com/fearlessrecords/asking-alexandria-right-now-na\",\"playback_count\":4382557,\"public\":True,\"publisher_metadata\":None,\"purchase_title\":None,\"purchase_url\":\"http://bit.ly/aFQnD2\",\"release_date\":None,\"reposts_count\":3583}\n",
    "dict"
   ]
  },
  {
   "cell_type": "code",
   "execution_count": null,
   "id": "8c72b495",
   "metadata": {},
   "outputs": [],
   "source": []
  }
 ],
 "metadata": {
  "kernelspec": {
   "display_name": "Python 3 (ipykernel)",
   "language": "python",
   "name": "python3"
  },
  "language_info": {
   "codemirror_mode": {
    "name": "ipython",
    "version": 3
   },
   "file_extension": ".py",
   "mimetype": "text/x-python",
   "name": "python",
   "nbconvert_exporter": "python",
   "pygments_lexer": "ipython3",
   "version": "3.8.8"
  }
 },
 "nbformat": 4,
 "nbformat_minor": 5
}
