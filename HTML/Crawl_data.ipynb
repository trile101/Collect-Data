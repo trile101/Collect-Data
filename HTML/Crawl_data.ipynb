{
 "cells": [
  {
   "cell_type": "markdown",
   "id": "7dbb5057",
   "metadata": {},
   "source": [
    "# A: Thu thập dữ liệu cách parse HTML\n",
    "---"
   ]
  },
  {
   "cell_type": "markdown",
   "id": "e5022eed",
   "metadata": {},
   "source": [
    "## Import"
   ]
  },
  {
   "cell_type": "code",
   "execution_count": 1,
   "id": "bef2f24f",
   "metadata": {
    "ExecuteTime": {
     "end_time": "2021-11-13T09:47:19.964424Z",
     "start_time": "2021-11-13T09:47:18.719348Z"
    }
   },
   "outputs": [],
   "source": [
    "from selenium import webdriver\n",
    "from selenium.webdriver.chrome.options import Options\n",
    "from selenium.webdriver.common.keys import Keys\n",
    "from selenium.webdriver.common.by import By\n",
    "from selenium.webdriver.support.ui import WebDriverWait\n",
    "from selenium.webdriver.support import expected_conditions as EC\n",
    "\n",
    "import requests\n",
    "import requests_cache\n",
    "from bs4 import BeautifulSoup\n",
    "import time\n",
    "import json\n",
    "import re\n",
    "import pandas as pd\n",
    "import os\n",
    "import csv\n",
    "import pickle\n",
    "from datetime import datetime, timedelta\n",
    "import concurrent.futures"
   ]
  },
  {
   "cell_type": "markdown",
   "id": "d1af0ae8",
   "metadata": {},
   "source": [
    "---"
   ]
  },
  {
   "cell_type": "markdown",
   "id": "3094abe3",
   "metadata": {},
   "source": [
    "## Setup ở mức toàn cục"
   ]
  },
  {
   "cell_type": "markdown",
   "id": "7abd17b6",
   "metadata": {},
   "source": [
    "Các setup cần thiết: \n",
    "- Cần kiểm tra đã có thư mục Crawl_data hay chưa nếu chưa thì ta cần tạo thư mục mới.\n",
    "- Khi parse HTML, chúng ta sẽ cho sleep giữa các lần thực hiện request do đó set biến sleep_time = 1.\n",
    "- Thiết lập cache để giảm số lần thu thập dữ liệu: thời gian hết hạn là None."
   ]
  },
  {
   "cell_type": "code",
   "execution_count": 2,
   "id": "a0dbd34f",
   "metadata": {
    "ExecuteTime": {
     "end_time": "2021-11-13T09:47:19.980411Z",
     "start_time": "2021-11-13T09:47:19.968415Z"
    }
   },
   "outputs": [],
   "source": [
    "if not os.path.exists('Crawl_data/'):\n",
    "    os.makedirs('Crawl_data/')"
   ]
  },
  {
   "cell_type": "code",
   "execution_count": 3,
   "id": "4accf0b1",
   "metadata": {
    "ExecuteTime": {
     "end_time": "2021-11-13T09:47:19.996412Z",
     "start_time": "2021-11-13T09:47:19.984438Z"
    }
   },
   "outputs": [],
   "source": [
    "sleep_time = 1"
   ]
  },
  {
   "cell_type": "code",
   "execution_count": 4,
   "id": "3cbb095b",
   "metadata": {
    "ExecuteTime": {
     "end_time": "2021-11-13T09:47:20.012413Z",
     "start_time": "2021-11-13T09:47:20.001415Z"
    }
   },
   "outputs": [],
   "source": [
    "requests_cache.install_cache(expire_after=None)"
   ]
  },
  {
   "cell_type": "markdown",
   "id": "b18e5688",
   "metadata": {},
   "source": [
    "Ngoài ra, em setup những cài đặt cần thiết cho driver selenium cho toàn bộ bài làm này với 1 số thuộc tính cơ bản, trong đó có phần `headless` nghĩa là sẽ chạy selenium dưới dạng ngầm định và giúp giảm thời gian chạy của bài làm"
   ]
  },
  {
   "cell_type": "code",
   "execution_count": 5,
   "id": "b187429d",
   "metadata": {
    "ExecuteTime": {
     "end_time": "2021-11-13T09:47:20.028409Z",
     "start_time": "2021-11-13T09:47:20.015412Z"
    }
   },
   "outputs": [],
   "source": [
    "option = Options()\n",
    "\n",
    "option.add_argument(\"--disable-infobars\")\n",
    "option.add_argument(\"start-maximized\")\n",
    "option.add_argument(\"--disable-extensions\")\n",
    "option.add_argument(\"--headless\")\n",
    "option.add_experimental_option(\"excludeSwitches\", ['enable-automation']);\n",
    "\n",
    "# Pass the argument 1 to allow and 2 to block\n",
    "option.add_experimental_option(\"prefs\", { \n",
    "    \"profile.default_content_setting_values.notifications\": 2,\n",
    "    \"profile.managed_default_content_settings.images\": 2\n",
    "})"
   ]
  },
  {
   "cell_type": "markdown",
   "id": "fbf4ad9e",
   "metadata": {},
   "source": [
    "---"
   ]
  },
  {
   "cell_type": "markdown",
   "id": "278460b3",
   "metadata": {},
   "source": [
    "## Quy trình thực hiện bài làm:\n",
    "- Bước 1: Thu thập tất cả các thể loại music hiện có trên soundcloud (30 thể loại music)\n",
    "- Bước 2: Tạo ra các link tìm kiếm từ các thể loại nhạc thu thập được để tìm kiếm các playlist liên quan thuộc thể loại nhạc đó. (30 link tìm kiếm)\n",
    "- Bước 3: Với mỗi link ở B2, lấy khoảng 50 link `playlist` của thể loại đó và lưu tất cả chúng vào biến `playlist_link` có kiểu dữ liệu là set (tránh trùng lặp playlist)\n",
    "- Bước 4: Với mỗi playlist_link, lấy ra tên `user` của người tạo ra playlist và lưu vào biến `user_link` có kiểu dữ liệu là set (tránh trùng lặp user)\n",
    "- Bước 5: Với mỗi playlist_link, lấy ra link của 2 `track` đầu tiên và lưu vào biến `track_link` có kiểu dữ liệu là set (tránh trùng lặp track)\n",
    "\n",
    "Sau khi hoàn thành bước 5, lúc này chúng ta có 3 biến là `playlist_link`, `user_link` và `user_link` chứa đường link tới các trang cần thu thập dữ liệu.\n",
    "- Bước 6: Thu thập dữ liệu `playlist` bằng cách truy cập vào các link trong `playlist_link` và lưu vào file\n",
    "- Bước 7: Thu thập dữ liệu `user` bằng cách truy cập vào các link trong `user_link` và lưu vào file\n",
    "- Bước 8: Thu thập dữ liệu `track` bằng cách truy cập vào các link trong `track_link` và lưu vào file"
   ]
  },
  {
   "cell_type": "markdown",
   "id": "bc2a7699",
   "metadata": {},
   "source": [
    "## Một số lưu ý khi chạy file:\n",
    "- Đối với bài làm của em mỗi khi chúng ta `Restart - Run all` thì sẽ cho ra 1 kết quả khác nhau, lí do là vì em làm bài theo hướng universal do đó mỗi khi dùng link để tìm kiếm trên soundcloud thì sẽ thu lại được kết quả khác nhau.\n",
    "- Những dòng markdown em ghi bên dưới có số liệu kèm theo có thể sẽ khác với lúc thầy chạy bài."
   ]
  },
  {
   "cell_type": "markdown",
   "id": "64546457",
   "metadata": {},
   "source": [
    "---"
   ]
  },
  {
   "cell_type": "markdown",
   "id": "f6be18bc",
   "metadata": {},
   "source": [
    "## Bước 1: Thu thập tất cả các thể loại music hiện có trên soundcloud (30 thể loại music)"
   ]
  },
  {
   "cell_type": "markdown",
   "id": "266c3d99",
   "metadata": {},
   "source": [
    "Chúng em đã thu thập được 30 thể loại music hiện có trên soundcloud và ghi chúng vào file `genre_file.txt` và giờ đọc lại file để có list những genre nhạc."
   ]
  },
  {
   "cell_type": "code",
   "execution_count": 6,
   "id": "6e102b0a",
   "metadata": {
    "ExecuteTime": {
     "end_time": "2021-11-13T09:47:20.059424Z",
     "start_time": "2021-11-13T09:47:20.031411Z"
    },
    "jupyter": {
     "outputs_hidden": true
    },
    "tags": []
   },
   "outputs": [],
   "source": [
    "genre_list = []\n",
    "with open('genre_file.txt', 'r', encoding=\"utf-8\") as fin:\n",
    "        data = fin.read().strip()\n",
    "        genre_list = data.split('\\n')"
   ]
  },
  {
   "cell_type": "code",
   "execution_count": 7,
   "id": "43b84c75",
   "metadata": {
    "ExecuteTime": {
     "end_time": "2021-11-13T09:47:20.090434Z",
     "start_time": "2021-11-13T09:47:20.063412Z"
    },
    "scrolled": false
   },
   "outputs": [
    {
     "data": {
      "text/plain": [
       "['Alternative Rock',\n",
       " 'Ambient',\n",
       " 'Classical',\n",
       " 'Country',\n",
       " 'Dance & EDM',\n",
       " 'Dancehall',\n",
       " 'Deep House',\n",
       " 'Disco',\n",
       " 'Drum & Bass',\n",
       " 'Dubstep',\n",
       " 'Electronic',\n",
       " 'Folk & Singer-Songwriter',\n",
       " 'Hip-hop & Rap',\n",
       " 'House',\n",
       " 'Indie',\n",
       " 'Jazz & Blues',\n",
       " 'Latin',\n",
       " 'Metal',\n",
       " 'Piano',\n",
       " 'Pop',\n",
       " 'R&B & Soul',\n",
       " 'Reggae',\n",
       " 'Reggaeton',\n",
       " 'Rock',\n",
       " 'Soundtrack',\n",
       " 'Techno',\n",
       " 'Trance',\n",
       " 'Trap',\n",
       " 'Triphop',\n",
       " 'World']"
      ]
     },
     "execution_count": 7,
     "metadata": {},
     "output_type": "execute_result"
    }
   ],
   "source": [
    "genre_list"
   ]
  },
  {
   "cell_type": "markdown",
   "id": "da049564",
   "metadata": {},
   "source": [
    "---"
   ]
  },
  {
   "cell_type": "markdown",
   "id": "8064c9d3",
   "metadata": {
    "ExecuteTime": {
     "end_time": "2021-11-12T17:00:17.108276Z",
     "start_time": "2021-11-12T17:00:17.105272Z"
    }
   },
   "source": [
    "## Bước 2: Tạo ra các link tìm kiếm từ các thể loại nhạc thu thập được để tìm kiếm các playlist liên quan thuộc thể loại nhạc đó. (30 link tìm kiếm)"
   ]
  },
  {
   "cell_type": "markdown",
   "id": "af793d48",
   "metadata": {},
   "source": [
    "Từ list các genre nhạc, em sẽ tạo ra link tìm kiếm có dạng `f'https://soundcloud.com/search/sets?q={genre}&filter.genre_or_tag={genre}'` dạng f-string để tạo ra các link tìm kiếm. Ở đây `https://soundcloud.com/search/sets?q=` là đường dẫn tiền tố giúp chúng ta tìm được các playlist, `genre` là thể loại nhạc, `&filter.genre_or_tag` là tag giúp chúng ta tìm theo thể chính thể loại nhạc đó. Em chuẩn hóa chuỗi bằng cách thay `\" \"` thành `\"%20\"` và `\"&\"` thành `\"%26\"` để dể dàng tạo ra link."
   ]
  },
  {
   "cell_type": "code",
   "execution_count": 8,
   "id": "dee4fc2e",
   "metadata": {
    "ExecuteTime": {
     "end_time": "2021-11-13T09:47:20.107414Z",
     "start_time": "2021-11-13T09:47:20.093412Z"
    },
    "jupyter": {
     "outputs_hidden": true
    },
    "scrolled": true,
    "tags": []
   },
   "outputs": [],
   "source": [
    "search_url = []\n",
    "for genre in genre_list:\n",
    "    genre = genre.replace(\" \", \"%20\")\n",
    "    genre = genre.replace(\"&\", \"%26\")\n",
    "    url = f'https://soundcloud.com/search/sets?q={genre}&filter.genre_or_tag={genre}'\n",
    "    search_url.append(url)"
   ]
  },
  {
   "cell_type": "code",
   "execution_count": 9,
   "id": "a16b15b2",
   "metadata": {
    "ExecuteTime": {
     "end_time": "2021-11-13T09:47:20.136416Z",
     "start_time": "2021-11-13T09:47:20.124412Z"
    }
   },
   "outputs": [
    {
     "data": {
      "text/plain": [
       "['https://soundcloud.com/search/sets?q=Alternative%20Rock&filter.genre_or_tag=Alternative%20Rock',\n",
       " 'https://soundcloud.com/search/sets?q=Ambient&filter.genre_or_tag=Ambient',\n",
       " 'https://soundcloud.com/search/sets?q=Classical&filter.genre_or_tag=Classical',\n",
       " 'https://soundcloud.com/search/sets?q=Country&filter.genre_or_tag=Country',\n",
       " 'https://soundcloud.com/search/sets?q=Dance%20%26%20EDM&filter.genre_or_tag=Dance%20%26%20EDM',\n",
       " 'https://soundcloud.com/search/sets?q=Dancehall&filter.genre_or_tag=Dancehall',\n",
       " 'https://soundcloud.com/search/sets?q=Deep%20House&filter.genre_or_tag=Deep%20House',\n",
       " 'https://soundcloud.com/search/sets?q=Disco&filter.genre_or_tag=Disco',\n",
       " 'https://soundcloud.com/search/sets?q=Drum%20%26%20Bass&filter.genre_or_tag=Drum%20%26%20Bass',\n",
       " 'https://soundcloud.com/search/sets?q=Dubstep&filter.genre_or_tag=Dubstep',\n",
       " 'https://soundcloud.com/search/sets?q=Electronic&filter.genre_or_tag=Electronic',\n",
       " 'https://soundcloud.com/search/sets?q=Folk%20%26%20Singer-Songwriter&filter.genre_or_tag=Folk%20%26%20Singer-Songwriter',\n",
       " 'https://soundcloud.com/search/sets?q=Hip-hop%20%26%20Rap&filter.genre_or_tag=Hip-hop%20%26%20Rap',\n",
       " 'https://soundcloud.com/search/sets?q=House&filter.genre_or_tag=House',\n",
       " 'https://soundcloud.com/search/sets?q=Indie&filter.genre_or_tag=Indie',\n",
       " 'https://soundcloud.com/search/sets?q=Jazz%20%26%20Blues&filter.genre_or_tag=Jazz%20%26%20Blues',\n",
       " 'https://soundcloud.com/search/sets?q=Latin&filter.genre_or_tag=Latin',\n",
       " 'https://soundcloud.com/search/sets?q=Metal&filter.genre_or_tag=Metal',\n",
       " 'https://soundcloud.com/search/sets?q=Piano&filter.genre_or_tag=Piano',\n",
       " 'https://soundcloud.com/search/sets?q=Pop&filter.genre_or_tag=Pop',\n",
       " 'https://soundcloud.com/search/sets?q=R%26B%20%26%20Soul&filter.genre_or_tag=R%26B%20%26%20Soul',\n",
       " 'https://soundcloud.com/search/sets?q=Reggae&filter.genre_or_tag=Reggae',\n",
       " 'https://soundcloud.com/search/sets?q=Reggaeton&filter.genre_or_tag=Reggaeton',\n",
       " 'https://soundcloud.com/search/sets?q=Rock&filter.genre_or_tag=Rock',\n",
       " 'https://soundcloud.com/search/sets?q=Soundtrack&filter.genre_or_tag=Soundtrack',\n",
       " 'https://soundcloud.com/search/sets?q=Techno&filter.genre_or_tag=Techno',\n",
       " 'https://soundcloud.com/search/sets?q=Trance&filter.genre_or_tag=Trance',\n",
       " 'https://soundcloud.com/search/sets?q=Trap&filter.genre_or_tag=Trap',\n",
       " 'https://soundcloud.com/search/sets?q=Triphop&filter.genre_or_tag=Triphop',\n",
       " 'https://soundcloud.com/search/sets?q=World&filter.genre_or_tag=World']"
      ]
     },
     "execution_count": 9,
     "metadata": {},
     "output_type": "execute_result"
    }
   ],
   "source": [
    "search_url"
   ]
  },
  {
   "cell_type": "markdown",
   "id": "284c2b12",
   "metadata": {},
   "source": [
    "---"
   ]
  },
  {
   "cell_type": "markdown",
   "id": "7ed98a5d",
   "metadata": {},
   "source": [
    "## Bước 3: Với mỗi link ở B2, lấy khoảng 50 link playlist của thể loại đó và lưu tất cả chúng vào biến playlist_link có kiểu dữ liệu là set (tránh trùng lặp playlist)"
   ]
  },
  {
   "cell_type": "markdown",
   "id": "c610e4ab",
   "metadata": {},
   "source": [
    "Ở bước này, em sẽ dùng selenium để truy cập vào 30 đường link tìm kiếm đã tạo được từ B2, tuy nhiên nếu chỉ đơn thuần gọi 1 driver selenium và chạy nó để truy cập 30 link và thu thập 50 playlist sẽ khá lâu và tốn thời gian, do đó em áp dụng `concurrent.futures` để có thể chạy cùng lúc là 5 driver selenium và mỗi driver sẽ chịu trách nhiệm tìm kiếm cho 6 link giúp giảm bớt thời gian thực thi đoạn code. (Chạy đa luồng)"
   ]
  },
  {
   "cell_type": "markdown",
   "id": "53e3163d",
   "metadata": {},
   "source": [
    "Đầu tiên, em viết hàm `get_playlist_link`. Hàm này có các input:\n",
    "- `search_url`: chính là danh sách các link tìm kiếm đã có được ở B2.\n",
    "- `start`: vị trí bắt đầu của url cần làm việc khi chạy từng driver selenium."
   ]
  },
  {
   "cell_type": "code",
   "execution_count": 10,
   "id": "20cfcc9c",
   "metadata": {
    "ExecuteTime": {
     "end_time": "2021-11-13T09:47:20.168412Z",
     "start_time": "2021-11-13T09:47:20.141416Z"
    },
    "scrolled": true
   },
   "outputs": [],
   "source": [
    "def get_playlist_link(search_url, start):\n",
    "    \n",
    "    driver = webdriver.Chrome(options=option, executable_path='chromedriver')\n",
    "    \n",
    "    for url in search_url[start:start+6]:\n",
    "        driver.get(url)\n",
    "        time.sleep(sleep_time)\n",
    "        playlist = []\n",
    "        while len(playlist) < 50:\n",
    "            playlist = (driver.find_elements(By.CSS_SELECTOR, \"li[class='searchList__item']\"))\n",
    "            driver.execute_script(\"window.scrollTo(0,document.body.scrollHeight)\")\n",
    "            time.sleep(1)\n",
    "        for ele in playlist:\n",
    "            link = ele.find_element(By.CSS_SELECTOR, \"a[class='sound__coverArt']\")\n",
    "            link = link.get_attribute('href')\n",
    "            playlist_link.add(link)\n",
    "    \n",
    "    driver.quit()"
   ]
  },
  {
   "cell_type": "markdown",
   "id": "8be97aa2",
   "metadata": {},
   "source": [
    "- Sử dụng đa luồng để thực hiện"
   ]
  },
  {
   "cell_type": "code",
   "execution_count": 11,
   "id": "da90894b",
   "metadata": {
    "ExecuteTime": {
     "end_time": "2021-11-13T09:49:53.372547Z",
     "start_time": "2021-11-13T09:47:20.173429Z"
    }
   },
   "outputs": [],
   "source": [
    "playlist_link = set()\n",
    "with concurrent.futures.ThreadPoolExecutor() as executor:\n",
    "    futures = {executor.submit(get_playlist_link, search_url, start) for start in range(0, 30, 6)}"
   ]
  },
  {
   "cell_type": "code",
   "execution_count": 12,
   "id": "1913f8ec",
   "metadata": {
    "ExecuteTime": {
     "end_time": "2021-11-13T09:49:53.388577Z",
     "start_time": "2021-11-13T09:49:53.375581Z"
    },
    "scrolled": true
   },
   "outputs": [
    {
     "data": {
      "text/plain": [
       "1473"
      ]
     },
     "execution_count": 12,
     "metadata": {},
     "output_type": "execute_result"
    }
   ],
   "source": [
    "# TEST\n",
    "assert len(playlist_link) > 1000\n",
    "len(playlist_link)"
   ]
  },
  {
   "cell_type": "markdown",
   "id": "377e940b",
   "metadata": {},
   "source": [
    "Như vậy sau khi thực hiện xong, em thu thập được `playlist_link` có độ dài là **1490** playlist, hoàn thành bước **3**."
   ]
  },
  {
   "cell_type": "markdown",
   "id": "f9547889",
   "metadata": {},
   "source": [
    "---"
   ]
  },
  {
   "cell_type": "markdown",
   "id": "ca6043a5",
   "metadata": {},
   "source": [
    "## Bước 4: Với mỗi playlist_link, lấy ra tên user của người tạo ra playlist và lưu vào biến user_link có kiểu dữ liệu là set (tránh trùng lặp user)"
   ]
  },
  {
   "cell_type": "code",
   "execution_count": 13,
   "id": "e9b3e600",
   "metadata": {
    "ExecuteTime": {
     "end_time": "2021-11-13T09:49:53.403657Z",
     "start_time": "2021-11-13T09:49:53.391574Z"
    },
    "scrolled": true
   },
   "outputs": [],
   "source": [
    "def create_user_link_list(playlist_link):\n",
    "    user_link = set()\n",
    "    for link in playlist_link:\n",
    "        flag = link.find(\"/sets/\")\n",
    "        user_link.add(link[0:flag])\n",
    "    return user_link"
   ]
  },
  {
   "cell_type": "code",
   "execution_count": 14,
   "id": "212e89cc",
   "metadata": {
    "ExecuteTime": {
     "end_time": "2021-11-13T09:49:53.419621Z",
     "start_time": "2021-11-13T09:49:53.406637Z"
    }
   },
   "outputs": [],
   "source": [
    "user_link = create_user_link_list(playlist_link)"
   ]
  },
  {
   "cell_type": "code",
   "execution_count": 15,
   "id": "ce022b5c",
   "metadata": {
    "ExecuteTime": {
     "end_time": "2021-11-13T09:49:53.435623Z",
     "start_time": "2021-11-13T09:49:53.424615Z"
    },
    "scrolled": true
   },
   "outputs": [
    {
     "data": {
      "text/plain": [
       "1342"
      ]
     },
     "execution_count": 15,
     "metadata": {},
     "output_type": "execute_result"
    }
   ],
   "source": [
    "# TEST\n",
    "assert len(user_link) > 1000\n",
    "len(user_link)"
   ]
  },
  {
   "cell_type": "markdown",
   "id": "eb961866",
   "metadata": {},
   "source": [
    "Như vậy sau khi thực hiện xong, em thu thập được `user_link` có độ dài là **1354** user, hoàn thành bước **4**."
   ]
  },
  {
   "cell_type": "markdown",
   "id": "bb0d6ca0",
   "metadata": {},
   "source": [
    "---"
   ]
  },
  {
   "cell_type": "markdown",
   "id": "8bbc53b8",
   "metadata": {},
   "source": [
    "## Bước 5: Với mỗi playlist_link, lấy ra link của 2 track đầu tiên và lưu vào biến track_link có kiểu dữ liệu là set (tránh trùng lặp track)"
   ]
  },
  {
   "cell_type": "markdown",
   "id": "68661915",
   "metadata": {},
   "source": [
    "Tương tự như B3, ở bước này em tiếp tục dùng `concurrent.futures` để chạy đa luồng nhằm tăng tốc độ thu thập dữ liệu."
   ]
  },
  {
   "cell_type": "markdown",
   "id": "0c2ff76c",
   "metadata": {},
   "source": [
    "Đầu tiên, em viết hàm `create_track_link_list`. Hàm này có các input:\n",
    "- `playlist_link`: chính là danh sách các playlist_link tìm được ở B3.\n",
    "- `pre_url`: là chuỗi `https://soundcloud.com`\n",
    "- `start`: vị trí bắt đầu của `playlist_link` khi chạy 1 luồng mới\n",
    "- `step`: bước nhảy, ở đây step bằng int(len(playlist_link) / 10) vì em muốn chạy 10 luồng"
   ]
  },
  {
   "cell_type": "code",
   "execution_count": 16,
   "id": "52678dc5",
   "metadata": {
    "ExecuteTime": {
     "end_time": "2021-11-13T09:49:53.451620Z",
     "start_time": "2021-11-13T09:49:53.438615Z"
    }
   },
   "outputs": [],
   "source": [
    "def create_track_link_list(playlist_link, pre_url, start, step):\n",
    "    \n",
    "    playlist_link = list(playlist_link)\n",
    "    for url in playlist_link[start:start+step]:\n",
    "        r = requests.get(url)\n",
    "        if not r.from_cache:\n",
    "            time.sleep(sleep_time)\n",
    "        r.encoding = r.apparent_encoding\n",
    "        soup = BeautifulSoup(r.text, \"html.parser\")\n",
    "        tracks = soup.select('article[itemprop=track]')[:2]\n",
    "        for track in tracks:\n",
    "            link = track.find(\"a\")[\"href\"]\n",
    "            track_link.add(pre_url + link)"
   ]
  },
  {
   "cell_type": "markdown",
   "id": "5d45c983",
   "metadata": {},
   "source": [
    "- Sử dụng đa luồng để thực hiện"
   ]
  },
  {
   "cell_type": "code",
   "execution_count": 17,
   "id": "87118cc7",
   "metadata": {
    "ExecuteTime": {
     "end_time": "2021-11-13T09:56:33.012410Z",
     "start_time": "2021-11-13T09:49:53.454613Z"
    }
   },
   "outputs": [],
   "source": [
    "track_link = set()\n",
    "step = int(len(playlist_link) / 10)\n",
    "pre_url = \"https://soundcloud.com\"\n",
    "with concurrent.futures.ThreadPoolExecutor() as executor:\n",
    "    futures = {executor.submit(create_track_link_list, playlist_link, pre_url, start, step) for start in range(0, len(playlist_link), step)}"
   ]
  },
  {
   "cell_type": "code",
   "execution_count": 18,
   "id": "58d69ad5",
   "metadata": {
    "ExecuteTime": {
     "end_time": "2021-11-13T09:56:33.027244Z",
     "start_time": "2021-11-13T09:56:33.015248Z"
    },
    "scrolled": false
   },
   "outputs": [
    {
     "data": {
      "text/plain": [
       "2825"
      ]
     },
     "execution_count": 18,
     "metadata": {},
     "output_type": "execute_result"
    }
   ],
   "source": [
    "# TEST\n",
    "assert len(track_link) > 1000\n",
    "len(track_link)"
   ]
  },
  {
   "cell_type": "markdown",
   "id": "e1ef1d70",
   "metadata": {},
   "source": [
    "Như vậy sau khi thực hiện xong, em thu thập được `track_link` có độ dài là **2863** track, hoàn thành bước **5**."
   ]
  },
  {
   "cell_type": "markdown",
   "id": "3549cdcf",
   "metadata": {},
   "source": [
    "---"
   ]
  },
  {
   "cell_type": "markdown",
   "id": "3f29044e",
   "metadata": {},
   "source": [
    "Trong các bước 6, 7 và 8, em sẽ tiến hành đi parse dữ liệu bằng cách truy cập vào các link đã lấy được từ các bước 3, 4 và 5. Tuy nhiên, trong quá trình làm bài, em phát hiện ra trong page source của playlist_link, user và track thì sẽ luôn có 1 đoạn script có thể lấy được mà nó chứa toàn bộ tất cả các thông tin mà chúng ta cần thu thập đối với mỗi kiểu đối tượng. Đoạn text này ở dưới dạng dictionary do đó em sẽ get đoạn text này bằng Beautiful Soup và dùng json.loads để chuyển đoạn text này về thành dictionary."
   ]
  },
  {
   "cell_type": "markdown",
   "id": "112fe9e0",
   "metadata": {},
   "source": [
    "## Bước 6: Thu thập dữ liệu playlist bằng cách truy cập vào các link trong file playlist_link"
   ]
  },
  {
   "cell_type": "markdown",
   "id": "6bd9d71c",
   "metadata": {},
   "source": [
    "Hàm `get_info_playlist` có các thành phần:\n",
    "- `playlist_link`: chứa các link playlist\n",
    "- `start`, `step`: ví trí bắt đầu và step của một luồng thực hiện"
   ]
  },
  {
   "cell_type": "code",
   "execution_count": 19,
   "id": "98b8d98e",
   "metadata": {
    "ExecuteTime": {
     "end_time": "2021-11-13T09:56:33.043215Z",
     "start_time": "2021-11-13T09:56:33.031209Z"
    }
   },
   "outputs": [],
   "source": [
    "def get_info_playlist(playlist_link, start, step):\n",
    "    playlist_link = list(playlist_link)\n",
    "    for url in playlist_link[start:start+step]:\n",
    "        r = requests.get(url)\n",
    "        if not r.from_cache:\n",
    "            time.sleep(sleep_time)\n",
    "        r.encoding = r.apparent_encoding\n",
    "        soup = BeautifulSoup(r.text, \"html.parser\")\n",
    "        scripts = soup.find_all(\"script\")\n",
    "        \n",
    "        # tìm kiếm script có chứa đoạn text: window.__sc_hydration\n",
    "        for script in scripts:\n",
    "            if len(script.contents) != 0:\n",
    "                if \"window.__sc_hydration\" in str(script.contents[0]):\n",
    "                    temp = str(script.contents[0])\n",
    "                    \n",
    "        pos = temp.find('{\"artwork_url\"')\n",
    "        data = temp[pos:len(temp) - 3]\n",
    "        data = json.loads(data)\n",
    "        \n",
    "        data.pop(\"user\")  # vì trong data còn có key user lưu trữ thông tin của người đăng playlist do đó loại bỏ nó ra\n",
    "        \n",
    "        # lấy các track ids có trong playlist và tạo chuỗi theo yêu cầu đề bài\n",
    "        tracks = data.pop(\"tracks\")\n",
    "        tracksid = \"\"\n",
    "        for track in tracks:\n",
    "            tracksid += str(track[\"id\"]) + \",\"\n",
    "        tracksid = tracksid.rstrip(',')\n",
    "        data[\"TracksId\"] = tracksid\n",
    "        playlist_lst.append(data)"
   ]
  },
  {
   "cell_type": "markdown",
   "id": "b9885813",
   "metadata": {},
   "source": [
    "- Sử dụng đa luồng để thực hiện"
   ]
  },
  {
   "cell_type": "code",
   "execution_count": 20,
   "id": "7a7e5980",
   "metadata": {
    "ExecuteTime": {
     "end_time": "2021-11-13T10:02:44.438249Z",
     "start_time": "2021-11-13T09:56:33.046210Z"
    }
   },
   "outputs": [],
   "source": [
    "playlist_lst = []\n",
    "step = int(len(playlist_link) / 10)\n",
    "with concurrent.futures.ThreadPoolExecutor() as executor:\n",
    "    futures = {executor.submit(get_info_playlist, playlist_link, start, step) for start in range(0, len(playlist_link), step)}"
   ]
  },
  {
   "cell_type": "markdown",
   "id": "12c88edd",
   "metadata": {},
   "source": [
    "### Chuyển đổi dữ liệu thu được về Data frame\n",
    "- Sau khi thực thi xong đoạn code trên, chúng ta thu được một list các thông tin của các playlist dưới dạng dictionary, để thuận tiện theo dõi cũng như để ghi vào file output, chuyển `playlist_lst` thành 1 Data Frame của `pandas`\n",
    "- `df_pl` là biến lưu trữ cho `playlist_lst`"
   ]
  },
  {
   "cell_type": "code",
   "execution_count": 21,
   "id": "48873248",
   "metadata": {
    "ExecuteTime": {
     "end_time": "2021-11-13T10:02:44.580245Z",
     "start_time": "2021-11-13T10:02:44.441250Z"
    },
    "scrolled": false
   },
   "outputs": [
    {
     "data": {
      "text/plain": [
       "Index(['artwork_url', 'created_at', 'description', 'duration', 'embeddable_by',\n",
       "       'genre', 'id', 'kind', 'label_name', 'last_modified', 'license',\n",
       "       'likes_count', 'managed_by_feeds', 'permalink', 'permalink_url',\n",
       "       'public', 'purchase_title', 'purchase_url', 'release_date',\n",
       "       'reposts_count', 'secret_token', 'sharing', 'tag_list', 'title', 'uri',\n",
       "       'user_id', 'set_type', 'is_album', 'published_at', 'display_date',\n",
       "       'track_count', 'url', 'TracksId'],\n",
       "      dtype='object')"
      ]
     },
     "execution_count": 21,
     "metadata": {},
     "output_type": "execute_result"
    }
   ],
   "source": [
    "df_pl = pd.json_normalize(playlist_lst)\n",
    "df_pl.columns"
   ]
  },
  {
   "cell_type": "markdown",
   "id": "e51eb752",
   "metadata": {},
   "source": [
    "###  Theo dõi 5 dòng đầu của `df_pl`"
   ]
  },
  {
   "cell_type": "code",
   "execution_count": 22,
   "id": "3e37f908",
   "metadata": {
    "ExecuteTime": {
     "end_time": "2021-11-13T10:02:44.644260Z",
     "start_time": "2021-11-13T10:02:44.582250Z"
    },
    "scrolled": false
   },
   "outputs": [
    {
     "data": {
      "text/html": [
       "<div>\n",
       "<style scoped>\n",
       "    .dataframe tbody tr th:only-of-type {\n",
       "        vertical-align: middle;\n",
       "    }\n",
       "\n",
       "    .dataframe tbody tr th {\n",
       "        vertical-align: top;\n",
       "    }\n",
       "\n",
       "    .dataframe thead th {\n",
       "        text-align: right;\n",
       "    }\n",
       "</style>\n",
       "<table border=\"1\" class=\"dataframe\">\n",
       "  <thead>\n",
       "    <tr style=\"text-align: right;\">\n",
       "      <th></th>\n",
       "      <th>artwork_url</th>\n",
       "      <th>created_at</th>\n",
       "      <th>description</th>\n",
       "      <th>duration</th>\n",
       "      <th>embeddable_by</th>\n",
       "      <th>genre</th>\n",
       "      <th>id</th>\n",
       "      <th>kind</th>\n",
       "      <th>label_name</th>\n",
       "      <th>last_modified</th>\n",
       "      <th>...</th>\n",
       "      <th>title</th>\n",
       "      <th>uri</th>\n",
       "      <th>user_id</th>\n",
       "      <th>set_type</th>\n",
       "      <th>is_album</th>\n",
       "      <th>published_at</th>\n",
       "      <th>display_date</th>\n",
       "      <th>track_count</th>\n",
       "      <th>url</th>\n",
       "      <th>TracksId</th>\n",
       "    </tr>\n",
       "  </thead>\n",
       "  <tbody>\n",
       "    <tr>\n",
       "      <th>0</th>\n",
       "      <td>https://i1.sndcdn.com/artworks-000222467151-9o...</td>\n",
       "      <td>2017-05-13T21:22:32Z</td>\n",
       "      <td>Thanks for listening and supporting independen...</td>\n",
       "      <td>4438261</td>\n",
       "      <td>all</td>\n",
       "      <td>Electronic</td>\n",
       "      <td>322854746</td>\n",
       "      <td>playlist</td>\n",
       "      <td>None</td>\n",
       "      <td>2017-05-14T09:32:56Z</td>\n",
       "      <td>...</td>\n",
       "      <td>Gentle Dreams ğŸ›�ï¸� - An Indie/Chill/Electro...</td>\n",
       "      <td>https://api.soundcloud.com/playlists/322854746</td>\n",
       "      <td>37994022</td>\n",
       "      <td></td>\n",
       "      <td>False</td>\n",
       "      <td>2017-05-13T21:22:32Z</td>\n",
       "      <td>2017-05-13T21:22:32Z</td>\n",
       "      <td>18</td>\n",
       "      <td>/alexrainbirdmusic/sets/gentle-dreams-an-indie...</td>\n",
       "      <td>310826410,323031761,305445147,295247120,287166...</td>\n",
       "    </tr>\n",
       "    <tr>\n",
       "      <th>1</th>\n",
       "      <td>None</td>\n",
       "      <td>2016-04-27T20:48:33Z</td>\n",
       "      <td>None</td>\n",
       "      <td>132180964</td>\n",
       "      <td>all</td>\n",
       "      <td></td>\n",
       "      <td>219984317</td>\n",
       "      <td>playlist</td>\n",
       "      <td>None</td>\n",
       "      <td>2019-09-14T00:43:01Z</td>\n",
       "      <td>...</td>\n",
       "      <td>TRAP</td>\n",
       "      <td>https://api.soundcloud.com/playlists/219984317</td>\n",
       "      <td>67144491</td>\n",
       "      <td></td>\n",
       "      <td>False</td>\n",
       "      <td>None</td>\n",
       "      <td>2016-04-27T20:48:33Z</td>\n",
       "      <td>451</td>\n",
       "      <td>/mido-tito-3/sets/trap</td>\n",
       "      <td>129314155,135305728,246223836,167311586,215001...</td>\n",
       "    </tr>\n",
       "    <tr>\n",
       "      <th>2</th>\n",
       "      <td>https://i1.sndcdn.com/artworks-000145551677-78...</td>\n",
       "      <td>2016-01-21T20:33:40Z</td>\n",
       "      <td>None</td>\n",
       "      <td>103645424</td>\n",
       "      <td>all</td>\n",
       "      <td>Electronic</td>\n",
       "      <td>187981092</td>\n",
       "      <td>playlist</td>\n",
       "      <td>None</td>\n",
       "      <td>2020-12-31T04:39:57Z</td>\n",
       "      <td>...</td>\n",
       "      <td>trap</td>\n",
       "      <td>https://api.soundcloud.com/playlists/187981092</td>\n",
       "      <td>200955727</td>\n",
       "      <td></td>\n",
       "      <td>False</td>\n",
       "      <td>None</td>\n",
       "      <td>2016-01-21T20:33:40Z</td>\n",
       "      <td>443</td>\n",
       "      <td>/user-548616395/sets/trap</td>\n",
       "      <td>139912840,191292992,186404225,120687919,128871...</td>\n",
       "    </tr>\n",
       "    <tr>\n",
       "      <th>3</th>\n",
       "      <td>None</td>\n",
       "      <td>2013-12-21T20:36:56Z</td>\n",
       "      <td>None</td>\n",
       "      <td>9434253</td>\n",
       "      <td>none</td>\n",
       "      <td>R&amp;B</td>\n",
       "      <td>17823300</td>\n",
       "      <td>playlist</td>\n",
       "      <td>None</td>\n",
       "      <td>2014-06-13T14:04:07Z</td>\n",
       "      <td>...</td>\n",
       "      <td>TripHop</td>\n",
       "      <td>https://api.soundcloud.com/playlists/17823300</td>\n",
       "      <td>71378711</td>\n",
       "      <td></td>\n",
       "      <td>False</td>\n",
       "      <td>None</td>\n",
       "      <td>2013-12-21T20:36:56Z</td>\n",
       "      <td>43</td>\n",
       "      <td>/arjay-jean/sets/triphop</td>\n",
       "      <td>142093,142107,148278,1706674,9748835,23693297,...</td>\n",
       "    </tr>\n",
       "    <tr>\n",
       "      <th>4</th>\n",
       "      <td>https://i1.sndcdn.com/artworks-000366572223-no...</td>\n",
       "      <td>2016-12-29T11:54:48Z</td>\n",
       "      <td>None</td>\n",
       "      <td>774233205</td>\n",
       "      <td>all</td>\n",
       "      <td>Drum &amp; Bass</td>\n",
       "      <td>287371313</td>\n",
       "      <td>playlist</td>\n",
       "      <td>None</td>\n",
       "      <td>2021-10-23T19:45:45Z</td>\n",
       "      <td>...</td>\n",
       "      <td>drum &amp; bass</td>\n",
       "      <td>https://api.soundcloud.com/playlists/287371313</td>\n",
       "      <td>173639213</td>\n",
       "      <td></td>\n",
       "      <td>False</td>\n",
       "      <td>2016-12-29T11:54:48Z</td>\n",
       "      <td>2016-12-29T11:54:48Z</td>\n",
       "      <td>488</td>\n",
       "      <td>/xj8g5v1h9vp7/sets/dramobass</td>\n",
       "      <td>299477341,62781091,142721736,178940341,1468531...</td>\n",
       "    </tr>\n",
       "  </tbody>\n",
       "</table>\n",
       "<p>5 rows × 33 columns</p>\n",
       "</div>"
      ],
      "text/plain": [
       "                                         artwork_url            created_at  \\\n",
       "0  https://i1.sndcdn.com/artworks-000222467151-9o...  2017-05-13T21:22:32Z   \n",
       "1                                               None  2016-04-27T20:48:33Z   \n",
       "2  https://i1.sndcdn.com/artworks-000145551677-78...  2016-01-21T20:33:40Z   \n",
       "3                                               None  2013-12-21T20:36:56Z   \n",
       "4  https://i1.sndcdn.com/artworks-000366572223-no...  2016-12-29T11:54:48Z   \n",
       "\n",
       "                                         description   duration embeddable_by  \\\n",
       "0  Thanks for listening and supporting independen...    4438261           all   \n",
       "1                                               None  132180964           all   \n",
       "2                                               None  103645424           all   \n",
       "3                                               None    9434253          none   \n",
       "4                                               None  774233205           all   \n",
       "\n",
       "         genre         id      kind label_name         last_modified  ...  \\\n",
       "0   Electronic  322854746  playlist       None  2017-05-14T09:32:56Z  ...   \n",
       "1               219984317  playlist       None  2019-09-14T00:43:01Z  ...   \n",
       "2   Electronic  187981092  playlist       None  2020-12-31T04:39:57Z  ...   \n",
       "3          R&B   17823300  playlist       None  2014-06-13T14:04:07Z  ...   \n",
       "4  Drum & Bass  287371313  playlist       None  2021-10-23T19:45:45Z  ...   \n",
       "\n",
       "                                               title  \\\n",
       "0  Gentle Dreams ğŸ›�ï¸� - An Indie/Chill/Electro...   \n",
       "1                                               TRAP   \n",
       "2                                               trap   \n",
       "3                                            TripHop   \n",
       "4                                        drum & bass   \n",
       "\n",
       "                                              uri    user_id set_type  \\\n",
       "0  https://api.soundcloud.com/playlists/322854746   37994022            \n",
       "1  https://api.soundcloud.com/playlists/219984317   67144491            \n",
       "2  https://api.soundcloud.com/playlists/187981092  200955727            \n",
       "3   https://api.soundcloud.com/playlists/17823300   71378711            \n",
       "4  https://api.soundcloud.com/playlists/287371313  173639213            \n",
       "\n",
       "  is_album          published_at          display_date track_count  \\\n",
       "0    False  2017-05-13T21:22:32Z  2017-05-13T21:22:32Z          18   \n",
       "1    False                  None  2016-04-27T20:48:33Z         451   \n",
       "2    False                  None  2016-01-21T20:33:40Z         443   \n",
       "3    False                  None  2013-12-21T20:36:56Z          43   \n",
       "4    False  2016-12-29T11:54:48Z  2016-12-29T11:54:48Z         488   \n",
       "\n",
       "                                                 url  \\\n",
       "0  /alexrainbirdmusic/sets/gentle-dreams-an-indie...   \n",
       "1                             /mido-tito-3/sets/trap   \n",
       "2                          /user-548616395/sets/trap   \n",
       "3                           /arjay-jean/sets/triphop   \n",
       "4                       /xj8g5v1h9vp7/sets/dramobass   \n",
       "\n",
       "                                            TracksId  \n",
       "0  310826410,323031761,305445147,295247120,287166...  \n",
       "1  129314155,135305728,246223836,167311586,215001...  \n",
       "2  139912840,191292992,186404225,120687919,128871...  \n",
       "3  142093,142107,148278,1706674,9748835,23693297,...  \n",
       "4  299477341,62781091,142721736,178940341,1468531...  \n",
       "\n",
       "[5 rows x 33 columns]"
      ]
     },
     "execution_count": 22,
     "metadata": {},
     "output_type": "execute_result"
    }
   ],
   "source": [
    "df_pl.head()"
   ]
  },
  {
   "cell_type": "markdown",
   "id": "fa1e7073",
   "metadata": {},
   "source": [
    "### Ghi dữ liệu ra file `playlist.csv`"
   ]
  },
  {
   "cell_type": "code",
   "execution_count": 42,
   "id": "1ad4cf89",
   "metadata": {
    "ExecuteTime": {
     "end_time": "2021-11-13T10:35:10.813030Z",
     "start_time": "2021-11-13T10:35:10.678987Z"
    }
   },
   "outputs": [],
   "source": [
    "playlist_file = \"Crawl_data/playlist.csv\"\n",
    "df_pl.to_csv(playlist_file, sep='\\t', index=False, encoding=\"utf-8\")"
   ]
  },
  {
   "cell_type": "markdown",
   "id": "365a8129",
   "metadata": {},
   "source": [
    "### Test lại dữ liệu đã ghi ra file `playlist.csv`"
   ]
  },
  {
   "cell_type": "code",
   "execution_count": 43,
   "id": "6c8fe87c",
   "metadata": {
    "ExecuteTime": {
     "end_time": "2021-11-13T10:35:13.959921Z",
     "start_time": "2021-11-13T10:35:13.814921Z"
    },
    "scrolled": false
   },
   "outputs": [
    {
     "data": {
      "text/html": [
       "<div>\n",
       "<style scoped>\n",
       "    .dataframe tbody tr th:only-of-type {\n",
       "        vertical-align: middle;\n",
       "    }\n",
       "\n",
       "    .dataframe tbody tr th {\n",
       "        vertical-align: top;\n",
       "    }\n",
       "\n",
       "    .dataframe thead th {\n",
       "        text-align: right;\n",
       "    }\n",
       "</style>\n",
       "<table border=\"1\" class=\"dataframe\">\n",
       "  <thead>\n",
       "    <tr style=\"text-align: right;\">\n",
       "      <th></th>\n",
       "      <th>artwork_url</th>\n",
       "      <th>created_at</th>\n",
       "      <th>description</th>\n",
       "      <th>duration</th>\n",
       "      <th>embeddable_by</th>\n",
       "      <th>genre</th>\n",
       "      <th>id</th>\n",
       "      <th>kind</th>\n",
       "      <th>label_name</th>\n",
       "      <th>last_modified</th>\n",
       "      <th>...</th>\n",
       "      <th>title</th>\n",
       "      <th>uri</th>\n",
       "      <th>user_id</th>\n",
       "      <th>set_type</th>\n",
       "      <th>is_album</th>\n",
       "      <th>published_at</th>\n",
       "      <th>display_date</th>\n",
       "      <th>track_count</th>\n",
       "      <th>url</th>\n",
       "      <th>TracksId</th>\n",
       "    </tr>\n",
       "  </thead>\n",
       "  <tbody>\n",
       "    <tr>\n",
       "      <th>0</th>\n",
       "      <td>https://i1.sndcdn.com/artworks-000222467151-9o...</td>\n",
       "      <td>2017-05-13T21:22:32Z</td>\n",
       "      <td>Thanks for listening and supporting independen...</td>\n",
       "      <td>4438261</td>\n",
       "      <td>all</td>\n",
       "      <td>Electronic</td>\n",
       "      <td>322854746</td>\n",
       "      <td>playlist</td>\n",
       "      <td>NaN</td>\n",
       "      <td>2017-05-14T09:32:56Z</td>\n",
       "      <td>...</td>\n",
       "      <td>Gentle Dreams ğŸ›�ï¸� - An Indie/Chill/Electro...</td>\n",
       "      <td>https://api.soundcloud.com/playlists/322854746</td>\n",
       "      <td>37994022</td>\n",
       "      <td>NaN</td>\n",
       "      <td>False</td>\n",
       "      <td>2017-05-13T21:22:32Z</td>\n",
       "      <td>2017-05-13T21:22:32Z</td>\n",
       "      <td>18</td>\n",
       "      <td>/alexrainbirdmusic/sets/gentle-dreams-an-indie...</td>\n",
       "      <td>310826410,323031761,305445147,295247120,287166...</td>\n",
       "    </tr>\n",
       "    <tr>\n",
       "      <th>1</th>\n",
       "      <td>NaN</td>\n",
       "      <td>2016-04-27T20:48:33Z</td>\n",
       "      <td>NaN</td>\n",
       "      <td>132180964</td>\n",
       "      <td>all</td>\n",
       "      <td>NaN</td>\n",
       "      <td>219984317</td>\n",
       "      <td>playlist</td>\n",
       "      <td>NaN</td>\n",
       "      <td>2019-09-14T00:43:01Z</td>\n",
       "      <td>...</td>\n",
       "      <td>TRAP</td>\n",
       "      <td>https://api.soundcloud.com/playlists/219984317</td>\n",
       "      <td>67144491</td>\n",
       "      <td>NaN</td>\n",
       "      <td>False</td>\n",
       "      <td>NaN</td>\n",
       "      <td>2016-04-27T20:48:33Z</td>\n",
       "      <td>451</td>\n",
       "      <td>/mido-tito-3/sets/trap</td>\n",
       "      <td>129314155,135305728,246223836,167311586,215001...</td>\n",
       "    </tr>\n",
       "    <tr>\n",
       "      <th>2</th>\n",
       "      <td>https://i1.sndcdn.com/artworks-000145551677-78...</td>\n",
       "      <td>2016-01-21T20:33:40Z</td>\n",
       "      <td>NaN</td>\n",
       "      <td>103645424</td>\n",
       "      <td>all</td>\n",
       "      <td>Electronic</td>\n",
       "      <td>187981092</td>\n",
       "      <td>playlist</td>\n",
       "      <td>NaN</td>\n",
       "      <td>2020-12-31T04:39:57Z</td>\n",
       "      <td>...</td>\n",
       "      <td>trap</td>\n",
       "      <td>https://api.soundcloud.com/playlists/187981092</td>\n",
       "      <td>200955727</td>\n",
       "      <td>NaN</td>\n",
       "      <td>False</td>\n",
       "      <td>NaN</td>\n",
       "      <td>2016-01-21T20:33:40Z</td>\n",
       "      <td>443</td>\n",
       "      <td>/user-548616395/sets/trap</td>\n",
       "      <td>139912840,191292992,186404225,120687919,128871...</td>\n",
       "    </tr>\n",
       "    <tr>\n",
       "      <th>3</th>\n",
       "      <td>NaN</td>\n",
       "      <td>2013-12-21T20:36:56Z</td>\n",
       "      <td>NaN</td>\n",
       "      <td>9434253</td>\n",
       "      <td>none</td>\n",
       "      <td>R&amp;B</td>\n",
       "      <td>17823300</td>\n",
       "      <td>playlist</td>\n",
       "      <td>NaN</td>\n",
       "      <td>2014-06-13T14:04:07Z</td>\n",
       "      <td>...</td>\n",
       "      <td>TripHop</td>\n",
       "      <td>https://api.soundcloud.com/playlists/17823300</td>\n",
       "      <td>71378711</td>\n",
       "      <td>NaN</td>\n",
       "      <td>False</td>\n",
       "      <td>NaN</td>\n",
       "      <td>2013-12-21T20:36:56Z</td>\n",
       "      <td>43</td>\n",
       "      <td>/arjay-jean/sets/triphop</td>\n",
       "      <td>142093,142107,148278,1706674,9748835,23693297,...</td>\n",
       "    </tr>\n",
       "    <tr>\n",
       "      <th>4</th>\n",
       "      <td>https://i1.sndcdn.com/artworks-000366572223-no...</td>\n",
       "      <td>2016-12-29T11:54:48Z</td>\n",
       "      <td>NaN</td>\n",
       "      <td>774233205</td>\n",
       "      <td>all</td>\n",
       "      <td>Drum &amp; Bass</td>\n",
       "      <td>287371313</td>\n",
       "      <td>playlist</td>\n",
       "      <td>NaN</td>\n",
       "      <td>2021-10-23T19:45:45Z</td>\n",
       "      <td>...</td>\n",
       "      <td>drum &amp; bass</td>\n",
       "      <td>https://api.soundcloud.com/playlists/287371313</td>\n",
       "      <td>173639213</td>\n",
       "      <td>NaN</td>\n",
       "      <td>False</td>\n",
       "      <td>2016-12-29T11:54:48Z</td>\n",
       "      <td>2016-12-29T11:54:48Z</td>\n",
       "      <td>488</td>\n",
       "      <td>/xj8g5v1h9vp7/sets/dramobass</td>\n",
       "      <td>299477341,62781091,142721736,178940341,1468531...</td>\n",
       "    </tr>\n",
       "  </tbody>\n",
       "</table>\n",
       "<p>5 rows × 33 columns</p>\n",
       "</div>"
      ],
      "text/plain": [
       "                                         artwork_url            created_at  \\\n",
       "0  https://i1.sndcdn.com/artworks-000222467151-9o...  2017-05-13T21:22:32Z   \n",
       "1                                                NaN  2016-04-27T20:48:33Z   \n",
       "2  https://i1.sndcdn.com/artworks-000145551677-78...  2016-01-21T20:33:40Z   \n",
       "3                                                NaN  2013-12-21T20:36:56Z   \n",
       "4  https://i1.sndcdn.com/artworks-000366572223-no...  2016-12-29T11:54:48Z   \n",
       "\n",
       "                                         description   duration embeddable_by  \\\n",
       "0  Thanks for listening and supporting independen...    4438261           all   \n",
       "1                                                NaN  132180964           all   \n",
       "2                                                NaN  103645424           all   \n",
       "3                                                NaN    9434253          none   \n",
       "4                                                NaN  774233205           all   \n",
       "\n",
       "         genre         id      kind label_name         last_modified  ...  \\\n",
       "0   Electronic  322854746  playlist        NaN  2017-05-14T09:32:56Z  ...   \n",
       "1          NaN  219984317  playlist        NaN  2019-09-14T00:43:01Z  ...   \n",
       "2   Electronic  187981092  playlist        NaN  2020-12-31T04:39:57Z  ...   \n",
       "3          R&B   17823300  playlist        NaN  2014-06-13T14:04:07Z  ...   \n",
       "4  Drum & Bass  287371313  playlist        NaN  2021-10-23T19:45:45Z  ...   \n",
       "\n",
       "                                               title  \\\n",
       "0  Gentle Dreams ğŸ›�ï¸� - An Indie/Chill/Electro...   \n",
       "1                                               TRAP   \n",
       "2                                               trap   \n",
       "3                                            TripHop   \n",
       "4                                        drum & bass   \n",
       "\n",
       "                                              uri    user_id set_type  \\\n",
       "0  https://api.soundcloud.com/playlists/322854746   37994022      NaN   \n",
       "1  https://api.soundcloud.com/playlists/219984317   67144491      NaN   \n",
       "2  https://api.soundcloud.com/playlists/187981092  200955727      NaN   \n",
       "3   https://api.soundcloud.com/playlists/17823300   71378711      NaN   \n",
       "4  https://api.soundcloud.com/playlists/287371313  173639213      NaN   \n",
       "\n",
       "  is_album          published_at          display_date track_count  \\\n",
       "0    False  2017-05-13T21:22:32Z  2017-05-13T21:22:32Z          18   \n",
       "1    False                   NaN  2016-04-27T20:48:33Z         451   \n",
       "2    False                   NaN  2016-01-21T20:33:40Z         443   \n",
       "3    False                   NaN  2013-12-21T20:36:56Z          43   \n",
       "4    False  2016-12-29T11:54:48Z  2016-12-29T11:54:48Z         488   \n",
       "\n",
       "                                                 url  \\\n",
       "0  /alexrainbirdmusic/sets/gentle-dreams-an-indie...   \n",
       "1                             /mido-tito-3/sets/trap   \n",
       "2                          /user-548616395/sets/trap   \n",
       "3                           /arjay-jean/sets/triphop   \n",
       "4                       /xj8g5v1h9vp7/sets/dramobass   \n",
       "\n",
       "                                            TracksId  \n",
       "0  310826410,323031761,305445147,295247120,287166...  \n",
       "1  129314155,135305728,246223836,167311586,215001...  \n",
       "2  139912840,191292992,186404225,120687919,128871...  \n",
       "3  142093,142107,148278,1706674,9748835,23693297,...  \n",
       "4  299477341,62781091,142721736,178940341,1468531...  \n",
       "\n",
       "[5 rows x 33 columns]"
      ]
     },
     "execution_count": 43,
     "metadata": {},
     "output_type": "execute_result"
    }
   ],
   "source": [
    "# TEST\n",
    "playlists = pd.read_csv(playlist_file, sep='\\t')\n",
    "\n",
    "# Kiểm tra liệu có thu thập đủ trên 1000 records về playlist chưa\n",
    "assert len(playlists) > 1000\n",
    "\n",
    "# Xem 5 dòng đầu của dữ liệu\n",
    "playlists.head()"
   ]
  },
  {
   "cell_type": "markdown",
   "id": "af4b6244",
   "metadata": {},
   "source": [
    "---"
   ]
  },
  {
   "cell_type": "markdown",
   "id": "a2647341",
   "metadata": {},
   "source": [
    "## Bước 7: Thu thập dữ liệu user bằng cách truy cập vào các link trong file user_link"
   ]
  },
  {
   "cell_type": "markdown",
   "id": "1d341044",
   "metadata": {},
   "source": [
    "Hàm `get_info_user` có các thành phần:\n",
    "- `user_link`: chứa các link user\n",
    "- `start`, `step`: ví trí bắt đầu và step của một luồng thực hiện"
   ]
  },
  {
   "cell_type": "code",
   "execution_count": 25,
   "id": "c841598f",
   "metadata": {
    "ExecuteTime": {
     "end_time": "2021-11-13T10:02:45.100251Z",
     "start_time": "2021-11-13T10:02:45.087252Z"
    },
    "scrolled": true
   },
   "outputs": [],
   "source": [
    "def get_info_user(user_link, start, step):\n",
    "    user_link = list(user_link)\n",
    "    for url in user_link[start:start+step]:\n",
    "        r = requests.get(url)\n",
    "        if not r.from_cache:\n",
    "            time.sleep(sleep_time)\n",
    "        r.encoding = r.apparent_encoding\n",
    "        soup = BeautifulSoup(r.text, \"html.parser\")\n",
    "        scripts = soup.find_all(\"script\")\n",
    "        for script in scripts:\n",
    "            if len(script.contents) != 0:\n",
    "                if \"window.__sc_hydration\" in str(script.contents[0]):\n",
    "                    temp = str(script.contents[0])\n",
    "        pos = temp.find('{\"avatar_url\"')\n",
    "        data = temp[pos:len(temp) - 3]\n",
    "        data = json.loads(data)\n",
    "        user_lst.append(data)"
   ]
  },
  {
   "cell_type": "markdown",
   "id": "c2c490eb",
   "metadata": {},
   "source": [
    "- Sử dụng đa luồng để thực hiện"
   ]
  },
  {
   "cell_type": "code",
   "execution_count": 26,
   "id": "d40271ec",
   "metadata": {
    "ExecuteTime": {
     "end_time": "2021-11-13T10:16:56.813150Z",
     "start_time": "2021-11-13T10:02:45.104252Z"
    }
   },
   "outputs": [],
   "source": [
    "user_lst = []\n",
    "step = int(len(user_link) / 10)\n",
    "with concurrent.futures.ThreadPoolExecutor() as executor:\n",
    "    futures = {executor.submit(get_info_user, user_link, start, step) for start in range(0, len(user_link), step)}"
   ]
  },
  {
   "cell_type": "markdown",
   "id": "b4ce916b",
   "metadata": {},
   "source": [
    "### Chuyển đổi dữ liệu thu được về Data frame\n",
    "- Sau khi thực thi xong đoạn code trên, chúng ta thu được một list các thông tin của các user dưới dạng dictionary, để thuận tiện theo dõi cũng như để ghi vào file output, chuyển `user_lst` thành 1 Data Frame của `pandas`\n",
    "- `df_us` là biến lưu trữ cho `user_lst`"
   ]
  },
  {
   "cell_type": "code",
   "execution_count": 27,
   "id": "6522fdbe",
   "metadata": {
    "ExecuteTime": {
     "end_time": "2021-11-13T10:16:57.003119Z",
     "start_time": "2021-11-13T10:16:56.819952Z"
    },
    "scrolled": false
   },
   "outputs": [
    {
     "data": {
      "text/plain": [
       "Index(['avatar_url', 'city', 'comments_count', 'country_code', 'created_at',\n",
       "       'creator_subscriptions', 'description', 'followers_count',\n",
       "       'followings_count', 'first_name', 'full_name', 'groups_count', 'id',\n",
       "       'kind', 'last_modified', 'last_name', 'likes_count',\n",
       "       'playlist_likes_count', 'permalink', 'permalink_url', 'playlist_count',\n",
       "       'reposts_count', 'track_count', 'uri', 'urn', 'username', 'verified',\n",
       "       'station_urn', 'station_permalink', 'url',\n",
       "       'creator_subscription.product.id', 'visuals.urn', 'visuals.enabled',\n",
       "       'visuals.visuals', 'visuals.tracking', 'badges.pro',\n",
       "       'badges.pro_unlimited', 'badges.verified', 'visuals'],\n",
       "      dtype='object')"
      ]
     },
     "execution_count": 27,
     "metadata": {},
     "output_type": "execute_result"
    }
   ],
   "source": [
    "df_us = pd.json_normalize(user_lst)\n",
    "df_us.columns"
   ]
  },
  {
   "cell_type": "markdown",
   "id": "6e67bd2d",
   "metadata": {},
   "source": [
    "###  Theo dõi 5 dòng đầu của `df_us`"
   ]
  },
  {
   "cell_type": "code",
   "execution_count": 28,
   "id": "c6c6472a",
   "metadata": {
    "ExecuteTime": {
     "end_time": "2021-11-13T10:16:57.049467Z",
     "start_time": "2021-11-13T10:16:57.005957Z"
    },
    "scrolled": false
   },
   "outputs": [
    {
     "data": {
      "text/html": [
       "<div>\n",
       "<style scoped>\n",
       "    .dataframe tbody tr th:only-of-type {\n",
       "        vertical-align: middle;\n",
       "    }\n",
       "\n",
       "    .dataframe tbody tr th {\n",
       "        vertical-align: top;\n",
       "    }\n",
       "\n",
       "    .dataframe thead th {\n",
       "        text-align: right;\n",
       "    }\n",
       "</style>\n",
       "<table border=\"1\" class=\"dataframe\">\n",
       "  <thead>\n",
       "    <tr style=\"text-align: right;\">\n",
       "      <th></th>\n",
       "      <th>avatar_url</th>\n",
       "      <th>city</th>\n",
       "      <th>comments_count</th>\n",
       "      <th>country_code</th>\n",
       "      <th>created_at</th>\n",
       "      <th>creator_subscriptions</th>\n",
       "      <th>description</th>\n",
       "      <th>followers_count</th>\n",
       "      <th>followings_count</th>\n",
       "      <th>first_name</th>\n",
       "      <th>...</th>\n",
       "      <th>url</th>\n",
       "      <th>creator_subscription.product.id</th>\n",
       "      <th>visuals.urn</th>\n",
       "      <th>visuals.enabled</th>\n",
       "      <th>visuals.visuals</th>\n",
       "      <th>visuals.tracking</th>\n",
       "      <th>badges.pro</th>\n",
       "      <th>badges.pro_unlimited</th>\n",
       "      <th>badges.verified</th>\n",
       "      <th>visuals</th>\n",
       "    </tr>\n",
       "  </thead>\n",
       "  <tbody>\n",
       "    <tr>\n",
       "      <th>0</th>\n",
       "      <td>https://i1.sndcdn.com/avatars-000202454384-nin...</td>\n",
       "      <td>Lisboa</td>\n",
       "      <td>1</td>\n",
       "      <td>None</td>\n",
       "      <td>2010-05-11T12:58:36Z</td>\n",
       "      <td>[{'product': {'id': 'creator-pro-unlimited'}}]</td>\n",
       "      <td>Enthusiast.</td>\n",
       "      <td>245</td>\n",
       "      <td>1996</td>\n",
       "      <td></td>\n",
       "      <td>...</td>\n",
       "      <td>/mehigan-de-vizario</td>\n",
       "      <td>creator-pro-unlimited</td>\n",
       "      <td>soundcloud:users:993251</td>\n",
       "      <td>True</td>\n",
       "      <td>[{'urn': 'soundcloud:visuals:206685', 'entry_t...</td>\n",
       "      <td>NaN</td>\n",
       "      <td>False</td>\n",
       "      <td>True</td>\n",
       "      <td>False</td>\n",
       "      <td>NaN</td>\n",
       "    </tr>\n",
       "    <tr>\n",
       "      <th>1</th>\n",
       "      <td>https://i1.sndcdn.com/avatars-000279257908-3cu...</td>\n",
       "      <td>None</td>\n",
       "      <td>0</td>\n",
       "      <td>None</td>\n",
       "      <td>2016-01-25T06:49:28Z</td>\n",
       "      <td>[{'product': {'id': 'free'}}]</td>\n",
       "      <td>None</td>\n",
       "      <td>4</td>\n",
       "      <td>37</td>\n",
       "      <td></td>\n",
       "      <td>...</td>\n",
       "      <td>/matthew1-280736985</td>\n",
       "      <td>free</td>\n",
       "      <td>soundcloud:users:201650157</td>\n",
       "      <td>True</td>\n",
       "      <td>[{'urn': 'soundcloud:visuals:18574583', 'entry...</td>\n",
       "      <td>NaN</td>\n",
       "      <td>False</td>\n",
       "      <td>False</td>\n",
       "      <td>False</td>\n",
       "      <td>NaN</td>\n",
       "    </tr>\n",
       "    <tr>\n",
       "      <th>2</th>\n",
       "      <td>https://i1.sndcdn.com/avatars-000304829422-gco...</td>\n",
       "      <td>None</td>\n",
       "      <td>3</td>\n",
       "      <td>None</td>\n",
       "      <td>2016-10-30T20:31:17Z</td>\n",
       "      <td>[{'product': {'id': 'free'}}]</td>\n",
       "      <td>None</td>\n",
       "      <td>3</td>\n",
       "      <td>7</td>\n",
       "      <td>NyukiZz</td>\n",
       "      <td>...</td>\n",
       "      <td>/nyukizz-nkz</td>\n",
       "      <td>free</td>\n",
       "      <td>NaN</td>\n",
       "      <td>NaN</td>\n",
       "      <td>NaN</td>\n",
       "      <td>NaN</td>\n",
       "      <td>False</td>\n",
       "      <td>False</td>\n",
       "      <td>False</td>\n",
       "      <td>NaN</td>\n",
       "    </tr>\n",
       "    <tr>\n",
       "      <th>3</th>\n",
       "      <td>https://i1.sndcdn.com/avatars-000018132952-dmn...</td>\n",
       "      <td></td>\n",
       "      <td>0</td>\n",
       "      <td>None</td>\n",
       "      <td>2012-07-06T10:50:27Z</td>\n",
       "      <td>[{'product': {'id': 'free'}}]</td>\n",
       "      <td>None</td>\n",
       "      <td>35</td>\n",
       "      <td>87</td>\n",
       "      <td>Jay</td>\n",
       "      <td>...</td>\n",
       "      <td>/marioojojo</td>\n",
       "      <td>free</td>\n",
       "      <td>NaN</td>\n",
       "      <td>NaN</td>\n",
       "      <td>NaN</td>\n",
       "      <td>NaN</td>\n",
       "      <td>False</td>\n",
       "      <td>False</td>\n",
       "      <td>False</td>\n",
       "      <td>NaN</td>\n",
       "    </tr>\n",
       "    <tr>\n",
       "      <th>4</th>\n",
       "      <td>https://i1.sndcdn.com/avatars-000227227733-6s2...</td>\n",
       "      <td>None</td>\n",
       "      <td>17</td>\n",
       "      <td>None</td>\n",
       "      <td>2011-09-26T03:53:39Z</td>\n",
       "      <td>[{'product': {'id': 'free'}}]</td>\n",
       "      <td>None</td>\n",
       "      <td>65</td>\n",
       "      <td>212</td>\n",
       "      <td>Aaron</td>\n",
       "      <td>...</td>\n",
       "      <td>/a-will253</td>\n",
       "      <td>free</td>\n",
       "      <td>soundcloud:users:7654069</td>\n",
       "      <td>True</td>\n",
       "      <td>[{'urn': 'soundcloud:visuals:10062229', 'entry...</td>\n",
       "      <td>NaN</td>\n",
       "      <td>False</td>\n",
       "      <td>False</td>\n",
       "      <td>False</td>\n",
       "      <td>NaN</td>\n",
       "    </tr>\n",
       "  </tbody>\n",
       "</table>\n",
       "<p>5 rows × 39 columns</p>\n",
       "</div>"
      ],
      "text/plain": [
       "                                          avatar_url    city  comments_count  \\\n",
       "0  https://i1.sndcdn.com/avatars-000202454384-nin...  Lisboa               1   \n",
       "1  https://i1.sndcdn.com/avatars-000279257908-3cu...    None               0   \n",
       "2  https://i1.sndcdn.com/avatars-000304829422-gco...    None               3   \n",
       "3  https://i1.sndcdn.com/avatars-000018132952-dmn...                       0   \n",
       "4  https://i1.sndcdn.com/avatars-000227227733-6s2...    None              17   \n",
       "\n",
       "  country_code            created_at  \\\n",
       "0         None  2010-05-11T12:58:36Z   \n",
       "1         None  2016-01-25T06:49:28Z   \n",
       "2         None  2016-10-30T20:31:17Z   \n",
       "3         None  2012-07-06T10:50:27Z   \n",
       "4         None  2011-09-26T03:53:39Z   \n",
       "\n",
       "                            creator_subscriptions  description  \\\n",
       "0  [{'product': {'id': 'creator-pro-unlimited'}}]  Enthusiast.   \n",
       "1                   [{'product': {'id': 'free'}}]         None   \n",
       "2                   [{'product': {'id': 'free'}}]         None   \n",
       "3                   [{'product': {'id': 'free'}}]         None   \n",
       "4                   [{'product': {'id': 'free'}}]         None   \n",
       "\n",
       "   followers_count  followings_count first_name  ...                  url  \\\n",
       "0              245              1996             ...  /mehigan-de-vizario   \n",
       "1                4                37             ...  /matthew1-280736985   \n",
       "2                3                 7    NyukiZz  ...         /nyukizz-nkz   \n",
       "3               35                87        Jay  ...          /marioojojo   \n",
       "4               65               212      Aaron  ...           /a-will253   \n",
       "\n",
       "   creator_subscription.product.id                 visuals.urn  \\\n",
       "0            creator-pro-unlimited     soundcloud:users:993251   \n",
       "1                             free  soundcloud:users:201650157   \n",
       "2                             free                         NaN   \n",
       "3                             free                         NaN   \n",
       "4                             free    soundcloud:users:7654069   \n",
       "\n",
       "  visuals.enabled                                    visuals.visuals  \\\n",
       "0            True  [{'urn': 'soundcloud:visuals:206685', 'entry_t...   \n",
       "1            True  [{'urn': 'soundcloud:visuals:18574583', 'entry...   \n",
       "2             NaN                                                NaN   \n",
       "3             NaN                                                NaN   \n",
       "4            True  [{'urn': 'soundcloud:visuals:10062229', 'entry...   \n",
       "\n",
       "  visuals.tracking  badges.pro  badges.pro_unlimited badges.verified visuals  \n",
       "0              NaN       False                  True           False     NaN  \n",
       "1              NaN       False                 False           False     NaN  \n",
       "2              NaN       False                 False           False     NaN  \n",
       "3              NaN       False                 False           False     NaN  \n",
       "4              NaN       False                 False           False     NaN  \n",
       "\n",
       "[5 rows x 39 columns]"
      ]
     },
     "execution_count": 28,
     "metadata": {},
     "output_type": "execute_result"
    }
   ],
   "source": [
    "df_us.head()"
   ]
  },
  {
   "cell_type": "markdown",
   "id": "622efb5a",
   "metadata": {},
   "source": [
    "### Ghi dữ liệu ra file `user.csv`"
   ]
  },
  {
   "cell_type": "code",
   "execution_count": 29,
   "id": "01e04e28",
   "metadata": {
    "ExecuteTime": {
     "end_time": "2021-11-13T10:16:57.095365Z",
     "start_time": "2021-11-13T10:16:57.052181Z"
    }
   },
   "outputs": [],
   "source": [
    "user_file = \"Crawl_data/user.csv\"\n",
    "df_us.to_csv(user_file, sep='\\t', index=False, encoding=\"utf-8\")"
   ]
  },
  {
   "cell_type": "markdown",
   "id": "5200b353",
   "metadata": {},
   "source": [
    "### Test lại dữ liệu đã ghi ra file `user.csv`"
   ]
  },
  {
   "cell_type": "code",
   "execution_count": 30,
   "id": "95527951",
   "metadata": {
    "ExecuteTime": {
     "end_time": "2021-11-13T10:16:57.174220Z",
     "start_time": "2021-11-13T10:16:57.098177Z"
    }
   },
   "outputs": [
    {
     "data": {
      "text/html": [
       "<div>\n",
       "<style scoped>\n",
       "    .dataframe tbody tr th:only-of-type {\n",
       "        vertical-align: middle;\n",
       "    }\n",
       "\n",
       "    .dataframe tbody tr th {\n",
       "        vertical-align: top;\n",
       "    }\n",
       "\n",
       "    .dataframe thead th {\n",
       "        text-align: right;\n",
       "    }\n",
       "</style>\n",
       "<table border=\"1\" class=\"dataframe\">\n",
       "  <thead>\n",
       "    <tr style=\"text-align: right;\">\n",
       "      <th></th>\n",
       "      <th>avatar_url</th>\n",
       "      <th>city</th>\n",
       "      <th>comments_count</th>\n",
       "      <th>country_code</th>\n",
       "      <th>created_at</th>\n",
       "      <th>creator_subscriptions</th>\n",
       "      <th>description</th>\n",
       "      <th>followers_count</th>\n",
       "      <th>followings_count</th>\n",
       "      <th>first_name</th>\n",
       "      <th>...</th>\n",
       "      <th>url</th>\n",
       "      <th>creator_subscription.product.id</th>\n",
       "      <th>visuals.urn</th>\n",
       "      <th>visuals.enabled</th>\n",
       "      <th>visuals.visuals</th>\n",
       "      <th>visuals.tracking</th>\n",
       "      <th>badges.pro</th>\n",
       "      <th>badges.pro_unlimited</th>\n",
       "      <th>badges.verified</th>\n",
       "      <th>visuals</th>\n",
       "    </tr>\n",
       "  </thead>\n",
       "  <tbody>\n",
       "    <tr>\n",
       "      <th>0</th>\n",
       "      <td>https://i1.sndcdn.com/avatars-000202454384-nin...</td>\n",
       "      <td>Lisboa</td>\n",
       "      <td>1</td>\n",
       "      <td>NaN</td>\n",
       "      <td>2010-05-11T12:58:36Z</td>\n",
       "      <td>[{'product': {'id': 'creator-pro-unlimited'}}]</td>\n",
       "      <td>Enthusiast.</td>\n",
       "      <td>245</td>\n",
       "      <td>1996</td>\n",
       "      <td>NaN</td>\n",
       "      <td>...</td>\n",
       "      <td>/mehigan-de-vizario</td>\n",
       "      <td>creator-pro-unlimited</td>\n",
       "      <td>soundcloud:users:993251</td>\n",
       "      <td>True</td>\n",
       "      <td>[{'urn': 'soundcloud:visuals:206685', 'entry_t...</td>\n",
       "      <td>NaN</td>\n",
       "      <td>False</td>\n",
       "      <td>True</td>\n",
       "      <td>False</td>\n",
       "      <td>NaN</td>\n",
       "    </tr>\n",
       "    <tr>\n",
       "      <th>1</th>\n",
       "      <td>https://i1.sndcdn.com/avatars-000279257908-3cu...</td>\n",
       "      <td>NaN</td>\n",
       "      <td>0</td>\n",
       "      <td>NaN</td>\n",
       "      <td>2016-01-25T06:49:28Z</td>\n",
       "      <td>[{'product': {'id': 'free'}}]</td>\n",
       "      <td>NaN</td>\n",
       "      <td>4</td>\n",
       "      <td>37</td>\n",
       "      <td>NaN</td>\n",
       "      <td>...</td>\n",
       "      <td>/matthew1-280736985</td>\n",
       "      <td>free</td>\n",
       "      <td>soundcloud:users:201650157</td>\n",
       "      <td>True</td>\n",
       "      <td>[{'urn': 'soundcloud:visuals:18574583', 'entry...</td>\n",
       "      <td>NaN</td>\n",
       "      <td>False</td>\n",
       "      <td>False</td>\n",
       "      <td>False</td>\n",
       "      <td>NaN</td>\n",
       "    </tr>\n",
       "    <tr>\n",
       "      <th>2</th>\n",
       "      <td>https://i1.sndcdn.com/avatars-000304829422-gco...</td>\n",
       "      <td>NaN</td>\n",
       "      <td>3</td>\n",
       "      <td>NaN</td>\n",
       "      <td>2016-10-30T20:31:17Z</td>\n",
       "      <td>[{'product': {'id': 'free'}}]</td>\n",
       "      <td>NaN</td>\n",
       "      <td>3</td>\n",
       "      <td>7</td>\n",
       "      <td>NyukiZz</td>\n",
       "      <td>...</td>\n",
       "      <td>/nyukizz-nkz</td>\n",
       "      <td>free</td>\n",
       "      <td>NaN</td>\n",
       "      <td>NaN</td>\n",
       "      <td>NaN</td>\n",
       "      <td>NaN</td>\n",
       "      <td>False</td>\n",
       "      <td>False</td>\n",
       "      <td>False</td>\n",
       "      <td>NaN</td>\n",
       "    </tr>\n",
       "    <tr>\n",
       "      <th>3</th>\n",
       "      <td>https://i1.sndcdn.com/avatars-000018132952-dmn...</td>\n",
       "      <td>NaN</td>\n",
       "      <td>0</td>\n",
       "      <td>NaN</td>\n",
       "      <td>2012-07-06T10:50:27Z</td>\n",
       "      <td>[{'product': {'id': 'free'}}]</td>\n",
       "      <td>NaN</td>\n",
       "      <td>35</td>\n",
       "      <td>87</td>\n",
       "      <td>Jay</td>\n",
       "      <td>...</td>\n",
       "      <td>/marioojojo</td>\n",
       "      <td>free</td>\n",
       "      <td>NaN</td>\n",
       "      <td>NaN</td>\n",
       "      <td>NaN</td>\n",
       "      <td>NaN</td>\n",
       "      <td>False</td>\n",
       "      <td>False</td>\n",
       "      <td>False</td>\n",
       "      <td>NaN</td>\n",
       "    </tr>\n",
       "    <tr>\n",
       "      <th>4</th>\n",
       "      <td>https://i1.sndcdn.com/avatars-000227227733-6s2...</td>\n",
       "      <td>NaN</td>\n",
       "      <td>17</td>\n",
       "      <td>NaN</td>\n",
       "      <td>2011-09-26T03:53:39Z</td>\n",
       "      <td>[{'product': {'id': 'free'}}]</td>\n",
       "      <td>NaN</td>\n",
       "      <td>65</td>\n",
       "      <td>212</td>\n",
       "      <td>Aaron</td>\n",
       "      <td>...</td>\n",
       "      <td>/a-will253</td>\n",
       "      <td>free</td>\n",
       "      <td>soundcloud:users:7654069</td>\n",
       "      <td>True</td>\n",
       "      <td>[{'urn': 'soundcloud:visuals:10062229', 'entry...</td>\n",
       "      <td>NaN</td>\n",
       "      <td>False</td>\n",
       "      <td>False</td>\n",
       "      <td>False</td>\n",
       "      <td>NaN</td>\n",
       "    </tr>\n",
       "  </tbody>\n",
       "</table>\n",
       "<p>5 rows × 39 columns</p>\n",
       "</div>"
      ],
      "text/plain": [
       "                                          avatar_url    city  comments_count  \\\n",
       "0  https://i1.sndcdn.com/avatars-000202454384-nin...  Lisboa               1   \n",
       "1  https://i1.sndcdn.com/avatars-000279257908-3cu...     NaN               0   \n",
       "2  https://i1.sndcdn.com/avatars-000304829422-gco...     NaN               3   \n",
       "3  https://i1.sndcdn.com/avatars-000018132952-dmn...     NaN               0   \n",
       "4  https://i1.sndcdn.com/avatars-000227227733-6s2...     NaN              17   \n",
       "\n",
       "  country_code            created_at  \\\n",
       "0          NaN  2010-05-11T12:58:36Z   \n",
       "1          NaN  2016-01-25T06:49:28Z   \n",
       "2          NaN  2016-10-30T20:31:17Z   \n",
       "3          NaN  2012-07-06T10:50:27Z   \n",
       "4          NaN  2011-09-26T03:53:39Z   \n",
       "\n",
       "                            creator_subscriptions  description  \\\n",
       "0  [{'product': {'id': 'creator-pro-unlimited'}}]  Enthusiast.   \n",
       "1                   [{'product': {'id': 'free'}}]          NaN   \n",
       "2                   [{'product': {'id': 'free'}}]          NaN   \n",
       "3                   [{'product': {'id': 'free'}}]          NaN   \n",
       "4                   [{'product': {'id': 'free'}}]          NaN   \n",
       "\n",
       "   followers_count  followings_count first_name  ...                  url  \\\n",
       "0              245              1996        NaN  ...  /mehigan-de-vizario   \n",
       "1                4                37        NaN  ...  /matthew1-280736985   \n",
       "2                3                 7    NyukiZz  ...         /nyukizz-nkz   \n",
       "3               35                87        Jay  ...          /marioojojo   \n",
       "4               65               212      Aaron  ...           /a-will253   \n",
       "\n",
       "   creator_subscription.product.id                 visuals.urn  \\\n",
       "0            creator-pro-unlimited     soundcloud:users:993251   \n",
       "1                             free  soundcloud:users:201650157   \n",
       "2                             free                         NaN   \n",
       "3                             free                         NaN   \n",
       "4                             free    soundcloud:users:7654069   \n",
       "\n",
       "  visuals.enabled                                    visuals.visuals  \\\n",
       "0            True  [{'urn': 'soundcloud:visuals:206685', 'entry_t...   \n",
       "1            True  [{'urn': 'soundcloud:visuals:18574583', 'entry...   \n",
       "2             NaN                                                NaN   \n",
       "3             NaN                                                NaN   \n",
       "4            True  [{'urn': 'soundcloud:visuals:10062229', 'entry...   \n",
       "\n",
       "  visuals.tracking  badges.pro  badges.pro_unlimited badges.verified visuals  \n",
       "0              NaN       False                  True           False     NaN  \n",
       "1              NaN       False                 False           False     NaN  \n",
       "2              NaN       False                 False           False     NaN  \n",
       "3              NaN       False                 False           False     NaN  \n",
       "4              NaN       False                 False           False     NaN  \n",
       "\n",
       "[5 rows x 39 columns]"
      ]
     },
     "execution_count": 30,
     "metadata": {},
     "output_type": "execute_result"
    }
   ],
   "source": [
    "# TEST\n",
    "users = pd.read_csv(user_file, sep='\\t')\n",
    "\n",
    "# Kiểm tra liệu có thu thập đủ trên 1000 records về user chưa\n",
    "assert len(users) > 1000\n",
    "\n",
    "# Xem 5 dòng đầu của dữ liệu\n",
    "users.head()"
   ]
  },
  {
   "cell_type": "markdown",
   "id": "b9f662d6",
   "metadata": {
    "ExecuteTime": {
     "end_time": "2021-11-12T15:54:51.299391Z",
     "start_time": "2021-11-12T15:54:51.290382Z"
    },
    "scrolled": true
   },
   "source": [
    "---"
   ]
  },
  {
   "cell_type": "markdown",
   "id": "066159c0",
   "metadata": {},
   "source": [
    "## Bước 8: Thu thập dữ liệu track bằng cách truy cập vào các link trong file track_link"
   ]
  },
  {
   "cell_type": "markdown",
   "id": "6f633e42",
   "metadata": {},
   "source": [
    "Hàm `get_info_track` có các thành phần:\n",
    "- `track_link`: chứa các link track\n",
    "- `start`, `step`: ví trí bắt đầu và step của một luồng thực hiện"
   ]
  },
  {
   "cell_type": "code",
   "execution_count": 31,
   "id": "e318d34f",
   "metadata": {
    "ExecuteTime": {
     "end_time": "2021-11-13T10:16:57.190099Z",
     "start_time": "2021-11-13T10:16:57.176181Z"
    },
    "scrolled": true
   },
   "outputs": [],
   "source": [
    "def get_info_track(track_link, start, step):\n",
    "    track_link = list(track_link)\n",
    "    for url in track_link[start:start+step]:\n",
    "        r = requests.get(url)\n",
    "        if not r.from_cache:\n",
    "            time.sleep(sleep_time)\n",
    "        r.encoding = r.apparent_encoding\n",
    "        soup = BeautifulSoup(r.text, \"html.parser\")\n",
    "        scripts = soup.find_all(\"script\")\n",
    "        for script in scripts:\n",
    "            if len(script.contents) != 0:\n",
    "                if \"window.__sc_hydration\" in str(script.contents[0]):\n",
    "                    temp = str(script.contents[0])\n",
    "        pos = temp.find('{\"artwork_url\"')\n",
    "        data = temp[pos:len(temp) - 3]\n",
    "        data = json.loads(data)\n",
    "        data.pop('user')\n",
    "        track_lst.append(data)"
   ]
  },
  {
   "cell_type": "markdown",
   "id": "223b66e3",
   "metadata": {},
   "source": [
    "- Sử dụng đa luồng để thực hiện"
   ]
  },
  {
   "cell_type": "code",
   "execution_count": 32,
   "id": "978320dd",
   "metadata": {
    "ExecuteTime": {
     "end_time": "2021-11-13T10:30:10.375057Z",
     "start_time": "2021-11-13T10:16:57.193104Z"
    }
   },
   "outputs": [],
   "source": [
    "track_lst = []\n",
    "step = int(len(track_link) / 10)\n",
    "with concurrent.futures.ThreadPoolExecutor() as executor:\n",
    "    futures = {executor.submit(get_info_track, track_link, start, step) for start in range(0, len(track_link), step)}"
   ]
  },
  {
   "cell_type": "markdown",
   "id": "d864111b",
   "metadata": {},
   "source": [
    "### Chuyển đổi dữ liệu thu được về Data frame\n",
    "- Sau khi thực thi xong đoạn code trên, chúng ta thu được một list các thông tin của các track dưới dạng dictionary, để thuận tiện theo dõi cũng như để ghi vào file output, chuyển `track_lst` thành 1 Data Frame của `pandas`\n",
    "- `df_tr` là biến lưu trữ cho `track_lst`"
   ]
  },
  {
   "cell_type": "code",
   "execution_count": 33,
   "id": "2864fb70",
   "metadata": {
    "ExecuteTime": {
     "end_time": "2021-11-13T10:30:11.006092Z",
     "start_time": "2021-11-13T10:30:10.378091Z"
    },
    "scrolled": false
   },
   "outputs": [
    {
     "data": {
      "text/plain": [
       "Index(['artwork_url', 'caption', 'commentable', 'comment_count', 'created_at',\n",
       "       'description', 'downloadable', 'download_count', 'duration',\n",
       "       'full_duration', 'embeddable_by', 'genre', 'has_downloads_left', 'id',\n",
       "       'kind', 'label_name', 'last_modified', 'license', 'likes_count',\n",
       "       'permalink', 'permalink_url', 'playback_count', 'public',\n",
       "       'publisher_metadata', 'purchase_title', 'purchase_url', 'release_date',\n",
       "       'reposts_count', 'secret_token', 'sharing', 'state', 'streamable',\n",
       "       'tag_list', 'title', 'track_format', 'uri', 'urn', 'user_id', 'visuals',\n",
       "       'waveform_url', 'display_date', 'station_urn', 'station_permalink',\n",
       "       'track_authorization', 'monetization_model', 'policy',\n",
       "       'media.transcodings', 'publisher_metadata.id', 'publisher_metadata.urn',\n",
       "       'publisher_metadata.contains_music', 'publisher_metadata.explicit',\n",
       "       'publisher_metadata.artist', 'publisher_metadata.album_title',\n",
       "       'publisher_metadata.upc_or_ean', 'publisher_metadata.isrc',\n",
       "       'publisher_metadata.p_line', 'publisher_metadata.p_line_for_display',\n",
       "       'publisher_metadata.writer_composer',\n",
       "       'publisher_metadata.release_title', 'publisher_metadata.publisher',\n",
       "       'publisher_metadata.c_line', 'publisher_metadata.c_line_for_display',\n",
       "       'visuals.urn', 'visuals.enabled', 'visuals.visuals', 'visuals.tracking',\n",
       "       'publisher_metadata.iswc'],\n",
       "      dtype='object')"
      ]
     },
     "execution_count": 33,
     "metadata": {},
     "output_type": "execute_result"
    }
   ],
   "source": [
    "df_tr = pd.json_normalize(track_lst)\n",
    "df_tr.columns"
   ]
  },
  {
   "cell_type": "markdown",
   "id": "6780a924",
   "metadata": {},
   "source": [
    "###  Theo dõi 5 dòng đầu của `df_tr`"
   ]
  },
  {
   "cell_type": "code",
   "execution_count": 34,
   "id": "b368e3ff",
   "metadata": {
    "ExecuteTime": {
     "end_time": "2021-11-13T10:30:11.054148Z",
     "start_time": "2021-11-13T10:30:11.009086Z"
    },
    "scrolled": false
   },
   "outputs": [
    {
     "data": {
      "text/html": [
       "<div>\n",
       "<style scoped>\n",
       "    .dataframe tbody tr th:only-of-type {\n",
       "        vertical-align: middle;\n",
       "    }\n",
       "\n",
       "    .dataframe tbody tr th {\n",
       "        vertical-align: top;\n",
       "    }\n",
       "\n",
       "    .dataframe thead th {\n",
       "        text-align: right;\n",
       "    }\n",
       "</style>\n",
       "<table border=\"1\" class=\"dataframe\">\n",
       "  <thead>\n",
       "    <tr style=\"text-align: right;\">\n",
       "      <th></th>\n",
       "      <th>artwork_url</th>\n",
       "      <th>caption</th>\n",
       "      <th>commentable</th>\n",
       "      <th>comment_count</th>\n",
       "      <th>created_at</th>\n",
       "      <th>description</th>\n",
       "      <th>downloadable</th>\n",
       "      <th>download_count</th>\n",
       "      <th>duration</th>\n",
       "      <th>full_duration</th>\n",
       "      <th>...</th>\n",
       "      <th>publisher_metadata.writer_composer</th>\n",
       "      <th>publisher_metadata.release_title</th>\n",
       "      <th>publisher_metadata.publisher</th>\n",
       "      <th>publisher_metadata.c_line</th>\n",
       "      <th>publisher_metadata.c_line_for_display</th>\n",
       "      <th>visuals.urn</th>\n",
       "      <th>visuals.enabled</th>\n",
       "      <th>visuals.visuals</th>\n",
       "      <th>visuals.tracking</th>\n",
       "      <th>publisher_metadata.iswc</th>\n",
       "    </tr>\n",
       "  </thead>\n",
       "  <tbody>\n",
       "    <tr>\n",
       "      <th>0</th>\n",
       "      <td>https://i1.sndcdn.com/artworks-000068760774-gz...</td>\n",
       "      <td>None</td>\n",
       "      <td>True</td>\n",
       "      <td>656.0</td>\n",
       "      <td>2014-01-23T08:15:54Z</td>\n",
       "      <td></td>\n",
       "      <td>False</td>\n",
       "      <td>66463.0</td>\n",
       "      <td>338839</td>\n",
       "      <td>338839</td>\n",
       "      <td>...</td>\n",
       "      <td>NaN</td>\n",
       "      <td>NaN</td>\n",
       "      <td>NaN</td>\n",
       "      <td>NaN</td>\n",
       "      <td>NaN</td>\n",
       "      <td>NaN</td>\n",
       "      <td>NaN</td>\n",
       "      <td>NaN</td>\n",
       "      <td>NaN</td>\n",
       "      <td>NaN</td>\n",
       "    </tr>\n",
       "    <tr>\n",
       "      <th>1</th>\n",
       "      <td>https://i1.sndcdn.com/artworks-000076148269-qy...</td>\n",
       "      <td>None</td>\n",
       "      <td>True</td>\n",
       "      <td>59.0</td>\n",
       "      <td>2014-04-03T12:17:30Z</td>\n",
       "      <td>You can find Sebastian Mullaert aka Minilogue ...</td>\n",
       "      <td>False</td>\n",
       "      <td>0.0</td>\n",
       "      <td>3617749</td>\n",
       "      <td>3617749</td>\n",
       "      <td>...</td>\n",
       "      <td>NaN</td>\n",
       "      <td>NaN</td>\n",
       "      <td>NaN</td>\n",
       "      <td>NaN</td>\n",
       "      <td>NaN</td>\n",
       "      <td>NaN</td>\n",
       "      <td>NaN</td>\n",
       "      <td>NaN</td>\n",
       "      <td>NaN</td>\n",
       "      <td>NaN</td>\n",
       "    </tr>\n",
       "    <tr>\n",
       "      <th>2</th>\n",
       "      <td>https://i1.sndcdn.com/artworks-000054578860-i0...</td>\n",
       "      <td>None</td>\n",
       "      <td>True</td>\n",
       "      <td>NaN</td>\n",
       "      <td>2013-08-05T15:01:17Z</td>\n",
       "      <td>A young talent that has seen much success in t...</td>\n",
       "      <td>False</td>\n",
       "      <td>NaN</td>\n",
       "      <td>129056</td>\n",
       "      <td>129056</td>\n",
       "      <td>...</td>\n",
       "      <td>NaN</td>\n",
       "      <td>NaN</td>\n",
       "      <td>NaN</td>\n",
       "      <td>NaN</td>\n",
       "      <td>NaN</td>\n",
       "      <td>NaN</td>\n",
       "      <td>NaN</td>\n",
       "      <td>NaN</td>\n",
       "      <td>NaN</td>\n",
       "      <td>NaN</td>\n",
       "    </tr>\n",
       "    <tr>\n",
       "      <th>3</th>\n",
       "      <td>https://i1.sndcdn.com/artworks-luBjdGv0PBty-0-...</td>\n",
       "      <td>None</td>\n",
       "      <td>True</td>\n",
       "      <td>68.0</td>\n",
       "      <td>2021-11-10T02:01:22Z</td>\n",
       "      <td>None</td>\n",
       "      <td>False</td>\n",
       "      <td>0.0</td>\n",
       "      <td>112980</td>\n",
       "      <td>112980</td>\n",
       "      <td>...</td>\n",
       "      <td>Durk Banks, Thomas Moore, Darontez Mayo</td>\n",
       "      <td>Lion Eyes</td>\n",
       "      <td>NaN</td>\n",
       "      <td>NaN</td>\n",
       "      <td>NaN</td>\n",
       "      <td>NaN</td>\n",
       "      <td>NaN</td>\n",
       "      <td>NaN</td>\n",
       "      <td>NaN</td>\n",
       "      <td>NaN</td>\n",
       "    </tr>\n",
       "    <tr>\n",
       "      <th>4</th>\n",
       "      <td>https://i1.sndcdn.com/artworks-000079325643-k8...</td>\n",
       "      <td>None</td>\n",
       "      <td>True</td>\n",
       "      <td>83.0</td>\n",
       "      <td>2014-05-13T16:40:24Z</td>\n",
       "      <td>Spotify: sptfy.com/93U\\niTunes: itunes.apple.c...</td>\n",
       "      <td>False</td>\n",
       "      <td>0.0</td>\n",
       "      <td>214145</td>\n",
       "      <td>214145</td>\n",
       "      <td>...</td>\n",
       "      <td>Milana Tchebotaryov-Zilnik</td>\n",
       "      <td>Trapped in the Music</td>\n",
       "      <td>Milana Tchebotaryov-Zilnik (self-published)</td>\n",
       "      <td>NaN</td>\n",
       "      <td>NaN</td>\n",
       "      <td>NaN</td>\n",
       "      <td>NaN</td>\n",
       "      <td>NaN</td>\n",
       "      <td>NaN</td>\n",
       "      <td>NaN</td>\n",
       "    </tr>\n",
       "  </tbody>\n",
       "</table>\n",
       "<p>5 rows × 67 columns</p>\n",
       "</div>"
      ],
      "text/plain": [
       "                                         artwork_url caption  commentable  \\\n",
       "0  https://i1.sndcdn.com/artworks-000068760774-gz...    None         True   \n",
       "1  https://i1.sndcdn.com/artworks-000076148269-qy...    None         True   \n",
       "2  https://i1.sndcdn.com/artworks-000054578860-i0...    None         True   \n",
       "3  https://i1.sndcdn.com/artworks-luBjdGv0PBty-0-...    None         True   \n",
       "4  https://i1.sndcdn.com/artworks-000079325643-k8...    None         True   \n",
       "\n",
       "   comment_count            created_at  \\\n",
       "0          656.0  2014-01-23T08:15:54Z   \n",
       "1           59.0  2014-04-03T12:17:30Z   \n",
       "2            NaN  2013-08-05T15:01:17Z   \n",
       "3           68.0  2021-11-10T02:01:22Z   \n",
       "4           83.0  2014-05-13T16:40:24Z   \n",
       "\n",
       "                                         description  downloadable  \\\n",
       "0                                                            False   \n",
       "1  You can find Sebastian Mullaert aka Minilogue ...         False   \n",
       "2  A young talent that has seen much success in t...         False   \n",
       "3                                               None         False   \n",
       "4  Spotify: sptfy.com/93U\\niTunes: itunes.apple.c...         False   \n",
       "\n",
       "   download_count  duration  full_duration  ...  \\\n",
       "0         66463.0    338839         338839  ...   \n",
       "1             0.0   3617749        3617749  ...   \n",
       "2             NaN    129056         129056  ...   \n",
       "3             0.0    112980         112980  ...   \n",
       "4             0.0    214145         214145  ...   \n",
       "\n",
       "        publisher_metadata.writer_composer publisher_metadata.release_title  \\\n",
       "0                                      NaN                              NaN   \n",
       "1                                      NaN                              NaN   \n",
       "2                                      NaN                              NaN   \n",
       "3  Durk Banks, Thomas Moore, Darontez Mayo                        Lion Eyes   \n",
       "4               Milana Tchebotaryov-Zilnik             Trapped in the Music   \n",
       "\n",
       "                  publisher_metadata.publisher  publisher_metadata.c_line  \\\n",
       "0                                          NaN                        NaN   \n",
       "1                                          NaN                        NaN   \n",
       "2                                          NaN                        NaN   \n",
       "3                                          NaN                        NaN   \n",
       "4  Milana Tchebotaryov-Zilnik (self-published)                        NaN   \n",
       "\n",
       "  publisher_metadata.c_line_for_display visuals.urn visuals.enabled  \\\n",
       "0                                   NaN         NaN             NaN   \n",
       "1                                   NaN         NaN             NaN   \n",
       "2                                   NaN         NaN             NaN   \n",
       "3                                   NaN         NaN             NaN   \n",
       "4                                   NaN         NaN             NaN   \n",
       "\n",
       "  visuals.visuals  visuals.tracking publisher_metadata.iswc  \n",
       "0             NaN               NaN                     NaN  \n",
       "1             NaN               NaN                     NaN  \n",
       "2             NaN               NaN                     NaN  \n",
       "3             NaN               NaN                     NaN  \n",
       "4             NaN               NaN                     NaN  \n",
       "\n",
       "[5 rows x 67 columns]"
      ]
     },
     "execution_count": 34,
     "metadata": {},
     "output_type": "execute_result"
    }
   ],
   "source": [
    "df_tr.head()"
   ]
  },
  {
   "cell_type": "markdown",
   "id": "f8e521a6",
   "metadata": {},
   "source": [
    "### Ghi dữ liệu ra file `track.csv`"
   ]
  },
  {
   "cell_type": "code",
   "execution_count": 35,
   "id": "9de064b0",
   "metadata": {
    "ExecuteTime": {
     "end_time": "2021-11-13T10:30:11.288253Z",
     "start_time": "2021-11-13T10:30:11.058088Z"
    }
   },
   "outputs": [],
   "source": [
    "track_file = \"Crawl_data/track.csv\"\n",
    "df_tr.to_csv(track_file, sep='\\t', index=False, encoding=\"utf-8\")"
   ]
  },
  {
   "cell_type": "markdown",
   "id": "eda9ffc9",
   "metadata": {},
   "source": [
    "### Test lại dữ liệu đã ghi ra file `track.csv`"
   ]
  },
  {
   "cell_type": "code",
   "execution_count": 36,
   "id": "38b9fde0",
   "metadata": {
    "ExecuteTime": {
     "end_time": "2021-11-13T10:30:11.460086Z",
     "start_time": "2021-11-13T10:30:11.292088Z"
    },
    "scrolled": false
   },
   "outputs": [
    {
     "data": {
      "text/html": [
       "<div>\n",
       "<style scoped>\n",
       "    .dataframe tbody tr th:only-of-type {\n",
       "        vertical-align: middle;\n",
       "    }\n",
       "\n",
       "    .dataframe tbody tr th {\n",
       "        vertical-align: top;\n",
       "    }\n",
       "\n",
       "    .dataframe thead th {\n",
       "        text-align: right;\n",
       "    }\n",
       "</style>\n",
       "<table border=\"1\" class=\"dataframe\">\n",
       "  <thead>\n",
       "    <tr style=\"text-align: right;\">\n",
       "      <th></th>\n",
       "      <th>artwork_url</th>\n",
       "      <th>caption</th>\n",
       "      <th>commentable</th>\n",
       "      <th>comment_count</th>\n",
       "      <th>created_at</th>\n",
       "      <th>description</th>\n",
       "      <th>downloadable</th>\n",
       "      <th>download_count</th>\n",
       "      <th>duration</th>\n",
       "      <th>full_duration</th>\n",
       "      <th>...</th>\n",
       "      <th>publisher_metadata.writer_composer</th>\n",
       "      <th>publisher_metadata.release_title</th>\n",
       "      <th>publisher_metadata.publisher</th>\n",
       "      <th>publisher_metadata.c_line</th>\n",
       "      <th>publisher_metadata.c_line_for_display</th>\n",
       "      <th>visuals.urn</th>\n",
       "      <th>visuals.enabled</th>\n",
       "      <th>visuals.visuals</th>\n",
       "      <th>visuals.tracking</th>\n",
       "      <th>publisher_metadata.iswc</th>\n",
       "    </tr>\n",
       "  </thead>\n",
       "  <tbody>\n",
       "    <tr>\n",
       "      <th>0</th>\n",
       "      <td>https://i1.sndcdn.com/artworks-000068760774-gz...</td>\n",
       "      <td>NaN</td>\n",
       "      <td>True</td>\n",
       "      <td>656.0</td>\n",
       "      <td>2014-01-23T08:15:54Z</td>\n",
       "      <td>NaN</td>\n",
       "      <td>False</td>\n",
       "      <td>66463.0</td>\n",
       "      <td>338839</td>\n",
       "      <td>338839</td>\n",
       "      <td>...</td>\n",
       "      <td>NaN</td>\n",
       "      <td>NaN</td>\n",
       "      <td>NaN</td>\n",
       "      <td>NaN</td>\n",
       "      <td>NaN</td>\n",
       "      <td>NaN</td>\n",
       "      <td>NaN</td>\n",
       "      <td>NaN</td>\n",
       "      <td>NaN</td>\n",
       "      <td>NaN</td>\n",
       "    </tr>\n",
       "    <tr>\n",
       "      <th>1</th>\n",
       "      <td>https://i1.sndcdn.com/artworks-000076148269-qy...</td>\n",
       "      <td>NaN</td>\n",
       "      <td>True</td>\n",
       "      <td>59.0</td>\n",
       "      <td>2014-04-03T12:17:30Z</td>\n",
       "      <td>You can find Sebastian Mullaert aka Minilogue ...</td>\n",
       "      <td>False</td>\n",
       "      <td>0.0</td>\n",
       "      <td>3617749</td>\n",
       "      <td>3617749</td>\n",
       "      <td>...</td>\n",
       "      <td>NaN</td>\n",
       "      <td>NaN</td>\n",
       "      <td>NaN</td>\n",
       "      <td>NaN</td>\n",
       "      <td>NaN</td>\n",
       "      <td>NaN</td>\n",
       "      <td>NaN</td>\n",
       "      <td>NaN</td>\n",
       "      <td>NaN</td>\n",
       "      <td>NaN</td>\n",
       "    </tr>\n",
       "    <tr>\n",
       "      <th>2</th>\n",
       "      <td>https://i1.sndcdn.com/artworks-000054578860-i0...</td>\n",
       "      <td>NaN</td>\n",
       "      <td>True</td>\n",
       "      <td>NaN</td>\n",
       "      <td>2013-08-05T15:01:17Z</td>\n",
       "      <td>A young talent that has seen much success in t...</td>\n",
       "      <td>False</td>\n",
       "      <td>NaN</td>\n",
       "      <td>129056</td>\n",
       "      <td>129056</td>\n",
       "      <td>...</td>\n",
       "      <td>NaN</td>\n",
       "      <td>NaN</td>\n",
       "      <td>NaN</td>\n",
       "      <td>NaN</td>\n",
       "      <td>NaN</td>\n",
       "      <td>NaN</td>\n",
       "      <td>NaN</td>\n",
       "      <td>NaN</td>\n",
       "      <td>NaN</td>\n",
       "      <td>NaN</td>\n",
       "    </tr>\n",
       "    <tr>\n",
       "      <th>3</th>\n",
       "      <td>https://i1.sndcdn.com/artworks-luBjdGv0PBty-0-...</td>\n",
       "      <td>NaN</td>\n",
       "      <td>True</td>\n",
       "      <td>68.0</td>\n",
       "      <td>2021-11-10T02:01:22Z</td>\n",
       "      <td>NaN</td>\n",
       "      <td>False</td>\n",
       "      <td>0.0</td>\n",
       "      <td>112980</td>\n",
       "      <td>112980</td>\n",
       "      <td>...</td>\n",
       "      <td>Durk Banks, Thomas Moore, Darontez Mayo</td>\n",
       "      <td>Lion Eyes</td>\n",
       "      <td>NaN</td>\n",
       "      <td>NaN</td>\n",
       "      <td>NaN</td>\n",
       "      <td>NaN</td>\n",
       "      <td>NaN</td>\n",
       "      <td>NaN</td>\n",
       "      <td>NaN</td>\n",
       "      <td>NaN</td>\n",
       "    </tr>\n",
       "    <tr>\n",
       "      <th>4</th>\n",
       "      <td>https://i1.sndcdn.com/artworks-000079325643-k8...</td>\n",
       "      <td>NaN</td>\n",
       "      <td>True</td>\n",
       "      <td>83.0</td>\n",
       "      <td>2014-05-13T16:40:24Z</td>\n",
       "      <td>Spotify: sptfy.com/93U\\niTunes: itunes.apple.c...</td>\n",
       "      <td>False</td>\n",
       "      <td>0.0</td>\n",
       "      <td>214145</td>\n",
       "      <td>214145</td>\n",
       "      <td>...</td>\n",
       "      <td>Milana Tchebotaryov-Zilnik</td>\n",
       "      <td>Trapped in the Music</td>\n",
       "      <td>Milana Tchebotaryov-Zilnik (self-published)</td>\n",
       "      <td>NaN</td>\n",
       "      <td>NaN</td>\n",
       "      <td>NaN</td>\n",
       "      <td>NaN</td>\n",
       "      <td>NaN</td>\n",
       "      <td>NaN</td>\n",
       "      <td>NaN</td>\n",
       "    </tr>\n",
       "  </tbody>\n",
       "</table>\n",
       "<p>5 rows × 67 columns</p>\n",
       "</div>"
      ],
      "text/plain": [
       "                                         artwork_url caption  commentable  \\\n",
       "0  https://i1.sndcdn.com/artworks-000068760774-gz...     NaN         True   \n",
       "1  https://i1.sndcdn.com/artworks-000076148269-qy...     NaN         True   \n",
       "2  https://i1.sndcdn.com/artworks-000054578860-i0...     NaN         True   \n",
       "3  https://i1.sndcdn.com/artworks-luBjdGv0PBty-0-...     NaN         True   \n",
       "4  https://i1.sndcdn.com/artworks-000079325643-k8...     NaN         True   \n",
       "\n",
       "   comment_count            created_at  \\\n",
       "0          656.0  2014-01-23T08:15:54Z   \n",
       "1           59.0  2014-04-03T12:17:30Z   \n",
       "2            NaN  2013-08-05T15:01:17Z   \n",
       "3           68.0  2021-11-10T02:01:22Z   \n",
       "4           83.0  2014-05-13T16:40:24Z   \n",
       "\n",
       "                                         description  downloadable  \\\n",
       "0                                                NaN         False   \n",
       "1  You can find Sebastian Mullaert aka Minilogue ...         False   \n",
       "2  A young talent that has seen much success in t...         False   \n",
       "3                                                NaN         False   \n",
       "4  Spotify: sptfy.com/93U\\niTunes: itunes.apple.c...         False   \n",
       "\n",
       "   download_count  duration  full_duration  ...  \\\n",
       "0         66463.0    338839         338839  ...   \n",
       "1             0.0   3617749        3617749  ...   \n",
       "2             NaN    129056         129056  ...   \n",
       "3             0.0    112980         112980  ...   \n",
       "4             0.0    214145         214145  ...   \n",
       "\n",
       "        publisher_metadata.writer_composer publisher_metadata.release_title  \\\n",
       "0                                      NaN                              NaN   \n",
       "1                                      NaN                              NaN   \n",
       "2                                      NaN                              NaN   \n",
       "3  Durk Banks, Thomas Moore, Darontez Mayo                        Lion Eyes   \n",
       "4               Milana Tchebotaryov-Zilnik             Trapped in the Music   \n",
       "\n",
       "                  publisher_metadata.publisher  publisher_metadata.c_line  \\\n",
       "0                                          NaN                        NaN   \n",
       "1                                          NaN                        NaN   \n",
       "2                                          NaN                        NaN   \n",
       "3                                          NaN                        NaN   \n",
       "4  Milana Tchebotaryov-Zilnik (self-published)                        NaN   \n",
       "\n",
       "  publisher_metadata.c_line_for_display visuals.urn visuals.enabled  \\\n",
       "0                                   NaN         NaN             NaN   \n",
       "1                                   NaN         NaN             NaN   \n",
       "2                                   NaN         NaN             NaN   \n",
       "3                                   NaN         NaN             NaN   \n",
       "4                                   NaN         NaN             NaN   \n",
       "\n",
       "  visuals.visuals  visuals.tracking publisher_metadata.iswc  \n",
       "0             NaN               NaN                     NaN  \n",
       "1             NaN               NaN                     NaN  \n",
       "2             NaN               NaN                     NaN  \n",
       "3             NaN               NaN                     NaN  \n",
       "4             NaN               NaN                     NaN  \n",
       "\n",
       "[5 rows x 67 columns]"
      ]
     },
     "execution_count": 36,
     "metadata": {},
     "output_type": "execute_result"
    }
   ],
   "source": [
    "# TEST\n",
    "tracks = pd.read_csv(track_file, sep='\\t')\n",
    "\n",
    "# Kiểm tra liệu có thu thập đủ trên 1000 records về track chưa\n",
    "assert len(tracks) > 1000\n",
    "\n",
    "# Xem 5 dòng đầu của dữ liệu\n",
    "tracks.head()"
   ]
  },
  {
   "cell_type": "markdown",
   "id": "aeca1b1e",
   "metadata": {},
   "source": [
    "---"
   ]
  },
  {
   "cell_type": "markdown",
   "id": "f63c1884",
   "metadata": {},
   "source": [
    "## Phân tích và xử lí dữ liệu thu được"
   ]
  },
  {
   "cell_type": "markdown",
   "id": "2f6d090f",
   "metadata": {},
   "source": [
    "### **1) Phân tích đối với tập playlist:**"
   ]
  },
  {
   "cell_type": "markdown",
   "id": "007d5029",
   "metadata": {},
   "source": [
    "Sử dụng lại biến `playlists` (Data Frame) đã khai báo ở B6."
   ]
  },
  {
   "cell_type": "code",
   "execution_count": 44,
   "id": "51aa7784",
   "metadata": {
    "ExecuteTime": {
     "end_time": "2021-11-13T10:35:43.563114Z",
     "start_time": "2021-11-13T10:35:43.554108Z"
    },
    "scrolled": true
   },
   "outputs": [
    {
     "name": "stdout",
     "output_type": "stream",
     "text": [
      "Số dòng và số cột dữ liệu của file playlist.csv (1473, 33)\n",
      "Số dòng dữ liệu 1473\n",
      "Số cột dữ liệu 33\n"
     ]
    }
   ],
   "source": [
    "print(f'Số dòng và số cột dữ liệu của file playlist.csv {playlists.shape}')\n",
    "print(f'Số dòng dữ liệu {playlists.shape[0]}')\n",
    "print(f'Số cột dữ liệu {playlists.shape[1]}')"
   ]
  },
  {
   "cell_type": "code",
   "execution_count": 45,
   "id": "5dfab58e",
   "metadata": {
    "ExecuteTime": {
     "end_time": "2021-11-13T10:35:45.315099Z",
     "start_time": "2021-11-13T10:35:45.266101Z"
    }
   },
   "outputs": [
    {
     "data": {
      "text/html": [
       "<div>\n",
       "<style scoped>\n",
       "    .dataframe tbody tr th:only-of-type {\n",
       "        vertical-align: middle;\n",
       "    }\n",
       "\n",
       "    .dataframe tbody tr th {\n",
       "        vertical-align: top;\n",
       "    }\n",
       "\n",
       "    .dataframe thead th {\n",
       "        text-align: right;\n",
       "    }\n",
       "</style>\n",
       "<table border=\"1\" class=\"dataframe\">\n",
       "  <thead>\n",
       "    <tr style=\"text-align: right;\">\n",
       "      <th></th>\n",
       "      <th>artwork_url</th>\n",
       "      <th>created_at</th>\n",
       "      <th>description</th>\n",
       "      <th>duration</th>\n",
       "      <th>embeddable_by</th>\n",
       "      <th>genre</th>\n",
       "      <th>id</th>\n",
       "      <th>kind</th>\n",
       "      <th>label_name</th>\n",
       "      <th>last_modified</th>\n",
       "      <th>...</th>\n",
       "      <th>title</th>\n",
       "      <th>uri</th>\n",
       "      <th>user_id</th>\n",
       "      <th>set_type</th>\n",
       "      <th>is_album</th>\n",
       "      <th>published_at</th>\n",
       "      <th>display_date</th>\n",
       "      <th>track_count</th>\n",
       "      <th>url</th>\n",
       "      <th>TracksId</th>\n",
       "    </tr>\n",
       "  </thead>\n",
       "  <tbody>\n",
       "    <tr>\n",
       "      <th>0</th>\n",
       "      <td>https://i1.sndcdn.com/artworks-000222467151-9o...</td>\n",
       "      <td>2017-05-13T21:22:32Z</td>\n",
       "      <td>Thanks for listening and supporting independen...</td>\n",
       "      <td>4438261</td>\n",
       "      <td>all</td>\n",
       "      <td>Electronic</td>\n",
       "      <td>322854746</td>\n",
       "      <td>playlist</td>\n",
       "      <td>NaN</td>\n",
       "      <td>2017-05-14T09:32:56Z</td>\n",
       "      <td>...</td>\n",
       "      <td>Gentle Dreams ğŸ›�ï¸� - An Indie/Chill/Electro...</td>\n",
       "      <td>https://api.soundcloud.com/playlists/322854746</td>\n",
       "      <td>37994022</td>\n",
       "      <td>NaN</td>\n",
       "      <td>False</td>\n",
       "      <td>2017-05-13T21:22:32Z</td>\n",
       "      <td>2017-05-13T21:22:32Z</td>\n",
       "      <td>18</td>\n",
       "      <td>/alexrainbirdmusic/sets/gentle-dreams-an-indie...</td>\n",
       "      <td>310826410,323031761,305445147,295247120,287166...</td>\n",
       "    </tr>\n",
       "    <tr>\n",
       "      <th>1</th>\n",
       "      <td>NaN</td>\n",
       "      <td>2016-04-27T20:48:33Z</td>\n",
       "      <td>NaN</td>\n",
       "      <td>132180964</td>\n",
       "      <td>all</td>\n",
       "      <td>NaN</td>\n",
       "      <td>219984317</td>\n",
       "      <td>playlist</td>\n",
       "      <td>NaN</td>\n",
       "      <td>2019-09-14T00:43:01Z</td>\n",
       "      <td>...</td>\n",
       "      <td>TRAP</td>\n",
       "      <td>https://api.soundcloud.com/playlists/219984317</td>\n",
       "      <td>67144491</td>\n",
       "      <td>NaN</td>\n",
       "      <td>False</td>\n",
       "      <td>NaN</td>\n",
       "      <td>2016-04-27T20:48:33Z</td>\n",
       "      <td>451</td>\n",
       "      <td>/mido-tito-3/sets/trap</td>\n",
       "      <td>129314155,135305728,246223836,167311586,215001...</td>\n",
       "    </tr>\n",
       "    <tr>\n",
       "      <th>2</th>\n",
       "      <td>https://i1.sndcdn.com/artworks-000145551677-78...</td>\n",
       "      <td>2016-01-21T20:33:40Z</td>\n",
       "      <td>NaN</td>\n",
       "      <td>103645424</td>\n",
       "      <td>all</td>\n",
       "      <td>Electronic</td>\n",
       "      <td>187981092</td>\n",
       "      <td>playlist</td>\n",
       "      <td>NaN</td>\n",
       "      <td>2020-12-31T04:39:57Z</td>\n",
       "      <td>...</td>\n",
       "      <td>trap</td>\n",
       "      <td>https://api.soundcloud.com/playlists/187981092</td>\n",
       "      <td>200955727</td>\n",
       "      <td>NaN</td>\n",
       "      <td>False</td>\n",
       "      <td>NaN</td>\n",
       "      <td>2016-01-21T20:33:40Z</td>\n",
       "      <td>443</td>\n",
       "      <td>/user-548616395/sets/trap</td>\n",
       "      <td>139912840,191292992,186404225,120687919,128871...</td>\n",
       "    </tr>\n",
       "    <tr>\n",
       "      <th>3</th>\n",
       "      <td>NaN</td>\n",
       "      <td>2013-12-21T20:36:56Z</td>\n",
       "      <td>NaN</td>\n",
       "      <td>9434253</td>\n",
       "      <td>none</td>\n",
       "      <td>R&amp;B</td>\n",
       "      <td>17823300</td>\n",
       "      <td>playlist</td>\n",
       "      <td>NaN</td>\n",
       "      <td>2014-06-13T14:04:07Z</td>\n",
       "      <td>...</td>\n",
       "      <td>TripHop</td>\n",
       "      <td>https://api.soundcloud.com/playlists/17823300</td>\n",
       "      <td>71378711</td>\n",
       "      <td>NaN</td>\n",
       "      <td>False</td>\n",
       "      <td>NaN</td>\n",
       "      <td>2013-12-21T20:36:56Z</td>\n",
       "      <td>43</td>\n",
       "      <td>/arjay-jean/sets/triphop</td>\n",
       "      <td>142093,142107,148278,1706674,9748835,23693297,...</td>\n",
       "    </tr>\n",
       "    <tr>\n",
       "      <th>4</th>\n",
       "      <td>https://i1.sndcdn.com/artworks-000366572223-no...</td>\n",
       "      <td>2016-12-29T11:54:48Z</td>\n",
       "      <td>NaN</td>\n",
       "      <td>774233205</td>\n",
       "      <td>all</td>\n",
       "      <td>Drum &amp; Bass</td>\n",
       "      <td>287371313</td>\n",
       "      <td>playlist</td>\n",
       "      <td>NaN</td>\n",
       "      <td>2021-10-23T19:45:45Z</td>\n",
       "      <td>...</td>\n",
       "      <td>drum &amp; bass</td>\n",
       "      <td>https://api.soundcloud.com/playlists/287371313</td>\n",
       "      <td>173639213</td>\n",
       "      <td>NaN</td>\n",
       "      <td>False</td>\n",
       "      <td>2016-12-29T11:54:48Z</td>\n",
       "      <td>2016-12-29T11:54:48Z</td>\n",
       "      <td>488</td>\n",
       "      <td>/xj8g5v1h9vp7/sets/dramobass</td>\n",
       "      <td>299477341,62781091,142721736,178940341,1468531...</td>\n",
       "    </tr>\n",
       "  </tbody>\n",
       "</table>\n",
       "<p>5 rows × 33 columns</p>\n",
       "</div>"
      ],
      "text/plain": [
       "                                         artwork_url            created_at  \\\n",
       "0  https://i1.sndcdn.com/artworks-000222467151-9o...  2017-05-13T21:22:32Z   \n",
       "1                                                NaN  2016-04-27T20:48:33Z   \n",
       "2  https://i1.sndcdn.com/artworks-000145551677-78...  2016-01-21T20:33:40Z   \n",
       "3                                                NaN  2013-12-21T20:36:56Z   \n",
       "4  https://i1.sndcdn.com/artworks-000366572223-no...  2016-12-29T11:54:48Z   \n",
       "\n",
       "                                         description   duration embeddable_by  \\\n",
       "0  Thanks for listening and supporting independen...    4438261           all   \n",
       "1                                                NaN  132180964           all   \n",
       "2                                                NaN  103645424           all   \n",
       "3                                                NaN    9434253          none   \n",
       "4                                                NaN  774233205           all   \n",
       "\n",
       "         genre         id      kind label_name         last_modified  ...  \\\n",
       "0   Electronic  322854746  playlist        NaN  2017-05-14T09:32:56Z  ...   \n",
       "1          NaN  219984317  playlist        NaN  2019-09-14T00:43:01Z  ...   \n",
       "2   Electronic  187981092  playlist        NaN  2020-12-31T04:39:57Z  ...   \n",
       "3          R&B   17823300  playlist        NaN  2014-06-13T14:04:07Z  ...   \n",
       "4  Drum & Bass  287371313  playlist        NaN  2021-10-23T19:45:45Z  ...   \n",
       "\n",
       "                                               title  \\\n",
       "0  Gentle Dreams ğŸ›�ï¸� - An Indie/Chill/Electro...   \n",
       "1                                               TRAP   \n",
       "2                                               trap   \n",
       "3                                            TripHop   \n",
       "4                                        drum & bass   \n",
       "\n",
       "                                              uri    user_id set_type  \\\n",
       "0  https://api.soundcloud.com/playlists/322854746   37994022      NaN   \n",
       "1  https://api.soundcloud.com/playlists/219984317   67144491      NaN   \n",
       "2  https://api.soundcloud.com/playlists/187981092  200955727      NaN   \n",
       "3   https://api.soundcloud.com/playlists/17823300   71378711      NaN   \n",
       "4  https://api.soundcloud.com/playlists/287371313  173639213      NaN   \n",
       "\n",
       "  is_album          published_at          display_date track_count  \\\n",
       "0    False  2017-05-13T21:22:32Z  2017-05-13T21:22:32Z          18   \n",
       "1    False                   NaN  2016-04-27T20:48:33Z         451   \n",
       "2    False                   NaN  2016-01-21T20:33:40Z         443   \n",
       "3    False                   NaN  2013-12-21T20:36:56Z          43   \n",
       "4    False  2016-12-29T11:54:48Z  2016-12-29T11:54:48Z         488   \n",
       "\n",
       "                                                 url  \\\n",
       "0  /alexrainbirdmusic/sets/gentle-dreams-an-indie...   \n",
       "1                             /mido-tito-3/sets/trap   \n",
       "2                          /user-548616395/sets/trap   \n",
       "3                           /arjay-jean/sets/triphop   \n",
       "4                       /xj8g5v1h9vp7/sets/dramobass   \n",
       "\n",
       "                                            TracksId  \n",
       "0  310826410,323031761,305445147,295247120,287166...  \n",
       "1  129314155,135305728,246223836,167311586,215001...  \n",
       "2  139912840,191292992,186404225,120687919,128871...  \n",
       "3  142093,142107,148278,1706674,9748835,23693297,...  \n",
       "4  299477341,62781091,142721736,178940341,1468531...  \n",
       "\n",
       "[5 rows x 33 columns]"
      ]
     },
     "execution_count": 45,
     "metadata": {},
     "output_type": "execute_result"
    }
   ],
   "source": [
    "# Xem thông tin 5 dòng đầu tiên\n",
    "playlists.head()"
   ]
  },
  {
   "cell_type": "markdown",
   "id": "14d4a6b1",
   "metadata": {},
   "source": [
    "#### 1.1) Loại bỏ các cột không thật sự cần thiết\n",
    "- Có những cột số có số giá trị NaN(rỗng) quá nhiều và không đóng góp nhiều vào dữ liệu, do đó đối với những cột dữ liệu có số dữ liệu rỗng lớn hơn 40% thì em sẽ xóa cột dữ liệu đó đi.\n",
    "- `del_col_pl` để chứa các cột cần xóa"
   ]
  },
  {
   "cell_type": "code",
   "execution_count": 77,
   "id": "f10387ef",
   "metadata": {
    "ExecuteTime": {
     "end_time": "2021-11-13T11:32:51.021364Z",
     "start_time": "2021-11-13T11:32:50.981187Z"
    },
    "scrolled": true
   },
   "outputs": [
    {
     "name": "stdout",
     "output_type": "stream",
     "text": [
      "Những cột sẽ bị xóa đi là: \n"
     ]
    },
    {
     "data": {
      "text/html": [
       "<div>\n",
       "<style scoped>\n",
       "    .dataframe tbody tr th:only-of-type {\n",
       "        vertical-align: middle;\n",
       "    }\n",
       "\n",
       "    .dataframe tbody tr th {\n",
       "        vertical-align: top;\n",
       "    }\n",
       "\n",
       "    .dataframe thead th {\n",
       "        text-align: right;\n",
       "    }\n",
       "</style>\n",
       "<table border=\"1\" class=\"dataframe\">\n",
       "  <thead>\n",
       "    <tr style=\"text-align: right;\">\n",
       "      <th></th>\n",
       "      <th>Phần trăm (%)</th>\n",
       "    </tr>\n",
       "  </thead>\n",
       "  <tbody>\n",
       "    <tr>\n",
       "      <th>artwork_url</th>\n",
       "      <td>57.094365</td>\n",
       "    </tr>\n",
       "    <tr>\n",
       "      <th>description</th>\n",
       "      <td>84.860828</td>\n",
       "    </tr>\n",
       "    <tr>\n",
       "      <th>label_name</th>\n",
       "      <td>99.592668</td>\n",
       "    </tr>\n",
       "    <tr>\n",
       "      <th>purchase_title</th>\n",
       "      <td>99.660557</td>\n",
       "    </tr>\n",
       "    <tr>\n",
       "      <th>purchase_url</th>\n",
       "      <td>99.592668</td>\n",
       "    </tr>\n",
       "    <tr>\n",
       "      <th>release_date</th>\n",
       "      <td>95.519348</td>\n",
       "    </tr>\n",
       "    <tr>\n",
       "      <th>secret_token</th>\n",
       "      <td>100.000000</td>\n",
       "    </tr>\n",
       "    <tr>\n",
       "      <th>set_type</th>\n",
       "      <td>100.000000</td>\n",
       "    </tr>\n",
       "    <tr>\n",
       "      <th>published_at</th>\n",
       "      <td>44.602851</td>\n",
       "    </tr>\n",
       "  </tbody>\n",
       "</table>\n",
       "</div>"
      ],
      "text/plain": [
       "                Phần trăm (%)\n",
       "artwork_url         57.094365\n",
       "description         84.860828\n",
       "label_name          99.592668\n",
       "purchase_title      99.660557\n",
       "purchase_url        99.592668\n",
       "release_date        95.519348\n",
       "secret_token       100.000000\n",
       "set_type           100.000000\n",
       "published_at        44.602851"
      ]
     },
     "metadata": {},
     "output_type": "display_data"
    }
   ],
   "source": [
    "del_col_pl = []\n",
    "data = {}\n",
    "\n",
    "for col in playlists:\n",
    "    percent = playlists[col].isna().sum() / len(playlists)\n",
    "    if percent > 0.4:\n",
    "        data[col] = [percent * 100]\n",
    "        del_col_pl.append(col)\n",
    "\n",
    "# hiển thị những cột sẽ xóa đi\n",
    "if (len(data) > 0):\n",
    "    print(\"Những cột sẽ bị xóa đi là: \")\n",
    "    table = pd.DataFrame(data)\n",
    "    table.index = [\"Phần trăm (%)\"]\n",
    "    display(table.T)\n",
    "else:\n",
    "    print(\"Không có cột nào sẽ bị xóa đi\")\n",
    "\n",
    "# Xóa các cột ra khỏi data\n",
    "playlists = playlists.drop(del_col_pl, axis=1)"
   ]
  },
  {
   "cell_type": "markdown",
   "id": "7ecc2650",
   "metadata": {},
   "source": [
    "- Xem lại thông tin của `playlists` sau khi đã loại bỏ các cột không cần thiết"
   ]
  },
  {
   "cell_type": "code",
   "execution_count": null,
   "id": "f504b641",
   "metadata": {
    "ExecuteTime": {
     "end_time": "2021-11-13T10:30:12.208088Z",
     "start_time": "2021-11-13T10:30:12.208088Z"
    }
   },
   "outputs": [],
   "source": [
    "print(f'Số dòng và số cột dữ liệu của file playlist.csv {playlists.shape}')\n",
    "print(f'Số dòng dữ liệu {playlists.shape[0]}')\n",
    "print(f'Số cột dữ liệu {playlists.shape[1]}')\n",
    "\n",
    "# Xem thông tin 5 dòng đầu tiên\n",
    "playlists.head()"
   ]
  },
  {
   "cell_type": "markdown",
   "id": "595aa114",
   "metadata": {},
   "source": [
    "#### **1.2) Thông tin về các cột dữ liệu còn lại của `playlists`**"
   ]
  },
  {
   "cell_type": "markdown",
   "id": "77d3b096",
   "metadata": {
    "ExecuteTime": {
     "end_time": "2021-11-13T08:30:52.959667Z",
     "start_time": "2021-11-13T08:30:52.930678Z"
    }
   },
   "source": [
    "|Thuộc tính|Kiểu dữ liệu|     Ý nghĩa của dữ liệu\n",
    "|:-----------:|:----------------:|:---------:|\n",
    "|**created_at**|Thời gian|Thời gian khởi tạo playlist|\n",
    "|**duration**|Số nguyên|Tổng thời gian các track nhạc trong playlist|\n",
    "|**embeddable_by**|Chuỗi|\n",
    "|**genre**|Chuỗi|Thể loại nhạc của playlist|\n",
    "|**id**|Kiểu phân loại|Định danh cho playlist|\n",
    "|**kind**|Chuỗi|Loại user|  \n",
    "|**last_modified**|Thời gian|Lần chỉnh sửa cuối cùng của tác giả| \n",
    "|**license**|Chuỗi|Giấy phép|\n",
    "|**likes_count**|Số nguyên|Số lượt yêu thích của playlist|\n",
    "|**managed_by_feeds**|Luận lý|Playlist có được quản lý bởi Feed|\n",
    "|**permalink**|Chuỗi|  \n",
    "|**permalink_url**|Chuỗi|Đường dẫn đến trang Soundcloud |  \n",
    "|**public**|Luận lý|Playlist có công khai hay không?|   \n",
    "|**reposts_count**|Số nguyên|Số lượt đăng lại playlist|\n",
    "|**sharing**|Chuỗi|Chế độ chia sẻ công khai hay riêng tư|\n",
    "|**tag_list**|Chuỗi|\n",
    "|**title**|Chuỗi|Tiêu đề playlist|    \n",
    "|**uri**|Chuỗi|Đường dẫn API của playlist|    \n",
    "|**user_id**|Kiểu phân loại|Định danh của người sở hữu playlist|\n",
    "|**is_album**|Luận lý|Playlist có phải album hay không|\n",
    "|**display_date**|Thời gian|Thời điểm playlist hiển thị|   \n",
    "|**track_counts**|Số nguyên|Số lượng track trong playlist|\n",
    "|**url**|Chuỗi|Đường dẫn API của playlist|   \n",
    "|**TracksId**|Chuỗi|Danh sách id của các track trong playlist được ngăn cách bởi \",\"|"
   ]
  },
  {
   "cell_type": "markdown",
   "id": "0c02cd55",
   "metadata": {},
   "source": [
    "---"
   ]
  },
  {
   "cell_type": "markdown",
   "id": "a3342923",
   "metadata": {},
   "source": [
    "### **2) Phân tích đối với tập user:**"
   ]
  },
  {
   "cell_type": "markdown",
   "id": "cc7957b2",
   "metadata": {},
   "source": [
    "Sử dụng lại biến `users` (Data Frame) đã khai báo ở B7."
   ]
  },
  {
   "cell_type": "code",
   "execution_count": null,
   "id": "aaeefec4",
   "metadata": {
    "ExecuteTime": {
     "end_time": "2021-11-13T10:30:12.210086Z",
     "start_time": "2021-11-13T10:30:12.210086Z"
    },
    "scrolled": true
   },
   "outputs": [],
   "source": [
    "print(f'Số dòng và số cột dữ liệu của file user.csv {users.shape}')\n",
    "print(f'Số dòng dữ liệu {users.shape[0]}')\n",
    "print(f'Số cột dữ liệu {users.shape[1]}')"
   ]
  },
  {
   "cell_type": "code",
   "execution_count": null,
   "id": "2c469014",
   "metadata": {
    "ExecuteTime": {
     "end_time": "2021-11-13T10:30:12.211087Z",
     "start_time": "2021-11-13T10:30:12.211087Z"
    }
   },
   "outputs": [],
   "source": [
    "# Xem thông tin 5 dòng đầu tiên\n",
    "users.head()"
   ]
  },
  {
   "cell_type": "markdown",
   "id": "c3b3f2c6",
   "metadata": {},
   "source": [
    "#### 2.1) Loại bỏ các cột không thật sự cần thiết\n",
    "- Có những cột số có số giá trị NaN(rỗng) quá nhiều và không đóng góp nhiều vào dữ liệu, do đó đối với những cột dữ liệu có số dữ liệu rỗng lớn hơn 40% thì em sẽ xóa cột dữ liệu đó đi.\n",
    "- `del_col_us` để chứa các cột cần xóa"
   ]
  },
  {
   "cell_type": "code",
   "execution_count": 78,
   "id": "e1e09d73",
   "metadata": {
    "ExecuteTime": {
     "end_time": "2021-11-13T11:33:30.705573Z",
     "start_time": "2021-11-13T11:33:30.657539Z"
    },
    "scrolled": true
   },
   "outputs": [
    {
     "name": "stdout",
     "output_type": "stream",
     "text": [
      "Những cột sẽ bị xóa đi là: \n"
     ]
    },
    {
     "data": {
      "text/html": [
       "<div>\n",
       "<style scoped>\n",
       "    .dataframe tbody tr th:only-of-type {\n",
       "        vertical-align: middle;\n",
       "    }\n",
       "\n",
       "    .dataframe tbody tr th {\n",
       "        vertical-align: top;\n",
       "    }\n",
       "\n",
       "    .dataframe thead th {\n",
       "        text-align: right;\n",
       "    }\n",
       "</style>\n",
       "<table border=\"1\" class=\"dataframe\">\n",
       "  <thead>\n",
       "    <tr style=\"text-align: right;\">\n",
       "      <th></th>\n",
       "      <th>Phần trăm (%)</th>\n",
       "    </tr>\n",
       "  </thead>\n",
       "  <tbody>\n",
       "    <tr>\n",
       "      <th>city</th>\n",
       "      <td>50.670641</td>\n",
       "    </tr>\n",
       "    <tr>\n",
       "      <th>country_code</th>\n",
       "      <td>49.329359</td>\n",
       "    </tr>\n",
       "    <tr>\n",
       "      <th>description</th>\n",
       "      <td>61.475410</td>\n",
       "    </tr>\n",
       "    <tr>\n",
       "      <th>last_name</th>\n",
       "      <td>41.356185</td>\n",
       "    </tr>\n",
       "    <tr>\n",
       "      <th>reposts_count</th>\n",
       "      <td>100.000000</td>\n",
       "    </tr>\n",
       "    <tr>\n",
       "      <th>visuals.tracking</th>\n",
       "      <td>100.000000</td>\n",
       "    </tr>\n",
       "    <tr>\n",
       "      <th>visuals</th>\n",
       "      <td>100.000000</td>\n",
       "    </tr>\n",
       "  </tbody>\n",
       "</table>\n",
       "</div>"
      ],
      "text/plain": [
       "                  Phần trăm (%)\n",
       "city                  50.670641\n",
       "country_code          49.329359\n",
       "description           61.475410\n",
       "last_name             41.356185\n",
       "reposts_count        100.000000\n",
       "visuals.tracking     100.000000\n",
       "visuals              100.000000"
      ]
     },
     "metadata": {},
     "output_type": "display_data"
    }
   ],
   "source": [
    "del_col_us = []\n",
    "data = {}\n",
    "\n",
    "for col in users:\n",
    "    percent = users[col].isna().sum() / len(users)\n",
    "    if percent > 0.4:\n",
    "        data[col] = [percent * 100]\n",
    "        del_col_us.append(col)\n",
    "\n",
    "# hiển thị những cột sẽ xóa đi\n",
    "if (len(data) > 0):\n",
    "    print(\"Những cột sẽ bị xóa đi là: \")\n",
    "    table = pd.DataFrame(data)\n",
    "    table.index = [\"Phần trăm (%)\"]\n",
    "    display(table.T)\n",
    "else:\n",
    "    print(\"Không có cột nào sẽ bị xóa đi\")\n",
    "\n",
    "# Xóa các cột ra khỏi data\n",
    "users = users.drop(del_col_us, axis=1)"
   ]
  },
  {
   "cell_type": "markdown",
   "id": "8e2fd2e9",
   "metadata": {},
   "source": [
    "- Xem lại thông tin của `users` sau khi đã loại bỏ các cột không cần thiết"
   ]
  },
  {
   "cell_type": "code",
   "execution_count": null,
   "id": "ded69a76",
   "metadata": {
    "ExecuteTime": {
     "end_time": "2021-11-13T10:30:12.217087Z",
     "start_time": "2021-11-13T10:30:12.217087Z"
    },
    "scrolled": false
   },
   "outputs": [],
   "source": [
    "print(f'Số dòng và số cột dữ liệu của file user.csv {users.shape}')\n",
    "print(f'Số dòng dữ liệu {users.shape[0]}')\n",
    "print(f'Số cột dữ liệu {users.shape[1]}')\n",
    "\n",
    "# Xem thông tin 5 dòng đầu tiên\n",
    "users.head()"
   ]
  },
  {
   "cell_type": "markdown",
   "id": "84b472af",
   "metadata": {},
   "source": [
    "#### **2.2) Thông tin về các cột dữ liệu còn lại của `users`**"
   ]
  },
  {
   "cell_type": "markdown",
   "id": "6e06ad02",
   "metadata": {
    "ExecuteTime": {
     "end_time": "2021-11-13T08:30:52.959667Z",
     "start_time": "2021-11-13T08:30:52.930678Z"
    }
   },
   "source": [
    "|Thuộc tính|Kiểu dữ liệu|     Ý nghĩa  \n",
    "|:--------:|:-------------:|:-----------:\n",
    "|**avatar_url**|Chuỗi |Đường dẫn đến ản đại diện của user|\n",
    "|**created_at**|Thời gian|Thời gian khởi tạo user|\n",
    "|**id**|Kiểu phân loại|Định danh của user|\n",
    "|**comments_count**|Số nguyên|Số lượt bình luận của user|\n",
    "|**likes_count**|Số nguyên|Số lượt được yêu thích của user|\n",
    "|**followers_count**|Số nguyên|Số lượt theo dõi của user|\n",
    "|**followings_count**|Số nguyên|Số lượt user theo dõi|\n",
    "|**playlist_likes_count**|Số nguyên|Số lượt được yêu thích các playlist của user|\n",
    "|**playlist_count**|Số nguyên|Số playlist của user|\n",
    "|**track_count**|Số nguyên|Số lượng track của user|\n",
    "|**kind**|Chuỗi|Loại đối tượng|\n",
    "|**last_modified**|Thời gian|Lần chỉnh sửa cuối cùng| \n",
    "|**first_name**|Chuỗi|Tên của user|  \n",
    "|**full_name**|Chuỗi|Tên đầy đủ của user| \n",
    "|**username**|Chuỗi|Tên đăng nhập của user|   \n",
    "|**groups_count**|Số nguyên|Số nhóm của user|\n",
    "|**permalink**|Chuỗi|Đường dẫn cố định của tài nguyên| \n",
    "|**permalink_url**|Chuỗi|Đường dẫn đến trang Soundcloud |   \n",
    "|**uri**|Chuỗi|Đường dẫn API của user|    \n",
    "|**url**|Chuỗi|Đường dẫn API của user|    \n",
    "|**urn**|Chuỗi|Đường dẫn API của user|    \n",
    "|**creator_subscriptions**|Chuỗi|Loại thành viên của user|    \n",
    "|**creator_subscription.product.id**|Chuỗi|Loại thành viên của user|    \n",
    "|**badges.pro_unlimited'**|Luận lý|User có phải người dùng pro_unlimited không|\n",
    "|**verified**|Luận lý|Xác thực người dùng|\n",
    "|**visuals.urn**|Chuỗi\n",
    "|**visuals.enabled**|Chuỗi|\n",
    "|**visuals.visuals**|Chuỗi|"
   ]
  },
  {
   "cell_type": "markdown",
   "id": "dfb96c5c",
   "metadata": {},
   "source": [
    "---"
   ]
  },
  {
   "cell_type": "markdown",
   "id": "82167328",
   "metadata": {},
   "source": [
    "### **3) Phân tích đối với tập track:**"
   ]
  },
  {
   "cell_type": "markdown",
   "id": "8c35324b",
   "metadata": {},
   "source": [
    "Sử dụng lại biến `tracks` (Data Frame) đã khai báo ở B8."
   ]
  },
  {
   "cell_type": "code",
   "execution_count": null,
   "id": "213dc210",
   "metadata": {
    "ExecuteTime": {
     "end_time": "2021-11-13T10:30:12.219089Z",
     "start_time": "2021-11-13T10:30:12.219089Z"
    },
    "scrolled": true
   },
   "outputs": [],
   "source": [
    "print(f'Số dòng và số cột dữ liệu của file track.csv {tracks.shape}')\n",
    "print(f'Số dòng dữ liệu {tracks.shape[0]}')\n",
    "print(f'Số cột dữ liệu {tracks.shape[1]}')"
   ]
  },
  {
   "cell_type": "code",
   "execution_count": null,
   "id": "c516d7e6",
   "metadata": {
    "ExecuteTime": {
     "end_time": "2021-11-13T10:30:12.225089Z",
     "start_time": "2021-11-13T10:30:12.225089Z"
    }
   },
   "outputs": [],
   "source": [
    "# Xem thông tin 5 dòng đầu tiên\n",
    "tracks.head()"
   ]
  },
  {
   "cell_type": "markdown",
   "id": "43b20558",
   "metadata": {},
   "source": [
    "#### 3.1) Loại bỏ các cột không thật sự cần thiết\n",
    "- Có những cột số có số giá trị NaN(rỗng) quá nhiều và không đóng góp nhiều vào dữ liệu, do đó đối với những cột dữ liệu có số dữ liệu rỗng lớn hơn 40% thì em sẽ xóa cột dữ liệu đó đi.\n",
    "- `del_col_tr` để chứa các cột cần xóa"
   ]
  },
  {
   "cell_type": "code",
   "execution_count": 80,
   "id": "bb8d08b7",
   "metadata": {
    "ExecuteTime": {
     "end_time": "2021-11-13T11:34:34.200297Z",
     "start_time": "2021-11-13T11:34:34.133254Z"
    },
    "scrolled": false
   },
   "outputs": [
    {
     "name": "stdout",
     "output_type": "stream",
     "text": [
      "Những cột sẽ bị xóa đi là: \n"
     ]
    },
    {
     "data": {
      "text/html": [
       "<div>\n",
       "<style scoped>\n",
       "    .dataframe tbody tr th:only-of-type {\n",
       "        vertical-align: middle;\n",
       "    }\n",
       "\n",
       "    .dataframe tbody tr th {\n",
       "        vertical-align: top;\n",
       "    }\n",
       "\n",
       "    .dataframe thead th {\n",
       "        text-align: right;\n",
       "    }\n",
       "</style>\n",
       "<table border=\"1\" class=\"dataframe\">\n",
       "  <thead>\n",
       "    <tr style=\"text-align: right;\">\n",
       "      <th></th>\n",
       "      <th>Phần trăm (%)</th>\n",
       "    </tr>\n",
       "  </thead>\n",
       "  <tbody>\n",
       "    <tr>\n",
       "      <th>caption</th>\n",
       "      <td>99.646018</td>\n",
       "    </tr>\n",
       "    <tr>\n",
       "      <th>label_name</th>\n",
       "      <td>73.840708</td>\n",
       "    </tr>\n",
       "    <tr>\n",
       "      <th>publisher_metadata</th>\n",
       "      <td>100.000000</td>\n",
       "    </tr>\n",
       "    <tr>\n",
       "      <th>purchase_title</th>\n",
       "      <td>76.530973</td>\n",
       "    </tr>\n",
       "    <tr>\n",
       "      <th>purchase_url</th>\n",
       "      <td>61.132743</td>\n",
       "    </tr>\n",
       "    <tr>\n",
       "      <th>release_date</th>\n",
       "      <td>69.557522</td>\n",
       "    </tr>\n",
       "    <tr>\n",
       "      <th>secret_token</th>\n",
       "      <td>100.000000</td>\n",
       "    </tr>\n",
       "    <tr>\n",
       "      <th>visuals</th>\n",
       "      <td>100.000000</td>\n",
       "    </tr>\n",
       "    <tr>\n",
       "      <th>publisher_metadata.id</th>\n",
       "      <td>40.283186</td>\n",
       "    </tr>\n",
       "    <tr>\n",
       "      <th>publisher_metadata.urn</th>\n",
       "      <td>40.283186</td>\n",
       "    </tr>\n",
       "    <tr>\n",
       "      <th>publisher_metadata.contains_music</th>\n",
       "      <td>58.796460</td>\n",
       "    </tr>\n",
       "    <tr>\n",
       "      <th>publisher_metadata.explicit</th>\n",
       "      <td>84.247788</td>\n",
       "    </tr>\n",
       "    <tr>\n",
       "      <th>publisher_metadata.artist</th>\n",
       "      <td>62.902655</td>\n",
       "    </tr>\n",
       "    <tr>\n",
       "      <th>publisher_metadata.album_title</th>\n",
       "      <td>80.000000</td>\n",
       "    </tr>\n",
       "    <tr>\n",
       "      <th>publisher_metadata.upc_or_ean</th>\n",
       "      <td>84.884956</td>\n",
       "    </tr>\n",
       "    <tr>\n",
       "      <th>publisher_metadata.isrc</th>\n",
       "      <td>63.752212</td>\n",
       "    </tr>\n",
       "    <tr>\n",
       "      <th>publisher_metadata.p_line</th>\n",
       "      <td>84.495575</td>\n",
       "    </tr>\n",
       "    <tr>\n",
       "      <th>publisher_metadata.p_line_for_display</th>\n",
       "      <td>83.433628</td>\n",
       "    </tr>\n",
       "    <tr>\n",
       "      <th>publisher_metadata.writer_composer</th>\n",
       "      <td>83.504425</td>\n",
       "    </tr>\n",
       "    <tr>\n",
       "      <th>publisher_metadata.release_title</th>\n",
       "      <td>79.575221</td>\n",
       "    </tr>\n",
       "    <tr>\n",
       "      <th>publisher_metadata.publisher</th>\n",
       "      <td>86.973451</td>\n",
       "    </tr>\n",
       "    <tr>\n",
       "      <th>publisher_metadata.c_line</th>\n",
       "      <td>90.867257</td>\n",
       "    </tr>\n",
       "    <tr>\n",
       "      <th>publisher_metadata.c_line_for_display</th>\n",
       "      <td>90.831858</td>\n",
       "    </tr>\n",
       "    <tr>\n",
       "      <th>visuals.urn</th>\n",
       "      <td>97.274336</td>\n",
       "    </tr>\n",
       "    <tr>\n",
       "      <th>visuals.enabled</th>\n",
       "      <td>97.274336</td>\n",
       "    </tr>\n",
       "    <tr>\n",
       "      <th>visuals.visuals</th>\n",
       "      <td>97.274336</td>\n",
       "    </tr>\n",
       "    <tr>\n",
       "      <th>visuals.tracking</th>\n",
       "      <td>100.000000</td>\n",
       "    </tr>\n",
       "    <tr>\n",
       "      <th>publisher_metadata.iswc</th>\n",
       "      <td>99.185841</td>\n",
       "    </tr>\n",
       "  </tbody>\n",
       "</table>\n",
       "</div>"
      ],
      "text/plain": [
       "                                       Phần trăm (%)\n",
       "caption                                    99.646018\n",
       "label_name                                 73.840708\n",
       "publisher_metadata                        100.000000\n",
       "purchase_title                             76.530973\n",
       "purchase_url                               61.132743\n",
       "release_date                               69.557522\n",
       "secret_token                              100.000000\n",
       "visuals                                   100.000000\n",
       "publisher_metadata.id                      40.283186\n",
       "publisher_metadata.urn                     40.283186\n",
       "publisher_metadata.contains_music          58.796460\n",
       "publisher_metadata.explicit                84.247788\n",
       "publisher_metadata.artist                  62.902655\n",
       "publisher_metadata.album_title             80.000000\n",
       "publisher_metadata.upc_or_ean              84.884956\n",
       "publisher_metadata.isrc                    63.752212\n",
       "publisher_metadata.p_line                  84.495575\n",
       "publisher_metadata.p_line_for_display      83.433628\n",
       "publisher_metadata.writer_composer         83.504425\n",
       "publisher_metadata.release_title           79.575221\n",
       "publisher_metadata.publisher               86.973451\n",
       "publisher_metadata.c_line                  90.867257\n",
       "publisher_metadata.c_line_for_display      90.831858\n",
       "visuals.urn                                97.274336\n",
       "visuals.enabled                            97.274336\n",
       "visuals.visuals                            97.274336\n",
       "visuals.tracking                          100.000000\n",
       "publisher_metadata.iswc                    99.185841"
      ]
     },
     "metadata": {},
     "output_type": "display_data"
    }
   ],
   "source": [
    "del_col_tr = []\n",
    "data = {}\n",
    "\n",
    "for col in tracks:\n",
    "    percent = tracks[col].isna().sum() / len(tracks)\n",
    "    if percent > 0.4:\n",
    "        data[col] = [percent * 100]\n",
    "        del_col_tr.append(col)\n",
    "\n",
    "# hiển thị những cột sẽ xóa đi\n",
    "if (len(data) > 0):\n",
    "    print(\"Những cột sẽ bị xóa đi là: \")\n",
    "    table = pd.DataFrame(data)\n",
    "    table.index = [\"Phần trăm (%)\"]\n",
    "    display(table.T)\n",
    "else:\n",
    "    print(\"Không có cột nào sẽ bị xóa đi\")\n",
    "\n",
    "# Xóa các cột ra khỏi data\n",
    "tracks = tracks.drop(del_col_tr, axis=1)"
   ]
  },
  {
   "cell_type": "markdown",
   "id": "84488647",
   "metadata": {},
   "source": [
    "- Xem lại thông tin của `tracks` sau khi đã loại bỏ các cột không cần thiết"
   ]
  },
  {
   "cell_type": "code",
   "execution_count": null,
   "id": "61a82355",
   "metadata": {
    "ExecuteTime": {
     "end_time": "2021-11-13T10:30:12.231087Z",
     "start_time": "2021-11-13T10:30:12.231087Z"
    }
   },
   "outputs": [],
   "source": [
    "print(f'Số dòng và số cột dữ liệu của file user.csv {tracks.shape}')\n",
    "print(f'Số dòng dữ liệu {tracks.shape[0]}')\n",
    "print(f'Số cột dữ liệu {tracks.shape[1]}')\n",
    "\n",
    "# Xem thông tin 5 dòng đầu tiên\n",
    "tracks.head()"
   ]
  },
  {
   "cell_type": "markdown",
   "id": "136457a5",
   "metadata": {},
   "source": [
    "#### **3.2) Thông tin về các cột dữ liệu còn lại của `tracks`**"
   ]
  },
  {
   "cell_type": "markdown",
   "id": "6ebfe786",
   "metadata": {
    "ExecuteTime": {
     "end_time": "2021-11-13T08:30:52.959667Z",
     "start_time": "2021-11-13T08:30:52.930678Z"
    }
   },
   "source": [
    "|Thuộc tính|Kiểu dữ liệu|     Ý nghĩa của dữ liệu\n",
    "|:-----------:|:----------------:|:---------:|\n",
    "|**artwork_url**|chuỗi |URL ảnh của track|\n",
    "|**comment_count**|Số nguyên |Số bình luận của một track|\n",
    "|**created_at**|Thời gian |Thời gian khởi tạo của track|\n",
    "|**description**|Chuỗi |Mô tả của track đó do user đăng tải|\n",
    "|**downloadable**|Luận lý |Track có tải về được không?|\n",
    "|**download_count**|Số nguyên |Số lượt tải về của track|\n",
    "|**duration**|Số nguyên |Thời gian phát của track|\n",
    "|**full_duration**|Số nguyên|Thời gian phát của track|\n",
    "|**embeddable_by**|Chuỗi|\n",
    "|**genre**|Chuỗi|Thể loại của track|\n",
    "|**has_downloads_left**|Luận lý|\n",
    "|**id**|Kiểu phân loại|Định danh cho track|\n",
    "|**kind**|Chuỗi|Loại track\n",
    "|**last_modified**|Thời gian|Lần chỉnh sửa cuối cùng của track|\n",
    "|**license likes_count**|Số nguyên|Số lượt like có bản giấy phép của track|\n",
    "|**public**|Luận lý|Có công khai trên soundcloud hay không|\n",
    "|**permalink**|Chuỗi|\n",
    "|**permalink_url**|Chuỗi|Đường dẫn dến trang soundcloud|\n",
    "|**playback_count**|Số nguyên|Số lượt nghe của track|\n",
    "|**public**|Luận lý|Track có được công khai hay không?|\n",
    "|**reposts_count**|Số nguyên|Số lượt đăng lại của track|\n",
    "|**sharing**|Chuỗi|Share đường dẫn của track|\n",
    "|**state**|Chuỗi|Nút trạng thái share đường dẫn của track|\n",
    "|**streamable**|Luận lý|Track có được trực tuyến hay không?|\n",
    "|**tag_list**|Chuỗi|Các danh sách track được gợi tag|\n",
    "|**title**|Chuỗi|Tiêu đề của track|\n",
    "|**track_format**|Chuỗi|Định dạng của track|\n",
    "|**uri**|Chuỗi|Đường dẫn API của track\n",
    "|**urn**|Chuỗi|Đường dẫn API của track\n",
    "|**user_id**|Chuỗi|Người chủ của track\n",
    "|**waveform_url**|Chuỗi|\n",
    "|**display_date**|Thời gian|Thời gian đăng tải track trên track page của user|\n",
    "|**station_urn**|Chuỗi|\n",
    "|**station_permalink**|Chuỗi|\n",
    "|**track_authorization**|Chuỗi|Bản quyền của track|\n",
    "|**monetization_model**|Chuỗi|\n",
    "|**policy**|Chuỗi|Điều khoản, chính sách của track|\n",
    "|**media.transcodings**|Chuỗi|"
   ]
  }
 ],
 "metadata": {
  "kernelspec": {
   "display_name": "Python 3 (ipykernel)",
   "language": "python",
   "name": "python3"
  },
  "language_info": {
   "codemirror_mode": {
    "name": "ipython",
    "version": 3
   },
   "file_extension": ".py",
   "mimetype": "text/x-python",
   "name": "python",
   "nbconvert_exporter": "python",
   "pygments_lexer": "ipython3",
   "version": "3.8.8"
  }
 },
 "nbformat": 4,
 "nbformat_minor": 5
}
